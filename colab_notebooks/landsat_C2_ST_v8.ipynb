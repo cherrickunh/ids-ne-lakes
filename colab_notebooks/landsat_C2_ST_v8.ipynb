{
  "nbformat": 4,
  "nbformat_minor": 0,
  "metadata": {
    "colab": {
      "name": "landsat_C2_ST_v8.ipynb",
      "provenance": [],
      "collapsed_sections": [
        "DBZzaGgqpr8W"
      ],
      "include_colab_link": true
    },
    "kernelspec": {
      "name": "python3",
      "display_name": "Python 3"
    },
    "language_info": {
      "name": "python"
    }
  },
  "cells": [
    {
      "cell_type": "markdown",
      "metadata": {
        "id": "view-in-github",
        "colab_type": "text"
      },
      "source": [
        "<a href=\"https://colab.research.google.com/github/cherrickunh/ids-ne-lakes/blob/master/colab_notebooks/landsat_C2_ST_v7.ipynb\" target=\"_parent\"><img src=\"https://colab.research.google.com/assets/colab-badge.svg\" alt=\"Open In Colab\"/></a>"
      ]
    },
    {
      "cell_type": "markdown",
      "metadata": {
        "id": "tr9ipVEDv7BK"
      },
      "source": [
        "**Version 8**<br>\n",
        "*Last updated: 2022-02-07<p>*\n",
        "christina.herrick@unh.edu<br>\n",
        "steeleb@caryinstitute.org<br>\n",
        "__Please do not distribute__"
      ]
    },
    {
      "cell_type": "markdown",
      "metadata": {
        "id": "psnrRlTjBj2M"
      },
      "source": [
        "# **Initial Setup**\n",
        "\n",
        "This notebook uses the [Google Earth Engine](https://developers.google.com/earth-engine) [Python API](https://developers.google.com/earth-engine/guides/python_install) to extract the surface temperature product from Landsat 4, 5, 7, and 8 Collection 2 images for any water body in the world. \n"
      ]
    },
    {
      "cell_type": "markdown",
      "metadata": {
        "id": "g3zRra91DaEq"
      },
      "source": [
        "## Modules\n",
        "\n",
        "This section of code blocks imports necessary python modules for the notebook to run. You will be prompted to click one or more URLs and be taken to a page to sign in with your Google account. This account must already be authorized to use Google Earth Engine. If you do not already have access, [fill out this application](https://signup.earthengine.google.com/#!/).\n",
        "\n",
        "Copy the unique code(s) provided on the web page when prompted and paste where prompted to finish authorization."
      ]
    },
    {
      "cell_type": "code",
      "metadata": {
        "id": "gh-VYdMKCAkM",
        "cellView": "form"
      },
      "source": [
        "#@markdown __Run this block__ to authorize Colab to authenticate your Google account and give it access to upload files from your local computer ([to be used later](https://colab.research.google.com/drive/1AJFnCB7B7Uev2-0hqIayOb5fkSB0Xn8v#scrollTo=L_Tf54wwIPRy) in the notebook). Once you paste the code, press Enter.\n",
        "from google.colab import auth, files\n",
        "auth.authenticate_user()\n",
        "import gspread\n",
        "from oauth2client.client import GoogleCredentials"
      ],
      "execution_count": 2,
      "outputs": []
    },
    {
      "cell_type": "code",
      "metadata": {
        "id": "STd1_lFcVYMZ",
        "cellView": "form",
        "outputId": "636c3451-b7bc-4cc5-9ea2-02a4ca811e44",
        "colab": {
          "base_uri": "https://localhost:8080/"
        }
      },
      "source": [
        "#@markdown __Run this block__ to connect Colab to your Earth Engine account\n",
        "import ee\n",
        "ee.Authenticate()\n",
        "ee.Initialize()"
      ],
      "execution_count": 3,
      "outputs": [
        {
          "output_type": "stream",
          "name": "stdout",
          "text": [
            "To authorize access needed by Earth Engine, open the following URL in a web browser and follow the instructions. If the web browser does not start automatically, please manually browse the URL below.\n",
            "\n",
            "    https://accounts.google.com/o/oauth2/auth?client_id=517222506229-vsmmajv00ul0bs7p89v5m89qs8eb9359.apps.googleusercontent.com&scope=https%3A%2F%2Fwww.googleapis.com%2Fauth%2Fearthengine+https%3A%2F%2Fwww.googleapis.com%2Fauth%2Fdevstorage.full_control&redirect_uri=urn%3Aietf%3Awg%3Aoauth%3A2.0%3Aoob&response_type=code&code_challenge=9b6asNpuuxreWQP1QLTO5hcTyp7AOXC3u8S7q3qoN3Q&code_challenge_method=S256\n",
            "\n",
            "The authorization workflow will generate a code, which you should paste in the box below. \n",
            "Enter verification code: 4/1AX4XfWja7Y0U3gSD_BNhdi1nG8twCUJdtEz_9C-V71Gtb3HMi7FUU03t1HM\n",
            "\n",
            "Successfully saved authorization token.\n"
          ]
        }
      ]
    },
    {
      "cell_type": "code",
      "metadata": {
        "id": "SaB_g_reJG41",
        "cellView": "form",
        "outputId": "1c383411-b0cd-48b2-f8bc-0515835672ea",
        "colab": {
          "base_uri": "https://localhost:8080/"
        }
      },
      "source": [
        "#@markdown __Run this block__ to connect Colab to your Google Drive\n",
        "from google.colab import drive\n",
        "drive.mount('/content/drive', force_remount=False)"
      ],
      "execution_count": 4,
      "outputs": [
        {
          "output_type": "stream",
          "name": "stdout",
          "text": [
            "Mounted at /content/drive\n"
          ]
        }
      ]
    },
    {
      "cell_type": "code",
      "metadata": {
        "id": "8SN2nSfHBF1S",
        "cellView": "form",
        "outputId": "427f918b-6f5f-47c1-de6b-1ae1af2e1e6c",
        "colab": {
          "base_uri": "https://localhost:8080/"
        }
      },
      "source": [
        "#@markdown __Run this block__ to install packages and functions used for \n",
        "#@markdown interactive mapping and data exploration\n",
        "import pandas as pd\n",
        "import numpy as np\n",
        "import os\n",
        "import re\n",
        "import matplotlib.pyplot as plt\n",
        "from time import strftime, sleep\n",
        "from datetime import datetime, timedelta\n",
        "import pytz\n",
        "import folium\n",
        "from folium import plugins\n",
        "from google.colab import data_table\n",
        "\n",
        "# Add custom basemaps to folium\n",
        "basemaps = {\n",
        "    'Google Maps': folium.TileLayer(\n",
        "        tiles = 'https://mt1.google.com/vt/lyrs=m&x={x}&y={y}&z={z}',\n",
        "        attr = 'Google',\n",
        "        name = 'Google Maps',\n",
        "        overlay = True,\n",
        "        control = True\n",
        "    ),\n",
        "    'Google Satellite': folium.TileLayer(\n",
        "        tiles = 'https://mt1.google.com/vt/lyrs=s&x={x}&y={y}&z={z}',\n",
        "        attr = 'Google',\n",
        "        name = 'Google Satellite',\n",
        "        overlay = True,\n",
        "        control = True\n",
        "    ),\n",
        "    'Google Terrain': folium.TileLayer(\n",
        "        tiles = 'https://mt1.google.com/vt/lyrs=p&x={x}&y={y}&z={z}',\n",
        "        attr = 'Google',\n",
        "        name = 'Google Terrain',\n",
        "        overlay = True,\n",
        "        control = True\n",
        "    ),\n",
        "    'Google Satellite Hybrid': folium.TileLayer(\n",
        "        tiles = 'https://mt1.google.com/vt/lyrs=y&x={x}&y={y}&z={z}',\n",
        "        attr = 'Google',\n",
        "        name = 'Google Satellite',\n",
        "        overlay = True,\n",
        "        control = True\n",
        "    ),\n",
        "    'Esri Satellite': folium.TileLayer(\n",
        "        tiles = 'https://server.arcgisonline.com/ArcGIS/rest/services/World_Imagery/MapServer/tile/{z}/{y}/{x}',\n",
        "        attr = 'Esri',\n",
        "        name = 'Esri Satellite',\n",
        "        overlay = True,\n",
        "        control = True\n",
        "    )\n",
        "}\n",
        "\n",
        "# Define a method for displaying Earth Engine image tiles on a folium map.\n",
        "def add_ee_layer(self, ee_object, vis_params, name):\n",
        "    \n",
        "    try:    \n",
        "        # display ee.Image()\n",
        "        if isinstance(ee_object, ee.image.Image):    \n",
        "            map_id_dict = ee.Image(ee_object).getMapId(vis_params)\n",
        "            folium.raster_layers.TileLayer(\n",
        "            tiles = map_id_dict['tile_fetcher'].url_format,\n",
        "            attr = 'Google Earth Engine',\n",
        "            name = name,\n",
        "            overlay = True,\n",
        "            control = True\n",
        "            ).add_to(self)\n",
        "        # display ee.ImageCollection()\n",
        "        elif isinstance(ee_object, ee.imagecollection.ImageCollection):    \n",
        "            ee_object_new = ee_object.mosaic()\n",
        "            map_id_dict = ee.Image(ee_object_new).getMapId(vis_params)\n",
        "            folium.raster_layers.TileLayer(\n",
        "            tiles = map_id_dict['tile_fetcher'].url_format,\n",
        "            attr = 'Google Earth Engine',\n",
        "            name = name,\n",
        "            overlay = True,\n",
        "            control = True\n",
        "            ).add_to(self)\n",
        "        # display ee.Geometry()\n",
        "        elif isinstance(ee_object, ee.geometry.Geometry):    \n",
        "            folium.GeoJson(\n",
        "            data = ee_object.getInfo(),\n",
        "            name = name,\n",
        "            overlay = True,\n",
        "            control = True\n",
        "        ).add_to(self)\n",
        "        # display ee.FeatureCollection()\n",
        "        elif isinstance(ee_object, ee.featurecollection.FeatureCollection):  \n",
        "            ee_object_new = ee.Image().paint(ee_object, 0, 2)\n",
        "            map_id_dict = ee.Image(ee_object_new).getMapId(vis_params)\n",
        "            folium.raster_layers.TileLayer(\n",
        "            tiles = map_id_dict['tile_fetcher'].url_format,\n",
        "            attr = 'Google Earth Engine',\n",
        "            name = name,\n",
        "            overlay = True,\n",
        "            control = True\n",
        "        ).add_to(self)\n",
        "    \n",
        "    except:\n",
        "        print(\"Could not display {}\".format(name))\n",
        "    \n",
        "# Add EE drawing method to folium.\n",
        "folium.Map.add_ee_layer = add_ee_layer\n",
        "\n",
        "print(\"Packages installed\")"
      ],
      "execution_count": 5,
      "outputs": [
        {
          "output_type": "stream",
          "name": "stdout",
          "text": [
            "Packages installed\n"
          ]
        }
      ]
    },
    {
      "cell_type": "markdown",
      "metadata": {
        "id": "1C4zmuTIA8SR"
      },
      "source": [
        "## Imported variables\n",
        "These are Landsat-specific variable settings for GEE."
      ]
    },
    {
      "cell_type": "code",
      "metadata": {
        "id": "CkiZcezXBEG5",
        "cellView": "form",
        "outputId": "ecc28750-5983-4d9f-ef43-c5ada835b704",
        "colab": {
          "base_uri": "https://localhost:8080/"
        }
      },
      "source": [
        "#@markdown __Run this block__ to import pre-existing features, images, and collections from Earth Engine\n",
        "wrs2 = ee.FeatureCollection(\"users/christinaherrickunh/WRS2_descending_2018\")\n",
        "utmbounds = ee.FeatureCollection(\"users/christinaherrickunh/UTM_Zone_Boundaries\")\n",
        "sw = ee.Image(\"JRC/GSW1_2/GlobalSurfaceWater\")\n",
        "openwater = sw.select(\"occurrence\")\n",
        "l4t1 = ee.ImageCollection(\"LANDSAT/LT04/C02/T1_L2\")\n",
        "l4t2 = ee.ImageCollection(\"LANDSAT/LT04/C02/T2_L2\")\n",
        "l5t1 = ee.ImageCollection(\"LANDSAT/LT05/C02/T1_L2\")\n",
        "l5t2 = ee.ImageCollection(\"LANDSAT/LT05/C02/T2_L2\")\n",
        "l7t1 = ee.ImageCollection(\"LANDSAT/LE07/C02/T1_L2\")\n",
        "l7t2 = ee.ImageCollection(\"LANDSAT/LE07/C02/T2_L2\")\n",
        "l8t1 = ee.ImageCollection(\"LANDSAT/LC08/C02/T1_L2\")\n",
        "l8t2 = ee.ImageCollection(\"LANDSAT/LC08/C02/T2_L2\")\n",
        "\n",
        "\n",
        "def prep457bands(img):\n",
        "  systime = img.get('system:time_start')\n",
        "  elev = img.get(\"SUN_ELEVATION\")\n",
        "  sza = ee.Number(90).subtract(elev)\n",
        "  \n",
        "  qa = img.select([\"QA_PIXEL\"])\n",
        "  cloud1 = qa.bitwiseAnd(2).eq(0)  # bit 1, dilated cloud\n",
        "  cloud3 = qa.bitwiseAnd(8).eq(0)  # bit 3, cloud\n",
        "  snow = qa.bitwiseAnd(32).eq(0)  # bit 5, snow\n",
        "  cloud_confid = qa.rightShift(8).bitwiseAnd(3).lt(2)  # bits 8-9\n",
        "  snow_confid = qa.rightShift(12).bitwiseAnd(3).lt(2)  # bits 12-13\n",
        "  cirrus_confid = qa.rightShift(14).bitwiseAnd(3).lt(2)  # bits 14-15\n",
        "\n",
        "  temp = img.select([\"ST_B6\"],[\"surface_temp\"]).multiply(0.00341802).add(149).add(-273.15)\n",
        "  \n",
        "  updated = (temp.updateMask(cloud1).updateMask(cloud3).updateMask(snow)\n",
        "  .updateMask(cloud_confid).updateMask(snow_confid).updateMask(cirrus_confid))\n",
        "          \n",
        "  return ee.Image(updated).copyProperties(img).set(\"system:time_start\",systime).set(\"SOLAR_ZENITH_ANGLE\", sza)\n",
        "\n",
        "def prep8bands(img):\n",
        "  systime = img.get('system:time_start')\n",
        "  elev = img.get(\"SUN_ELEVATION\")\n",
        "  sza = ee.Number(90).subtract(elev)\n",
        "\n",
        "  qa = img.select([\"QA_PIXEL\"])\n",
        "  cloud1 = qa.bitwiseAnd(2).eq(0)  # bit 1, dilated cloud\n",
        "  cloud2 = qa.bitwiseAnd(4).eq(0)  # bit 2, cirrus (high confidence)\n",
        "  cloud3 = qa.bitwiseAnd(8).eq(0)  # bit 3, cloud\n",
        "  snow = qa.bitwiseAnd(32).eq(0)  # bit 5, snow\n",
        "  cloud_confid = qa.rightShift(8).bitwiseAnd(3).lt(2)  # bits 8-9\n",
        "  snow_confid = qa.rightShift(12).bitwiseAnd(3).lt(2)  # bits 12-13\n",
        "  cirrus_confid = qa.rightShift(14).bitwiseAnd(3).lt(2)  # bits 14-15\n",
        "  \n",
        "  temp = img.select([\"ST_B10\"],[\"surface_temp\"]).multiply(0.00341802).add(149).add(-273.15)\n",
        "  updated = (temp.updateMask(cloud1).updateMask(cloud3).updateMask(snow).\n",
        "             updateMask(cloud_confid).updateMask(snow_confid).updateMask(cirrus_confid))\n",
        "\n",
        "  return ee.Image(updated).copyProperties(img).set(\"system:time_start\",systime).set(\"SOLAR_ZENITH_ANGLE\", sza)\n",
        "\n",
        "\n",
        "print(\"variables and functions imported\")"
      ],
      "execution_count": 60,
      "outputs": [
        {
          "output_type": "stream",
          "name": "stdout",
          "text": [
            "variables and functions imported\n"
          ]
        }
      ]
    },
    {
      "cell_type": "markdown",
      "metadata": {
        "id": "rxgpEciUBKLy"
      },
      "source": [
        "## Define the lake area\n",
        "\n",
        "In this section, use either *Option A*, where you define the bounding box, or *Option B* where you import a shape file of your lake. \n"
      ]
    },
    {
      "cell_type": "markdown",
      "metadata": {
        "id": "9JiuNetjpgpJ"
      },
      "source": [
        "###Option A: use a bounding box\n",
        "If you need help finding your coordinates, try using [OpenStreetMap](https://www.openstreetmap.org/export#map=12/43.3826/-72.0157). The bounding box should be as small as possible while still including the entire lake surface.<p>\n",
        "Enter coordinates to see a map of the bounding box. You can also click on the map to get interactive pop-ups of the latitude (y) and longitude (x), and replace/re-run the coordinates."
      ]
    },
    {
      "cell_type": "code",
      "metadata": {
        "id": "eQX8qmNz_aLM",
        "outputId": "ec7e7598-ff5a-43f9-cf1d-a52693caecee",
        "colab": {
          "base_uri": "https://localhost:8080/",
          "height": 301
        },
        "cellView": "form"
      },
      "source": [
        "#@markdown __Run this block__ after inputting your coordinates below. Note that your coordinates must extend beyond the extent of the lake and can not be a centroid location.\n",
        "#@markdown Do not run this block if you are using Option B\n",
        "\n",
        "#@markdown `lat1` = North\n",
        "lat1 = '39.50299042429256'  #@param {type:\"string\"}\n",
        "#@markdown `lat2` = South\n",
        "lat2 = '39.46165297789037'  #@param {type:\"string\"}\n",
        "#@markdown `lon1` = West\n",
        "lon1 = '-105.13274136199448'  #@param {type:\"string\"}\n",
        "#@markdown `lon2` = East\n",
        "lon2 = '-105.05034390105698'  #@param {type:\"string\"}\n",
        "\n",
        "use_user_input_file = \"no\"\n",
        "try:\n",
        "  lat1 = float(lat1)\n",
        "  lon1 = float(lon1)\n",
        "  lat2 = float(lat2)\n",
        "  lon2 = float(lon2)\n",
        "except ValueError as e:\n",
        "  raise ValueError(\"Coordinates are missing or are not numbers\")\n",
        "box = ee.Geometry.Polygon(\n",
        "    [[[lon1, lat1], # ur\n",
        "      [lon2, lat1], # ul\n",
        "      [lon2, lat2], # ll\n",
        "      [lon1, lat2]]], None, False) # lr\n",
        "center_lat = (lat1+lat2)/2\n",
        "center_lon = (lon1+lon2)/2\n",
        "locs_fig = folium.Figure(width=\"40%\")\n",
        "locs_map = folium.Map(location=[center_lat,center_lon],zoom_start=10).add_to(locs_fig)\n",
        "locs_map.add_child(folium.LatLngPopup())\n",
        "basemaps['Google Maps'].add_to(locs_map)\n",
        "locs_map.add_ee_layer(box,{},'aoi')\n",
        "display(locs_map)"
      ],
      "execution_count": 7,
      "outputs": [
        {
          "output_type": "display_data",
          "data": {
            "text/html": [
              "<div style=\"width:40%;\"><div style=\"position:relative;width:100%;height:0;padding-bottom:60%;\"><span style=\"color:#565656\">Make this Notebook Trusted to load map: File -> Trust Notebook</span><iframe src=\"about:blank\" style=\"position:absolute;width:100%;height:100%;left:0;top:0;border:none !important;\" data-html=%3C%21DOCTYPE%20html%3E%0A%3Chead%3E%20%20%20%20%0A%20%20%20%20%3Cmeta%20http-equiv%3D%22content-type%22%20content%3D%22text/html%3B%20charset%3DUTF-8%22%20/%3E%0A%20%20%20%20%3Cscript%3EL_PREFER_CANVAS%3Dfalse%3B%20L_NO_TOUCH%3Dfalse%3B%20L_DISABLE_3D%3Dfalse%3B%3C/script%3E%0A%20%20%20%20%3Cscript%20src%3D%22https%3A//cdn.jsdelivr.net/npm/leaflet%401.4.0/dist/leaflet.js%22%3E%3C/script%3E%0A%20%20%20%20%3Cscript%20src%3D%22https%3A//code.jquery.com/jquery-1.12.4.min.js%22%3E%3C/script%3E%0A%20%20%20%20%3Cscript%20src%3D%22https%3A//maxcdn.bootstrapcdn.com/bootstrap/3.2.0/js/bootstrap.min.js%22%3E%3C/script%3E%0A%20%20%20%20%3Cscript%20src%3D%22https%3A//cdnjs.cloudflare.com/ajax/libs/Leaflet.awesome-markers/2.0.2/leaflet.awesome-markers.js%22%3E%3C/script%3E%0A%20%20%20%20%3Clink%20rel%3D%22stylesheet%22%20href%3D%22https%3A//cdn.jsdelivr.net/npm/leaflet%401.4.0/dist/leaflet.css%22/%3E%0A%20%20%20%20%3Clink%20rel%3D%22stylesheet%22%20href%3D%22https%3A//maxcdn.bootstrapcdn.com/bootstrap/3.2.0/css/bootstrap.min.css%22/%3E%0A%20%20%20%20%3Clink%20rel%3D%22stylesheet%22%20href%3D%22https%3A//maxcdn.bootstrapcdn.com/bootstrap/3.2.0/css/bootstrap-theme.min.css%22/%3E%0A%20%20%20%20%3Clink%20rel%3D%22stylesheet%22%20href%3D%22https%3A//maxcdn.bootstrapcdn.com/font-awesome/4.6.3/css/font-awesome.min.css%22/%3E%0A%20%20%20%20%3Clink%20rel%3D%22stylesheet%22%20href%3D%22https%3A//cdnjs.cloudflare.com/ajax/libs/Leaflet.awesome-markers/2.0.2/leaflet.awesome-markers.css%22/%3E%0A%20%20%20%20%3Clink%20rel%3D%22stylesheet%22%20href%3D%22https%3A//rawcdn.githack.com/python-visualization/folium/master/folium/templates/leaflet.awesome.rotate.css%22/%3E%0A%20%20%20%20%3Cstyle%3Ehtml%2C%20body%20%7Bwidth%3A%20100%25%3Bheight%3A%20100%25%3Bmargin%3A%200%3Bpadding%3A%200%3B%7D%3C/style%3E%0A%20%20%20%20%3Cstyle%3E%23map%20%7Bposition%3Aabsolute%3Btop%3A0%3Bbottom%3A0%3Bright%3A0%3Bleft%3A0%3B%7D%3C/style%3E%0A%20%20%20%20%0A%20%20%20%20%3Cmeta%20name%3D%22viewport%22%20content%3D%22width%3Ddevice-width%2C%0A%20%20%20%20%20%20%20%20initial-scale%3D1.0%2C%20maximum-scale%3D1.0%2C%20user-scalable%3Dno%22%20/%3E%0A%20%20%20%20%3Cstyle%3E%23map_97120538431a494eb2c4d018661eace3%20%7B%0A%20%20%20%20%20%20%20%20position%3A%20relative%3B%0A%20%20%20%20%20%20%20%20width%3A%20100.0%25%3B%0A%20%20%20%20%20%20%20%20height%3A%20100.0%25%3B%0A%20%20%20%20%20%20%20%20left%3A%200.0%25%3B%0A%20%20%20%20%20%20%20%20top%3A%200.0%25%3B%0A%20%20%20%20%20%20%20%20%7D%0A%20%20%20%20%3C/style%3E%0A%3C/head%3E%0A%3Cbody%3E%20%20%20%20%0A%20%20%20%20%0A%20%20%20%20%3Cdiv%20class%3D%22folium-map%22%20id%3D%22map_97120538431a494eb2c4d018661eace3%22%20%3E%3C/div%3E%0A%3C/body%3E%0A%3Cscript%3E%20%20%20%20%0A%20%20%20%20%0A%20%20%20%20%0A%20%20%20%20%20%20%20%20var%20bounds%20%3D%20null%3B%0A%20%20%20%20%0A%0A%20%20%20%20var%20map_97120538431a494eb2c4d018661eace3%20%3D%20L.map%28%0A%20%20%20%20%20%20%20%20%27map_97120538431a494eb2c4d018661eace3%27%2C%20%7B%0A%20%20%20%20%20%20%20%20center%3A%20%5B39.482321701091465%2C%20-105.09154263152573%5D%2C%0A%20%20%20%20%20%20%20%20zoom%3A%2010%2C%0A%20%20%20%20%20%20%20%20maxBounds%3A%20bounds%2C%0A%20%20%20%20%20%20%20%20layers%3A%20%5B%5D%2C%0A%20%20%20%20%20%20%20%20worldCopyJump%3A%20false%2C%0A%20%20%20%20%20%20%20%20crs%3A%20L.CRS.EPSG3857%2C%0A%20%20%20%20%20%20%20%20zoomControl%3A%20true%2C%0A%20%20%20%20%20%20%20%20%7D%29%3B%0A%0A%0A%20%20%20%20%0A%20%20%20%20var%20tile_layer_c953112c6982415fa7540f87e07d41b4%20%3D%20L.tileLayer%28%0A%20%20%20%20%20%20%20%20%27https%3A//%7Bs%7D.tile.openstreetmap.org/%7Bz%7D/%7Bx%7D/%7By%7D.png%27%2C%0A%20%20%20%20%20%20%20%20%7B%0A%20%20%20%20%20%20%20%20%22attribution%22%3A%20null%2C%0A%20%20%20%20%20%20%20%20%22detectRetina%22%3A%20false%2C%0A%20%20%20%20%20%20%20%20%22maxNativeZoom%22%3A%2018%2C%0A%20%20%20%20%20%20%20%20%22maxZoom%22%3A%2018%2C%0A%20%20%20%20%20%20%20%20%22minZoom%22%3A%200%2C%0A%20%20%20%20%20%20%20%20%22noWrap%22%3A%20false%2C%0A%20%20%20%20%20%20%20%20%22opacity%22%3A%201%2C%0A%20%20%20%20%20%20%20%20%22subdomains%22%3A%20%22abc%22%2C%0A%20%20%20%20%20%20%20%20%22tms%22%3A%20false%0A%7D%29.addTo%28map_97120538431a494eb2c4d018661eace3%29%3B%0A%20%20%20%20%0A%20%20%20%20%20%20%20%20%20%20%20%20%20%20%20%20var%20lat_lng_popup_cec14b58381742f890a3c247d50b393a%20%3D%20L.popup%28%29%3B%0A%20%20%20%20%20%20%20%20%20%20%20%20%20%20%20%20function%20latLngPop%28e%29%20%7B%0A%20%20%20%20%20%20%20%20%20%20%20%20%20%20%20%20%20%20%20%20lat_lng_popup_cec14b58381742f890a3c247d50b393a%0A%20%20%20%20%20%20%20%20%20%20%20%20%20%20%20%20%20%20%20%20%20%20%20%20.setLatLng%28e.latlng%29%0A%20%20%20%20%20%20%20%20%20%20%20%20%20%20%20%20%20%20%20%20%20%20%20%20.setContent%28%22Latitude%3A%20%22%20%2B%20e.latlng.lat.toFixed%284%29%20%2B%0A%20%20%20%20%20%20%20%20%20%20%20%20%20%20%20%20%20%20%20%20%20%20%20%20%20%20%20%20%20%20%20%20%20%20%20%20%22%3Cbr%3ELongitude%3A%20%22%20%2B%20e.latlng.lng.toFixed%284%29%29%0A%20%20%20%20%20%20%20%20%20%20%20%20%20%20%20%20%20%20%20%20%20%20%20%20.openOn%28map_97120538431a494eb2c4d018661eace3%29%3B%0A%20%20%20%20%20%20%20%20%20%20%20%20%20%20%20%20%20%20%20%20%7D%0A%20%20%20%20%20%20%20%20%20%20%20%20%20%20%20%20map_97120538431a494eb2c4d018661eace3.on%28%27click%27%2C%20latLngPop%29%3B%0A%20%20%20%20%20%20%20%20%20%20%20%20%0A%20%20%20%20var%20tile_layer_5f41011e1572400f826a95eaf7eca864%20%3D%20L.tileLayer%28%0A%20%20%20%20%20%20%20%20%27https%3A//mt1.google.com/vt/lyrs%3Dm%26x%3D%7Bx%7D%26y%3D%7By%7D%26z%3D%7Bz%7D%27%2C%0A%20%20%20%20%20%20%20%20%7B%0A%20%20%20%20%20%20%20%20%22attribution%22%3A%20%22Google%22%2C%0A%20%20%20%20%20%20%20%20%22detectRetina%22%3A%20false%2C%0A%20%20%20%20%20%20%20%20%22maxNativeZoom%22%3A%2018%2C%0A%20%20%20%20%20%20%20%20%22maxZoom%22%3A%2018%2C%0A%20%20%20%20%20%20%20%20%22minZoom%22%3A%200%2C%0A%20%20%20%20%20%20%20%20%22noWrap%22%3A%20false%2C%0A%20%20%20%20%20%20%20%20%22opacity%22%3A%201%2C%0A%20%20%20%20%20%20%20%20%22subdomains%22%3A%20%22abc%22%2C%0A%20%20%20%20%20%20%20%20%22tms%22%3A%20false%0A%7D%29.addTo%28map_97120538431a494eb2c4d018661eace3%29%3B%0A%20%20%20%20%0A%20%20%20%20%20%20%20%20var%20geo_json_26302ef3876c42c1b801ad21a891d9d2%20%3D%20L.geoJson%28%0A%20%20%20%20%20%20%20%20%20%20%20%20%7B%22features%22%3A%20%5B%7B%22geometry%22%3A%20%7B%22coordinates%22%3A%20%5B%5B%5B-105.13274136199448%2C%2039.50299042429256%5D%2C%20%5B-105.05034390105698%2C%2039.50299042429256%5D%2C%20%5B-105.05034390105698%2C%2039.46165297789037%5D%2C%20%5B-105.13274136199448%2C%2039.46165297789037%5D%2C%20%5B-105.13274136199448%2C%2039.50299042429256%5D%5D%5D%2C%20%22geodesic%22%3A%20false%2C%20%22type%22%3A%20%22Polygon%22%7D%2C%20%22properties%22%3A%20%7B%22highlight%22%3A%20%7B%7D%2C%20%22style%22%3A%20%7B%7D%7D%2C%20%22type%22%3A%20%22Feature%22%7D%5D%2C%20%22type%22%3A%20%22FeatureCollection%22%7D%2C%0A%20%20%20%20%20%20%20%20%20%20%20%20%7B%0A%20%20%20%20%20%20%20%20%20%20%20%20%7D%0A%20%20%20%20%20%20%20%20%29.addTo%28map_97120538431a494eb2c4d018661eace3%20%29%3B%0A%20%20%20%20%20%20%20%20geo_json_26302ef3876c42c1b801ad21a891d9d2.setStyle%28function%28feature%29%20%7Breturn%20feature.properties.style%3B%7D%29%3B%0A%20%20%20%20%20%20%20%20%0A%3C/script%3E onload=\"this.contentDocument.open();this.contentDocument.write(    decodeURIComponent(this.getAttribute('data-html')));this.contentDocument.close();\" allowfullscreen webkitallowfullscreen mozallowfullscreen></iframe></div></div>"
            ],
            "text/plain": [
              "<folium.folium.Map at 0x7fdd90273d10>"
            ]
          },
          "metadata": {}
        }
      ]
    },
    {
      "cell_type": "markdown",
      "metadata": {
        "id": "DBZzaGgqpr8W"
      },
      "source": [
        "###Option B: upload a table file\n",
        "Using your Google Earth Engine account, upload a shapefile or csv of your study lake to your Assets and link to it here.<p>Click [here](https://drive.google.com/file/d/1lfFoZzQD_wAA7Bnil7mI4zwjKDG5kegh/view?usp=sharing) and [here](https://drive.google.com/file/d/1KNaZV63J_LUp6X1OcoLX1wonF0ASiIzi/view?usp=sharing) for screenshots of the process. "
      ]
    },
    {
      "cell_type": "code",
      "metadata": {
        "id": "e0lONKBvqAUp",
        "cellView": "form",
        "colab": {
          "base_uri": "https://localhost:8080/"
        },
        "outputId": "e3ddfb5a-29f1-4070-edfd-b67df1dfee88"
      },
      "source": [
        "#@markdown Copy the asset path from Google Earth Engine and change\n",
        "#@markdown dropdown to `yes`.\n",
        "#@markdown File path should begin with 'users/'\n",
        "user_input_file = \"\" #@param {type: \"string\"}\n",
        "use_user_input_file = \"no\" #@param [\"yes\",\"no\"] {allow-input: false}\n",
        "#@markdown Remember to __run this block__ after filling in the above fields.\n",
        "#@markdown Do not run this block if you are using Option A.\n",
        "\n",
        "if len(user_input_file)>1:\n",
        "  shp = ee.FeatureCollection(user_input_file).geometry()\n",
        "  centroid = shp.centroid(10).getInfo()[\"coordinates\"]\n",
        "  center_lat = centroid[1]\n",
        "  center_lon = centroid[0]\n",
        "  print(center_lat)\n",
        "  print(center_lon)\n",
        "else:\n",
        "  print(\"No file input; will use Opt A bounding box coordinates\")\n",
        "\n",
        "if 'shp' in globals() or 'shp' in locals():\n",
        "  shp_map = folium.Map(location=[center_lat,center_lon],zoom_start=10,width=600,height=600)\n",
        "  shp_map.add_child(folium.LatLngPopup())\n",
        "  basemaps['Google Maps'].add_to(shp_map)\n",
        "  shp_map.add_ee_layer(shp,{},'aoi')\n",
        "  display(shp_map)\n",
        "# else:\n",
        "#   print(\"Display does not apply here; Opt A bounding box is being used for AOI\")"
      ],
      "execution_count": 57,
      "outputs": [
        {
          "output_type": "stream",
          "name": "stdout",
          "text": [
            "No file input; will use Opt A bounding box coordinates\n"
          ]
        }
      ]
    },
    {
      "cell_type": "markdown",
      "metadata": {
        "id": "bDrkGq_jwgIo"
      },
      "source": [
        "## Set remaining user variables\n",
        "\n",
        "This section defines acceptable water persistence and error for the Landsat pixels, the time period of interest, and confirms the path and row for Landsat acquisition. You can also change the default Google Drive folder for any outputs."
      ]
    },
    {
      "cell_type": "code",
      "metadata": {
        "id": "L5s5K2jQm9Zt",
        "cellView": "form",
        "outputId": "0e3968d6-43b1-4f01-9cff-760df6712fef",
        "colab": {
          "base_uri": "https://localhost:8080/"
        }
      },
      "source": [
        "#@markdown We suggest saving the lakeCoSTR data to it's own folder in your Google Drive. \n",
        "#@markdown Replace your lake name where the following prompts read 'LAKENAME'. These folders\n",
        "#@markdown will be automatically created within this script.\n",
        "\n",
        "lake_name = 'LAKENAME' #@param {type:\"string\"}\n",
        "output_dir = \"/content/drive/MyDrive/lakeCoSTR_output/\"+ lake_name\n",
        "\n",
        "#this parses the 'output_dir' string to get last listed subfolder\n",
        "short_dir = lake_name\n",
        "file_prefix = lake_name\n",
        "print(f\"Your data will be saved in {output_dir}\")\n",
        "\n",
        "if not os.path.exists(output_dir):\n",
        "  os.makedirs(output_dir)\n",
        "\n",
        "def check_splcharacter(test):\n",
        "  string_check = re.compile('[@!#$%^&*() <>?/\\|}{~:]')\n",
        "  if not string_check.search(test)==None:\n",
        "    print(\"Your file prefix contains special characters, please fix\")\n",
        "    lake_name = \"LAKENAME\"\n",
        "  else:\n",
        "    print(\"Files will all have the prefix:\",test)\n",
        "\n",
        "check_splcharacter(file_prefix)"
      ],
      "execution_count": 11,
      "outputs": [
        {
          "output_type": "stream",
          "name": "stdout",
          "text": [
            "Your data will be saved in /content/drive/MyDrive/lakeCoSTR_output/LAKENAME\n",
            "Files will all have the prefix: LAKENAME\n"
          ]
        }
      ]
    },
    {
      "cell_type": "code",
      "metadata": {
        "id": "RwhZWCrkVrb0",
        "cellView": "form",
        "outputId": "055f47fd-7dce-43d9-fd95-dbb3edd0cf4d",
        "colab": {
          "base_uri": "https://localhost:8080/",
          "height": 477
        }
      },
      "source": [
        "#@markdown Boundaries of water bodies are automatically detected using the JRC \n",
        "#@markdown Global Surface Water Mapping Layer dataset of percent water occurrence. \n",
        "#@markdown By default, a pixel has to be classified as water at least 55% of the \n",
        "#@markdown time. This is defined as `pctTime`. If your lake of interest experiences \n",
        "#@markdown significant fluctuations of lake level, we suggest using a higher percentage than the default. \n",
        "\n",
        "#@markdown <p>More information on this dataset can be found at https://doi.org/10.1038/nature20584\n",
        "\n",
        "pctTime = 55  #@param {type: \"number\"}\n",
        "#@markdown __Run this block__ after inputting the above parameter\n",
        "\n",
        "water_fig = folium.Figure(width=\"60%\")\n",
        "water_map = folium.Map(location=[center_lat,center_lon],zoom_start=12,tiles=None).add_to(water_fig)\n",
        "water_map.add_child(folium.LatLngPopup())\n",
        "\n",
        "# blues = [\"f7fbff\",\"deebf7\",\"c6dbef\",\"9ecae1\",\"6baed6\",\"4292c6\",\"2171b5\",\"08519c\",\"08306b\"]\n",
        "blues = [\"FFFFFF\",\"08306b\"]\n",
        "\n",
        "# basemaps['Google Satellite'].add_to(water_map)\n",
        "folium.TileLayer('cartodbdark_matter').add_to(water_map)\n",
        "water_map.add_ee_layer(box,{},'aoi')\n",
        "water_map.add_ee_layer(openwater,{\"min\":pctTime, \"max\":100, \"palette\":blues}, 'water presence')\n",
        "# water_map.add_ee_layer(box,{},'aoi')\n",
        "print(\"Occurrence of water detected by Landsat where water is present at least \",pctTime,\"% of the time (in blue)\")\n",
        "print(\"Water occurrence less than \", pctTime, \"% of the time are in white\")\n",
        "display(water_fig)"
      ],
      "execution_count": 58,
      "outputs": [
        {
          "output_type": "stream",
          "name": "stdout",
          "text": [
            "Occurrence of water detected by Landsat where water is present at least  55 % of the time (in blue)\n",
            "Water occurrence less than  55 % of the time are in white\n"
          ]
        },
        {
          "output_type": "display_data",
          "data": {
            "text/html": [
              "<div style=\"width:60%;\"><div style=\"position:relative;width:100%;height:0;padding-bottom:60%;\"><span style=\"color:#565656\">Make this Notebook Trusted to load map: File -> Trust Notebook</span><iframe src=\"about:blank\" style=\"position:absolute;width:100%;height:100%;left:0;top:0;border:none !important;\" data-html=%3C%21DOCTYPE%20html%3E%0A%3Chead%3E%20%20%20%20%0A%20%20%20%20%3Cmeta%20http-equiv%3D%22content-type%22%20content%3D%22text/html%3B%20charset%3DUTF-8%22%20/%3E%0A%20%20%20%20%3Cscript%3EL_PREFER_CANVAS%3Dfalse%3B%20L_NO_TOUCH%3Dfalse%3B%20L_DISABLE_3D%3Dfalse%3B%3C/script%3E%0A%20%20%20%20%3Cscript%20src%3D%22https%3A//cdn.jsdelivr.net/npm/leaflet%401.4.0/dist/leaflet.js%22%3E%3C/script%3E%0A%20%20%20%20%3Cscript%20src%3D%22https%3A//code.jquery.com/jquery-1.12.4.min.js%22%3E%3C/script%3E%0A%20%20%20%20%3Cscript%20src%3D%22https%3A//maxcdn.bootstrapcdn.com/bootstrap/3.2.0/js/bootstrap.min.js%22%3E%3C/script%3E%0A%20%20%20%20%3Cscript%20src%3D%22https%3A//cdnjs.cloudflare.com/ajax/libs/Leaflet.awesome-markers/2.0.2/leaflet.awesome-markers.js%22%3E%3C/script%3E%0A%20%20%20%20%3Clink%20rel%3D%22stylesheet%22%20href%3D%22https%3A//cdn.jsdelivr.net/npm/leaflet%401.4.0/dist/leaflet.css%22/%3E%0A%20%20%20%20%3Clink%20rel%3D%22stylesheet%22%20href%3D%22https%3A//maxcdn.bootstrapcdn.com/bootstrap/3.2.0/css/bootstrap.min.css%22/%3E%0A%20%20%20%20%3Clink%20rel%3D%22stylesheet%22%20href%3D%22https%3A//maxcdn.bootstrapcdn.com/bootstrap/3.2.0/css/bootstrap-theme.min.css%22/%3E%0A%20%20%20%20%3Clink%20rel%3D%22stylesheet%22%20href%3D%22https%3A//maxcdn.bootstrapcdn.com/font-awesome/4.6.3/css/font-awesome.min.css%22/%3E%0A%20%20%20%20%3Clink%20rel%3D%22stylesheet%22%20href%3D%22https%3A//cdnjs.cloudflare.com/ajax/libs/Leaflet.awesome-markers/2.0.2/leaflet.awesome-markers.css%22/%3E%0A%20%20%20%20%3Clink%20rel%3D%22stylesheet%22%20href%3D%22https%3A//rawcdn.githack.com/python-visualization/folium/master/folium/templates/leaflet.awesome.rotate.css%22/%3E%0A%20%20%20%20%3Cstyle%3Ehtml%2C%20body%20%7Bwidth%3A%20100%25%3Bheight%3A%20100%25%3Bmargin%3A%200%3Bpadding%3A%200%3B%7D%3C/style%3E%0A%20%20%20%20%3Cstyle%3E%23map%20%7Bposition%3Aabsolute%3Btop%3A0%3Bbottom%3A0%3Bright%3A0%3Bleft%3A0%3B%7D%3C/style%3E%0A%20%20%20%20%0A%20%20%20%20%3Cmeta%20name%3D%22viewport%22%20content%3D%22width%3Ddevice-width%2C%0A%20%20%20%20%20%20%20%20initial-scale%3D1.0%2C%20maximum-scale%3D1.0%2C%20user-scalable%3Dno%22%20/%3E%0A%20%20%20%20%3Cstyle%3E%23map_5223c07345b1410e995dcd4b9d9981fb%20%7B%0A%20%20%20%20%20%20%20%20position%3A%20relative%3B%0A%20%20%20%20%20%20%20%20width%3A%20100.0%25%3B%0A%20%20%20%20%20%20%20%20height%3A%20100.0%25%3B%0A%20%20%20%20%20%20%20%20left%3A%200.0%25%3B%0A%20%20%20%20%20%20%20%20top%3A%200.0%25%3B%0A%20%20%20%20%20%20%20%20%7D%0A%20%20%20%20%3C/style%3E%0A%3C/head%3E%0A%3Cbody%3E%20%20%20%20%0A%20%20%20%20%0A%20%20%20%20%3Cdiv%20class%3D%22folium-map%22%20id%3D%22map_5223c07345b1410e995dcd4b9d9981fb%22%20%3E%3C/div%3E%0A%3C/body%3E%0A%3Cscript%3E%20%20%20%20%0A%20%20%20%20%0A%20%20%20%20%0A%20%20%20%20%20%20%20%20var%20bounds%20%3D%20null%3B%0A%20%20%20%20%0A%0A%20%20%20%20var%20map_5223c07345b1410e995dcd4b9d9981fb%20%3D%20L.map%28%0A%20%20%20%20%20%20%20%20%27map_5223c07345b1410e995dcd4b9d9981fb%27%2C%20%7B%0A%20%20%20%20%20%20%20%20center%3A%20%5B39.482321701091465%2C%20-105.09154263152573%5D%2C%0A%20%20%20%20%20%20%20%20zoom%3A%2012%2C%0A%20%20%20%20%20%20%20%20maxBounds%3A%20bounds%2C%0A%20%20%20%20%20%20%20%20layers%3A%20%5B%5D%2C%0A%20%20%20%20%20%20%20%20worldCopyJump%3A%20false%2C%0A%20%20%20%20%20%20%20%20crs%3A%20L.CRS.EPSG3857%2C%0A%20%20%20%20%20%20%20%20zoomControl%3A%20true%2C%0A%20%20%20%20%20%20%20%20%7D%29%3B%0A%0A%0A%20%20%20%20%0A%20%20%20%20%0A%20%20%20%20%20%20%20%20%20%20%20%20%20%20%20%20var%20lat_lng_popup_93515a8e7d6d432b9a71e88c009f568a%20%3D%20L.popup%28%29%3B%0A%20%20%20%20%20%20%20%20%20%20%20%20%20%20%20%20function%20latLngPop%28e%29%20%7B%0A%20%20%20%20%20%20%20%20%20%20%20%20%20%20%20%20%20%20%20%20lat_lng_popup_93515a8e7d6d432b9a71e88c009f568a%0A%20%20%20%20%20%20%20%20%20%20%20%20%20%20%20%20%20%20%20%20%20%20%20%20.setLatLng%28e.latlng%29%0A%20%20%20%20%20%20%20%20%20%20%20%20%20%20%20%20%20%20%20%20%20%20%20%20.setContent%28%22Latitude%3A%20%22%20%2B%20e.latlng.lat.toFixed%284%29%20%2B%0A%20%20%20%20%20%20%20%20%20%20%20%20%20%20%20%20%20%20%20%20%20%20%20%20%20%20%20%20%20%20%20%20%20%20%20%20%22%3Cbr%3ELongitude%3A%20%22%20%2B%20e.latlng.lng.toFixed%284%29%29%0A%20%20%20%20%20%20%20%20%20%20%20%20%20%20%20%20%20%20%20%20%20%20%20%20.openOn%28map_5223c07345b1410e995dcd4b9d9981fb%29%3B%0A%20%20%20%20%20%20%20%20%20%20%20%20%20%20%20%20%20%20%20%20%7D%0A%20%20%20%20%20%20%20%20%20%20%20%20%20%20%20%20map_5223c07345b1410e995dcd4b9d9981fb.on%28%27click%27%2C%20latLngPop%29%3B%0A%20%20%20%20%20%20%20%20%20%20%20%20%0A%20%20%20%20var%20tile_layer_ac6528cd81d046569786f396d6e3f4ae%20%3D%20L.tileLayer%28%0A%20%20%20%20%20%20%20%20%27https%3A//cartodb-basemaps-%7Bs%7D.global.ssl.fastly.net/dark_all/%7Bz%7D/%7Bx%7D/%7By%7D.png%27%2C%0A%20%20%20%20%20%20%20%20%7B%0A%20%20%20%20%20%20%20%20%22attribution%22%3A%20null%2C%0A%20%20%20%20%20%20%20%20%22detectRetina%22%3A%20false%2C%0A%20%20%20%20%20%20%20%20%22maxNativeZoom%22%3A%2018%2C%0A%20%20%20%20%20%20%20%20%22maxZoom%22%3A%2018%2C%0A%20%20%20%20%20%20%20%20%22minZoom%22%3A%200%2C%0A%20%20%20%20%20%20%20%20%22noWrap%22%3A%20false%2C%0A%20%20%20%20%20%20%20%20%22opacity%22%3A%201%2C%0A%20%20%20%20%20%20%20%20%22subdomains%22%3A%20%22abc%22%2C%0A%20%20%20%20%20%20%20%20%22tms%22%3A%20false%0A%7D%29.addTo%28map_5223c07345b1410e995dcd4b9d9981fb%29%3B%0A%20%20%20%20%0A%20%20%20%20%20%20%20%20var%20geo_json_7cb99a64c5b44bb19a7c34f8616d76aa%20%3D%20L.geoJson%28%0A%20%20%20%20%20%20%20%20%20%20%20%20%7B%22features%22%3A%20%5B%7B%22geometry%22%3A%20%7B%22coordinates%22%3A%20%5B%5B%5B-105.13274136199448%2C%2039.50299042429256%5D%2C%20%5B-105.05034390105698%2C%2039.50299042429256%5D%2C%20%5B-105.05034390105698%2C%2039.46165297789037%5D%2C%20%5B-105.13274136199448%2C%2039.46165297789037%5D%2C%20%5B-105.13274136199448%2C%2039.50299042429256%5D%5D%5D%2C%20%22geodesic%22%3A%20false%2C%20%22type%22%3A%20%22Polygon%22%7D%2C%20%22properties%22%3A%20%7B%22highlight%22%3A%20%7B%7D%2C%20%22style%22%3A%20%7B%7D%7D%2C%20%22type%22%3A%20%22Feature%22%7D%5D%2C%20%22type%22%3A%20%22FeatureCollection%22%7D%2C%0A%20%20%20%20%20%20%20%20%20%20%20%20%7B%0A%20%20%20%20%20%20%20%20%20%20%20%20%7D%0A%20%20%20%20%20%20%20%20%29.addTo%28map_5223c07345b1410e995dcd4b9d9981fb%20%29%3B%0A%20%20%20%20%20%20%20%20geo_json_7cb99a64c5b44bb19a7c34f8616d76aa.setStyle%28function%28feature%29%20%7Breturn%20feature.properties.style%3B%7D%29%3B%0A%20%20%20%20%20%20%20%20%0A%20%20%20%20var%20tile_layer_9f25752e6c4f429e912ba7341cb5fe7d%20%3D%20L.tileLayer%28%0A%20%20%20%20%20%20%20%20%27https%3A//earthengine.googleapis.com/v1alpha/projects/earthengine-legacy/maps/ed74ecc8bcfe278e492e3f8998b8091b-149c40fcc79353a52e4a0674088be2b2/tiles/%7Bz%7D/%7Bx%7D/%7By%7D%27%2C%0A%20%20%20%20%20%20%20%20%7B%0A%20%20%20%20%20%20%20%20%22attribution%22%3A%20%22Google%20Earth%20Engine%22%2C%0A%20%20%20%20%20%20%20%20%22detectRetina%22%3A%20false%2C%0A%20%20%20%20%20%20%20%20%22maxNativeZoom%22%3A%2018%2C%0A%20%20%20%20%20%20%20%20%22maxZoom%22%3A%2018%2C%0A%20%20%20%20%20%20%20%20%22minZoom%22%3A%200%2C%0A%20%20%20%20%20%20%20%20%22noWrap%22%3A%20false%2C%0A%20%20%20%20%20%20%20%20%22opacity%22%3A%201%2C%0A%20%20%20%20%20%20%20%20%22subdomains%22%3A%20%22abc%22%2C%0A%20%20%20%20%20%20%20%20%22tms%22%3A%20false%0A%7D%29.addTo%28map_5223c07345b1410e995dcd4b9d9981fb%29%3B%0A%3C/script%3E onload=\"this.contentDocument.open();this.contentDocument.write(    decodeURIComponent(this.getAttribute('data-html')));this.contentDocument.close();\" allowfullscreen webkitallowfullscreen mozallowfullscreen></iframe></div></div>"
            ],
            "text/plain": [
              "<branca.element.Figure at 0x7fdd8e6e4ed0>"
            ]
          },
          "metadata": {}
        }
      ]
    },
    {
      "cell_type": "code",
      "metadata": {
        "id": "N9WlKk7iHcRC",
        "cellView": "form",
        "outputId": "c0131cb0-cd04-440b-9e2c-ec61a760d74e",
        "colab": {
          "base_uri": "https://localhost:8080/"
        }
      },
      "source": [
        "#@markdown Landsat scenes from both Tier 1 and Tier 2 of Collection 2 are \n",
        "#@markdown included for possible use. For Tier 2, specify the maximum spatial \n",
        "#@markdown error (in meters) for pixels. Only orthorectified images (L1T) are \n",
        "#@markdown considered.\n",
        "rmse = 24  #@param {type: \"number\"}\n",
        "#@markdown __Run this block__ after inputting the above parameter\n",
        "print(f\"Tier 2 L1T scenes with a maximum root mean square error of {rmse} meters will be considered\")"
      ],
      "execution_count": 13,
      "outputs": [
        {
          "output_type": "stream",
          "name": "stdout",
          "text": [
            "Tier 2 L1T scenes with a maximum root mean square error of 24 meters will be considered\n"
          ]
        }
      ]
    },
    {
      "cell_type": "code",
      "metadata": {
        "id": "ypJaiep9n1F7",
        "cellView": "form",
        "outputId": "c625c11e-82b7-4fc0-b5b3-da1cf3ce83a3",
        "colab": {
          "base_uri": "https://localhost:8080/"
        }
      },
      "source": [
        "#@markdown Landsat records begin in 1984 with Landsat 4 TM. \n",
        "#@markdown Enter the year range that you want to search, as well as months of \n",
        "#@markdown the year. To search all months, `m1 = 1` and `m2 = 12` <p>\n",
        "#@markdown <p>First year (y1) and last year (y2). Years are inclusive, minimum value is 1982. <p>\n",
        "#@markdown <p>First month (m1) and last month (m2). Months are inclusive.<p>\n",
        "#@markdown <p>Note that this method has only been developed for temperature estimation where there is no ice present on the lake. \n",
        "\n",
        "y1 = 2018 #@param {type: \"number\"}\n",
        "y2 = 2020 #@param {type: \"number\"}\n",
        "\n",
        "m1 = 5 #@param {type: \"number\"}\n",
        "m2 =  11#@param {type: \"number\"}\n",
        "print('Script will search years %d through %d and months %d through %d of each year' % (y1,y2,m1,m2))\n",
        "#@markdown __Run this block__ after inputting the above parameters"
      ],
      "execution_count": 14,
      "outputs": [
        {
          "output_type": "stream",
          "name": "stdout",
          "text": [
            "Script will search years 2018 through 2020 and months 5 through 11 of each year\n"
          ]
        }
      ]
    },
    {
      "cell_type": "markdown",
      "metadata": {
        "id": "1xE7MPgvY78u"
      },
      "source": [
        "# **Find water pixels & delineate boundary**\n",
        "This step uses the bounding box or the table file as well as the water persistence using [JRC Water dataset](https://global-surface-water.appspot.com/) to define the waterbody area. \n",
        "\n",
        "Note, in some cases the _Opt A_ bounding box method will include upstream and downstream water areas, particularily where there are rivers that are large enough to be detected by Landsat. To avoid this, use the _Opt B_ table file method. <p>\n",
        "You can explore the JRC Water dataset [here](https://global-surface-water.appspot.com/).<p>"
      ]
    },
    {
      "cell_type": "code",
      "metadata": {
        "id": "V1ljgJffQF1Y",
        "outputId": "f11376ef-f5cb-46a1-b506-b7a85babaf26",
        "colab": {
          "base_uri": "https://localhost:8080/",
          "height": 615
        },
        "cellView": "form"
      },
      "source": [
        "#@markdown This code block reduces the bounding box defined above to the largest water body present, and then counts the 30m pixels within the water body.<p>\n",
        "#@markdown Landsat scenes included in analysis must have a minimum percentage of clear lake pixels available (these are discontinuous pixels). Default is 25%.\n",
        "pctLakeCoverage = 25 #@param {type: \"number\"}\n",
        "#@markdown __Run this block__ after inputting the above parameter\n",
        "\n",
        "if use_user_input_file==\"yes\":\n",
        "  try:\n",
        "    box = shp\n",
        "  except NameError:\n",
        "    raise NameError('''Cannot find user-input file. Are you using Option B or \n",
        "    Opt A bounding box? You may need to correct and rerun.''')\n",
        "\n",
        "wateroccurrence = sw.select(0)\n",
        "water = wateroccurrence.gte(pctTime)\n",
        "water = water.updateMask(water.neq(0))\n",
        "\n",
        "#########################\n",
        "# Find the biggest waterbody in the bounding box\n",
        "def addArea(feature):\n",
        "  # returns area +/- 1sqm\n",
        "  return feature.set({'area':feature.geometry().area(1)})  \n",
        "\n",
        "regions = water.addBands(wateroccurrence).reduceToVectors(\n",
        "    reducer=ee.Reducer.min(),\n",
        "    geometry=box,\n",
        "    scale=30,\n",
        "    maxPixels=5e9,\n",
        "    geometryInNativeProjection=False,\n",
        "    labelProperty='surfaceWater').map(addArea).sort('area',False);\n",
        "\n",
        "lake_outline = ee.Feature(regions.first())\n",
        "geo = lake_outline.geometry()\n",
        "\n",
        "#########################\n",
        "# Find the best utm zone over the lake to generate CRS\n",
        "\n",
        "utm = utmbounds.filterBounds(box)\n",
        "utmJoin = ee.Join.saveBest('matches','best');\n",
        "utmCondition = ee.Filter.intersects(**{\n",
        "    \"rightField\": '.geo',\n",
        "    \"leftField\": '.geo'\n",
        "})\n",
        "utmJoined = utmJoin.apply(lake_outline, utm, utmCondition)\n",
        "\n",
        "getZone = utmJoined.getInfo()[\"features\"][0][\"properties\"][\"matches\"][\"properties\"][\"ZONE\"]\n",
        "getHemi = utmJoined.getInfo()[\"features\"][0][\"properties\"][\"matches\"][\"properties\"][\"HEMISPHERE\"]\n",
        "\n",
        "#indicate hemisphere  \n",
        "if getHemi == 'n':\n",
        "  crs_out = f\"EPSG:326{getZone}\"\n",
        "else:\n",
        "  crs_out = f\"EPSG:327{getZone}\"\n",
        "print(\"Data will be calculated with output CRS:\",crs_out)\n",
        "#########################\n",
        "# print the user some pixel count statistics\n",
        "\n",
        "watercount = water.setDefaultProjection(crs_out).reduceRegion(reducer=ee.Reducer.count().unweighted(), \n",
        "                                geometry=lake_outline.geometry(),\n",
        "                                scale=30, bestEffort=True)\n",
        "lakesurface = watercount.getInfo()[\"occurrence\"]  # total pixels over lake\n",
        "\n",
        "pixel_min = round(lakesurface*(pctLakeCoverage/100.0))\n",
        "print(\"\\nTotal # of lake pixels: \", lakesurface);\n",
        "print(f\"{pctLakeCoverage}% of available lake pixels is\", pixel_min)\n",
        "\n",
        "#########################\n",
        "# Find the overlapping landsat path/rows\n",
        "\n",
        "pathrow = wrs2.filterBounds(box)\n",
        "  \n",
        "num_of_pr = len(pathrow.getInfo()[\"features\"])\n",
        "path_west = 1\n",
        "path_east = 233\n",
        "row_north = 122\n",
        "row_south = 1\n",
        "\n",
        "for i in range(0,num_of_pr):\n",
        "  pr = pathrow.getInfo()[\"features\"][i][\"properties\"][\"PR\"]\n",
        "  p = pr[:3]\n",
        "  r = pr[3:]\n",
        "  if int(p) > path_west:\n",
        "    path_west = int(p)\n",
        "  if int(p) < path_east:\n",
        "    path_east = int(p)\n",
        "  if int(r) < row_north:\n",
        "    row_north = int(r)\n",
        "  if int(r) > row_south:\n",
        "    row_south = int(r)\n",
        "\n",
        "p1 = path_west\n",
        "p2 =  path_east\n",
        "r1 =  row_north\n",
        "r2 =  row_south\n",
        "print(f\"\\nYour lake overlaps {num_of_pr} landsat footprint(s)\")\n",
        "print(f'bounding path(s): {path_west} (west) to {path_east} (east)')\n",
        "print(f'bounding row(s): {row_north} (north) to {row_south} (south)\\n')\n",
        "\n",
        "\n",
        "##### Attempt to find the \"best\" path/row by comparing footprints that completely\n",
        "## contain the lake, or if none completely contain, find the footprint that has\n",
        "## the most overlap\n",
        "\n",
        "footprintJoinAll = ee.Join.saveAll('matches')\n",
        "footprintJoinBest = ee.Join.saveBest(**{'matchKey':'matches','measureKey':'best'})\n",
        "\n",
        "footprintContains = ee.Filter.isContained(**{'rightField':'.geo','leftField':'.geo'})\n",
        "footprintIntersects = ee.Filter.intersects(**{'rightField':'.geo','leftField':'.geo'})\n",
        "\n",
        "allContained = footprintJoinAll.apply(lake_outline,pathrow,footprintContains)\n",
        "anyIntersects = footprintJoinBest.apply(lake_outline,pathrow,footprintIntersects)\n",
        "\n",
        "try:\n",
        "  containedMatches = allContained.getInfo()[\"features\"][0][\"properties\"][\"matches\"]\n",
        "except IndexError:\n",
        "  containedMatches = []\n",
        "\n",
        "intersectedMatches = anyIntersects.getInfo()[\"features\"][0][\"properties\"][\"matches\"]\n",
        "\n",
        "\n",
        "#########################\n",
        "# Display a map\n",
        "\n",
        "pixel_fig = folium.Figure(width=\"50%\")\n",
        "pixel_map = folium.Map(location=[center_lat,center_lon],zoom_start=6).add_to(pixel_fig)\n",
        "basemaps['Google Maps'].add_to(pixel_map)\n",
        "pixel_map.add_ee_layer(pathrow,{},'path row')\n",
        "\n",
        "def addFPtoMap(list_of_fps):\n",
        "  for fp in list_of_fps:\n",
        "    geojson = folium.GeoJson(fp)\n",
        "    fpPath = str(fp[\"properties\"][\"PATH\"])\n",
        "    fpRow = str(fp[\"properties\"][\"ROW\"])\n",
        "    popup = folium.Popup(\"P\"+fpPath+\" R\"+fpRow)\n",
        "    popup.add_to(geojson)\n",
        "    geojson.add_to(pixel_map)\n",
        "\n",
        "if len(containedMatches)>0:\n",
        "  addFPtoMap(containedMatches)\n",
        "  print('''You have one or more footprints that completely contain your lake (blue outline).\n",
        "  If footprints are on the same path, it is recommended to only choose one footprint per path.\n",
        "  If footprints are on the same row, use all footprints on the row.\n",
        "  ''')\n",
        "else:\n",
        "  intersectedMatches = anyIntersects.getInfo()[\"features\"][0][\"properties\"][\"matches\"]\n",
        "  addFPtoMap(intersectedMatches)\n",
        "  print('''\n",
        "  There isn't one fooprint that completely contains your lake. All overlapping scenes are on the map below\n",
        "  (in black). The footprint with the most overlap is highlighted on the map (in blue).\n",
        "  ''')\n",
        "\n",
        "print(\"Click the blue highlighted footprint to see the path/row\")\n",
        "pixel_map.add_ee_layer(lake_outline.geometry(), {}, 'lake area')\n",
        "display(pixel_map)\n"
      ],
      "execution_count": 61,
      "outputs": [
        {
          "output_type": "stream",
          "name": "stdout",
          "text": [
            "Data will be calculated with output CRS: EPSG:32613\n",
            "\n",
            "Total # of lake pixels:  183\n",
            "25% of available lake pixels is 46\n",
            "\n",
            "Your lake overlaps 3 landsat footprint(s)\n",
            "bounding path(s): 34 (west) to 33 (east)\n",
            "bounding row(s): 32 (north) to 33 (south)\n",
            "\n",
            "You have one or more footprints that completely contain your lake (blue outline).\n",
            "  If footprints are on the same path, it is recommended to only choose one footprint per path.\n",
            "  If footprints are on the same row, use all footprints on the row.\n",
            "  \n",
            "Click the blue highlighted footprint to see the path/row\n"
          ]
        },
        {
          "output_type": "display_data",
          "data": {
            "text/html": [
              "<div style=\"width:50%;\"><div style=\"position:relative;width:100%;height:0;padding-bottom:60%;\"><span style=\"color:#565656\">Make this Notebook Trusted to load map: File -> Trust Notebook</span><iframe src=\"about:blank\" style=\"position:absolute;width:100%;height:100%;left:0;top:0;border:none !important;\" data-html=%3C%21DOCTYPE%20html%3E%0A%3Chead%3E%20%20%20%20%0A%20%20%20%20%3Cmeta%20http-equiv%3D%22content-type%22%20content%3D%22text/html%3B%20charset%3DUTF-8%22%20/%3E%0A%20%20%20%20%3Cscript%3EL_PREFER_CANVAS%3Dfalse%3B%20L_NO_TOUCH%3Dfalse%3B%20L_DISABLE_3D%3Dfalse%3B%3C/script%3E%0A%20%20%20%20%3Cscript%20src%3D%22https%3A//cdn.jsdelivr.net/npm/leaflet%401.4.0/dist/leaflet.js%22%3E%3C/script%3E%0A%20%20%20%20%3Cscript%20src%3D%22https%3A//code.jquery.com/jquery-1.12.4.min.js%22%3E%3C/script%3E%0A%20%20%20%20%3Cscript%20src%3D%22https%3A//maxcdn.bootstrapcdn.com/bootstrap/3.2.0/js/bootstrap.min.js%22%3E%3C/script%3E%0A%20%20%20%20%3Cscript%20src%3D%22https%3A//cdnjs.cloudflare.com/ajax/libs/Leaflet.awesome-markers/2.0.2/leaflet.awesome-markers.js%22%3E%3C/script%3E%0A%20%20%20%20%3Clink%20rel%3D%22stylesheet%22%20href%3D%22https%3A//cdn.jsdelivr.net/npm/leaflet%401.4.0/dist/leaflet.css%22/%3E%0A%20%20%20%20%3Clink%20rel%3D%22stylesheet%22%20href%3D%22https%3A//maxcdn.bootstrapcdn.com/bootstrap/3.2.0/css/bootstrap.min.css%22/%3E%0A%20%20%20%20%3Clink%20rel%3D%22stylesheet%22%20href%3D%22https%3A//maxcdn.bootstrapcdn.com/bootstrap/3.2.0/css/bootstrap-theme.min.css%22/%3E%0A%20%20%20%20%3Clink%20rel%3D%22stylesheet%22%20href%3D%22https%3A//maxcdn.bootstrapcdn.com/font-awesome/4.6.3/css/font-awesome.min.css%22/%3E%0A%20%20%20%20%3Clink%20rel%3D%22stylesheet%22%20href%3D%22https%3A//cdnjs.cloudflare.com/ajax/libs/Leaflet.awesome-markers/2.0.2/leaflet.awesome-markers.css%22/%3E%0A%20%20%20%20%3Clink%20rel%3D%22stylesheet%22%20href%3D%22https%3A//rawcdn.githack.com/python-visualization/folium/master/folium/templates/leaflet.awesome.rotate.css%22/%3E%0A%20%20%20%20%3Cstyle%3Ehtml%2C%20body%20%7Bwidth%3A%20100%25%3Bheight%3A%20100%25%3Bmargin%3A%200%3Bpadding%3A%200%3B%7D%3C/style%3E%0A%20%20%20%20%3Cstyle%3E%23map%20%7Bposition%3Aabsolute%3Btop%3A0%3Bbottom%3A0%3Bright%3A0%3Bleft%3A0%3B%7D%3C/style%3E%0A%20%20%20%20%0A%20%20%20%20%3Cmeta%20name%3D%22viewport%22%20content%3D%22width%3Ddevice-width%2C%0A%20%20%20%20%20%20%20%20initial-scale%3D1.0%2C%20maximum-scale%3D1.0%2C%20user-scalable%3Dno%22%20/%3E%0A%20%20%20%20%3Cstyle%3E%23map_a201787c0033475c9ceaaee757ab3486%20%7B%0A%20%20%20%20%20%20%20%20position%3A%20relative%3B%0A%20%20%20%20%20%20%20%20width%3A%20100.0%25%3B%0A%20%20%20%20%20%20%20%20height%3A%20100.0%25%3B%0A%20%20%20%20%20%20%20%20left%3A%200.0%25%3B%0A%20%20%20%20%20%20%20%20top%3A%200.0%25%3B%0A%20%20%20%20%20%20%20%20%7D%0A%20%20%20%20%3C/style%3E%0A%3C/head%3E%0A%3Cbody%3E%20%20%20%20%0A%20%20%20%20%0A%20%20%20%20%3Cdiv%20class%3D%22folium-map%22%20id%3D%22map_a201787c0033475c9ceaaee757ab3486%22%20%3E%3C/div%3E%0A%3C/body%3E%0A%3Cscript%3E%20%20%20%20%0A%20%20%20%20%0A%20%20%20%20%0A%20%20%20%20%20%20%20%20var%20bounds%20%3D%20null%3B%0A%20%20%20%20%0A%0A%20%20%20%20var%20map_a201787c0033475c9ceaaee757ab3486%20%3D%20L.map%28%0A%20%20%20%20%20%20%20%20%27map_a201787c0033475c9ceaaee757ab3486%27%2C%20%7B%0A%20%20%20%20%20%20%20%20center%3A%20%5B39.482321701091465%2C%20-105.09154263152573%5D%2C%0A%20%20%20%20%20%20%20%20zoom%3A%206%2C%0A%20%20%20%20%20%20%20%20maxBounds%3A%20bounds%2C%0A%20%20%20%20%20%20%20%20layers%3A%20%5B%5D%2C%0A%20%20%20%20%20%20%20%20worldCopyJump%3A%20false%2C%0A%20%20%20%20%20%20%20%20crs%3A%20L.CRS.EPSG3857%2C%0A%20%20%20%20%20%20%20%20zoomControl%3A%20true%2C%0A%20%20%20%20%20%20%20%20%7D%29%3B%0A%0A%0A%20%20%20%20%0A%20%20%20%20var%20tile_layer_955471c371e849f1bacc85b4af570950%20%3D%20L.tileLayer%28%0A%20%20%20%20%20%20%20%20%27https%3A//%7Bs%7D.tile.openstreetmap.org/%7Bz%7D/%7Bx%7D/%7By%7D.png%27%2C%0A%20%20%20%20%20%20%20%20%7B%0A%20%20%20%20%20%20%20%20%22attribution%22%3A%20null%2C%0A%20%20%20%20%20%20%20%20%22detectRetina%22%3A%20false%2C%0A%20%20%20%20%20%20%20%20%22maxNativeZoom%22%3A%2018%2C%0A%20%20%20%20%20%20%20%20%22maxZoom%22%3A%2018%2C%0A%20%20%20%20%20%20%20%20%22minZoom%22%3A%200%2C%0A%20%20%20%20%20%20%20%20%22noWrap%22%3A%20false%2C%0A%20%20%20%20%20%20%20%20%22opacity%22%3A%201%2C%0A%20%20%20%20%20%20%20%20%22subdomains%22%3A%20%22abc%22%2C%0A%20%20%20%20%20%20%20%20%22tms%22%3A%20false%0A%7D%29.addTo%28map_a201787c0033475c9ceaaee757ab3486%29%3B%0A%20%20%20%20var%20tile_layer_5f41011e1572400f826a95eaf7eca864%20%3D%20L.tileLayer%28%0A%20%20%20%20%20%20%20%20%27https%3A//mt1.google.com/vt/lyrs%3Dm%26x%3D%7Bx%7D%26y%3D%7By%7D%26z%3D%7Bz%7D%27%2C%0A%20%20%20%20%20%20%20%20%7B%0A%20%20%20%20%20%20%20%20%22attribution%22%3A%20%22Google%22%2C%0A%20%20%20%20%20%20%20%20%22detectRetina%22%3A%20false%2C%0A%20%20%20%20%20%20%20%20%22maxNativeZoom%22%3A%2018%2C%0A%20%20%20%20%20%20%20%20%22maxZoom%22%3A%2018%2C%0A%20%20%20%20%20%20%20%20%22minZoom%22%3A%200%2C%0A%20%20%20%20%20%20%20%20%22noWrap%22%3A%20false%2C%0A%20%20%20%20%20%20%20%20%22opacity%22%3A%201%2C%0A%20%20%20%20%20%20%20%20%22subdomains%22%3A%20%22abc%22%2C%0A%20%20%20%20%20%20%20%20%22tms%22%3A%20false%0A%7D%29.addTo%28map_a201787c0033475c9ceaaee757ab3486%29%3B%0A%20%20%20%20var%20tile_layer_2019f1f4ce3a4195921b390f6aef785b%20%3D%20L.tileLayer%28%0A%20%20%20%20%20%20%20%20%27https%3A//earthengine.googleapis.com/v1alpha/projects/earthengine-legacy/maps/e29188b4a693183c664f2beb96113dbd-dcbc0f6a870c8754a58b78397fb43f83/tiles/%7Bz%7D/%7Bx%7D/%7By%7D%27%2C%0A%20%20%20%20%20%20%20%20%7B%0A%20%20%20%20%20%20%20%20%22attribution%22%3A%20%22Google%20Earth%20Engine%22%2C%0A%20%20%20%20%20%20%20%20%22detectRetina%22%3A%20false%2C%0A%20%20%20%20%20%20%20%20%22maxNativeZoom%22%3A%2018%2C%0A%20%20%20%20%20%20%20%20%22maxZoom%22%3A%2018%2C%0A%20%20%20%20%20%20%20%20%22minZoom%22%3A%200%2C%0A%20%20%20%20%20%20%20%20%22noWrap%22%3A%20false%2C%0A%20%20%20%20%20%20%20%20%22opacity%22%3A%201%2C%0A%20%20%20%20%20%20%20%20%22subdomains%22%3A%20%22abc%22%2C%0A%20%20%20%20%20%20%20%20%22tms%22%3A%20false%0A%7D%29.addTo%28map_a201787c0033475c9ceaaee757ab3486%29%3B%0A%20%20%20%20%0A%20%20%20%20%20%20%20%20var%20geo_json_ca77fa9d66244229b395ea8f55b302ab%20%3D%20L.geoJson%28%0A%20%20%20%20%20%20%20%20%20%20%20%20%7B%22features%22%3A%20%5B%7B%22geometry%22%3A%20%7B%22coordinates%22%3A%20%5B%5B%5B-107.10300106741497%2C%2039.73590115711191%5D%2C%20%5B-107.10283603719047%2C%2039.73587439846191%5D%2C%20%5B-107.06982299383559%2C%2039.73107014629335%5D%2C%20%5B-107.03680983437661%2C%2039.726265883430045%5D%2C%20%5B-107.00379677392664%2C%2039.721461664686764%5D%2C%20%5B-106.97078366718897%2C%2039.71665736988929%5D%2C%20%5B-106.93777063918772%2C%2039.71185306749804%5D%2C%20%5B-106.90475754474488%2C%2039.707048866535914%5D%2C%20%5B-106.87174441888514%2C%2039.70224454303289%5D%2C%20%5B-106.83873129664845%2C%2039.6974403319535%5D%2C%20%5B-106.80571821308992%2C%2039.69263608582614%5D%2C%20%5B-106.77270511327686%2C%2039.68783182350751%5D%2C%20%5B-106.73969203233416%2C%2039.68302755046178%5D%2C%20%5B-106.70667891542595%2C%2039.6782232854525%5D%2C%20%5B-106.67366588771029%2C%2039.67341902067083%5D%2C%20%5B-106.64065271451096%2C%2039.6686147246983%5D%2C%20%5B-106.60763961100643%2C%2039.66381045305437%5D%2C%20%5B-106.574626522517%2C%2039.659006224407165%5D%2C%20%5B-106.54161348434083%2C%2039.65420196757079%5D%2C%20%5B-106.50860035200456%2C%2039.649397714167115%5D%2C%20%5B-106.47558725080054%2C%2039.644593456427884%5D%2C%20%5B-106.44257421611526%2C%2039.63978912307815%5D%2C%20%5B-106.4095611036488%2C%2039.63498489891289%5D%2C%20%5B-106.37654803874076%2C%2039.63018062286581%5D%2C%20%5B-106.34353487722285%2C%2039.62537640290799%5D%2C%20%5B-106.3105218342885%2C%2039.62057206499307%5D%2C%20%5B-106.27750867606592%2C%2039.61576780665143%5D%2C%20%5B-106.24449561776586%2C%2039.61096360741043%5D%2C%20%5B-106.21148251544363%2C%2039.60615934477113%5D%2C%20%5B-106.17846940478589%2C%2039.60135502393161%5D%2C%20%5B-106.14545632149544%2C%2039.596550803746226%5D%2C%20%5B-106.11244321157274%2C%2039.591746548629956%5D%2C%20%5B-106.0794301107979%2C%2039.586942263779065%5D%2C%20%5B-106.04641705496725%2C%2039.58213803127495%5D%2C%20%5B-106.01340399022061%2C%2039.57733371531373%5D%2C%20%5B-105.98039086277554%2C%2039.57252948742345%5D%2C%20%5B-105.94737779821085%2C%2039.567725186406726%5D%2C%20%5B-105.91436465318206%2C%2039.56292091948307%5D%2C%20%5B-105.88135155331659%2C%2039.55811667923777%5D%2C%20%5B-105.8483385346011%2C%2039.55331239395393%5D%2C%20%5B-105.81532536430346%2C%2039.548508183169936%5D%2C%20%5B-105.78231234727333%2C%2039.5437038606786%5D%2C%20%5B-105.74929925090737%2C%2039.53889962286553%5D%2C%20%5B-105.71628611140217%2C%2039.53409539780692%5D%2C%20%5B-105.68327305448501%2C%2039.52929110121503%5D%2C%20%5B-105.65025993734264%2C%2039.52448683986733%5D%2C%20%5B-105.61724679627136%2C%2039.519682541756225%5D%2C%20%5B-105.58423375704882%2C%2039.51487827670266%5D%2C%20%5B-105.55122067706014%2C%2039.51007407432247%5D%2C%20%5B-105.51820759270231%2C%2039.50526978548773%5D%2C%20%5B-105.48519445097543%2C%2039.50046550442613%5D%2C%20%5B-105.45218137775836%2C%2039.49566122396772%5D%2C%20%5B-105.41916823073915%2C%2039.490856973387956%5D%2C%20%5B-105.38615513584796%2C%2039.48605274554718%5D%2C%20%5B-105.35314204027236%2C%2039.48124848038537%5D%2C%20%5B-105.3201289806142%2C%2039.47644418285065%5D%2C%20%5B-105.28711590418159%2C%2039.471639947075495%5D%2C%20%5B-105.25410275836957%2C%2039.466835712780416%5D%2C%20%5B-105.22108966921256%2C%2039.46203139570349%5D%2C%20%5B-105.18807658417568%2C%2039.45722716710503%5D%2C%20%5B-105.1550635400525%2C%2039.452422877487045%5D%2C%20%5B-105.12205039520889%2C%2039.4476186326624%5D%2C%20%5B-105.08903736498985%2C%2039.442814336576646%5D%2C%20%5B-105.05602421868156%2C%2039.43801010678167%5D%2C%20%5B-105.02301117164656%2C%2039.43320584728666%5D%2C%20%5B-104.98999808251929%2C%2039.42840158645522%5D%2C%20%5B-104.98738056665148%2C%2039.436240667506596%5D%2C%20%5B-104.97235294001135%2C%2039.48118239482752%5D%2C%20%5B-104.95732538309394%2C%2039.52612416406342%5D%2C%20%5B-104.94229781025476%2C%2039.57106587091618%5D%2C%20%5B-104.92727022499867%2C%2039.6160076306684%5D%2C%20%5B-104.91224263083143%2C%2039.66094940396812%5D%2C%20%5B-104.89721503125956%2C%2039.70589115130245%5D%2C%20%5B-104.88218742979035%2C%2039.750832909920625%5D%2C%20%5B-104.86715982993184%2C%2039.79577463983029%5D%2C%20%5B-104.85213223519291%2C%2039.840716377695124%5D%2C%20%5B-104.83710464908314%2C%2039.88565815980601%5D%2C%20%5B-104.82207707511296%2C%2039.93059986865801%5D%2C%20%5B-104.80704951679347%2C%2039.975541616770386%5D%2C%20%5B-104.79202188859777%2C%2040.02048337444464%5D%2C%20%5B-104.77699428309454%2C%2040.065425088642094%5D%2C%20%5B-104.76196670379721%2C%2040.11036687075567%5D%2C%20%5B-104.74693915422006%2C%2040.155308602256355%5D%2C%20%5B-104.73191154887363%2C%2040.20025032898442%5D%2C%20%5B-104.71688398029539%2C%2040.24519207330636%5D%2C%20%5B-104.70185636301478%2C%2040.290133880284905%5D%2C%20%5B-104.6868287895535%2C%2040.33507561909399%5D%2C%20%5B-104.67180117445999%2C%2040.38001733434093%5D%2C%20%5B-104.65677361024008%2C%2040.424959123358555%5D%2C%20%5B-104.64174601146122%2C%2040.469900877680196%5D%2C%20%5B-104.62671847061334%2C%2040.51484261794168%5D%2C%20%5B-104.6116908133484%2C%2040.55978432284526%5D%2C%20%5B-104.59666322109254%2C%2040.6047260768718%5D%2C%20%5B-104.5816356973683%2C%2040.649667835159406%5D%2C%20%5B-104.56660806788292%2C%2040.69460957552511%5D%2C%20%5B-104.551580514012%2C%2040.73955130562676%5D%2C%20%5B-104.53655286149977%2C%2040.78449307842297%5D%2C%20%5B-104.52152529168795%2C%2040.82943482521993%5D%2C%20%5B-104.50649771923041%2C%2040.87437658694826%5D%2C%20%5B-104.48900020770547%2C%2040.92669966320474%5D%2C%20%5B-104.52273123885499%2C%2040.931608575544%5D%2C%20%5B-104.55646222417916%2C%2040.93651744366043%5D%2C%20%5B-104.5901932124042%2C%2040.941426402176965%5D%2C%20%5B-104.62392425235626%2C%2040.94633528372971%5D%2C%20%5B-104.65765521503793%2C%2040.95124424574748%5D%2C%20%5B-104.69138623833645%2C%2040.95615310938064%5D%2C%20%5B-104.72511728231495%2C%2040.96106202046154%5D%2C%20%5B-104.75884830705643%2C%2040.965970973962314%5D%2C%20%5B-104.792579272664%2C%2040.97087988951131%5D%2C%20%5B-104.82631031737785%2C%2040.97578881421286%5D%2C%20%5B-104.8600413123791%2C%2040.98069767930948%5D%2C%20%5B-104.89377230698528%2C%2040.98560661880006%5D%2C%20%5B-104.92750335061%2C%2040.990515540517144%5D%2C%20%5B-104.96123431449364%2C%2040.99542445115534%5D%2C%20%5B-104.99496533728%2C%2041.00033332209406%5D%2C%20%5B-105.02869637943915%2C%2041.00524222349088%5D%2C%20%5B-105.06242740146062%2C%2041.01015115021499%5D%2C%20%5B-105.09615836385349%2C%2041.01506009716933%5D%2C%20%5B-105.12988940560021%2C%2041.01996896015986%5D%2C%20%5B-105.16362039811406%2C%2041.024877896440266%5D%2C%20%5B-105.19735139128112%2C%2041.02978681366297%5D%2C%20%5B-105.2310824350794%2C%2041.034695769839225%5D%2C%20%5B-105.26481340097992%2C%2041.03960462142788%5D%2C%20%5B-105.29854442835227%2C%2041.04451356469542%5D%2C%20%5B-105.33227547805838%2C%2041.0494224440208%5D%2C%20%5B-105.36600642162675%2C%2041.05433141664735%5D%2C%20%5B-105.39973748801438%2C%2041.059240290594175%5D%2C%20%5B-105.43346845947076%2C%2041.06414923521442%5D%2C%20%5B-105.4671994757437%2C%2041.069058145724014%5D%2C%20%5B-105.50093049789483%2C%2041.0739670168336%5D%2C%20%5B-105.53466148700446%2C%2041.07887591835507%5D%2C%20%5B-105.56839249362802%2C%2041.08378483267731%5D%2C%20%5B-105.60212347893483%2C%2041.08869375447559%5D%2C%20%5B-105.63585449360284%2C%2041.09360266605134%5D%2C%20%5B-105.66958549888929%2C%2041.09851163706457%5D%2C%20%5B-105.70331654559351%2C%2041.10342049969304%5D%2C%20%5B-105.73704759505966%2C%2041.10832939856701%5D%2C%20%5B-105.77077851909364%2C%2041.11323834082953%5D%2C%20%5B-105.80450954774653%2C%2041.11814728353603%5D%2C%20%5B-105.83824055292685%2C%2041.12305615883318%5D%2C%20%5B-105.87197158570719%2C%2041.12796509860998%5D%2C%20%5B-105.90570260762148%2C%2041.132874022472585%5D%2C%20%5B-105.93943358022175%2C%2041.13778292501338%5D%2C%20%5B-105.9731646443856%2C%2041.14269185030869%5D%2C%20%5B-106.00689558245803%2C%2041.14760074341298%5D%2C%20%5B-106.04062662510158%2C%2041.152509635539%5D%2C%20%5B-106.07435764438209%2C%2041.15741853389654%5D%2C%20%5B-106.10808869175332%2C%2041.16232749499772%5D%2C%20%5B-106.14181963928542%2C%2041.167236376518304%5D%2C%20%5B-106.17555071799325%2C%2041.172145283982076%5D%2C%20%5B-106.20928171028153%2C%2041.177054237554636%5D%2C%20%5B-106.24301266778319%2C%2041.181963144030306%5D%2C%20%5B-106.27674373200227%2C%2041.18687204667846%5D%2C%20%5B-106.31047468535041%2C%2041.19178096585457%5D%2C%20%5B-106.34420575924916%2C%2041.19668985692043%5D%2C%20%5B-106.37793673612995%2C%2041.201598740327135%5D%2C%20%5B-106.41166775773083%2C%2041.2065076590311%5D%2C%20%5B-106.44539878619183%2C%2041.21141660733278%5D%2C%20%5B-106.47912978367016%2C%2041.21632550490259%5D%2C%20%5B-106.5128608022356%2C%2041.22123440758775%5D%2C%20%5B-106.54659180412314%2C%2041.2261433096925%5D%2C%20%5B-106.58032275158492%2C%2041.23105228017124%5D%2C%20%5B-106.61405378676596%2C%2041.23596113753732%5D%2C%20%5B-106.6477847820856%2C%2041.240870113148446%5D%2C%20%5B-106.64799886736277%2C%2041.2409012581019%5D%2C%20%5B-106.65462949848333%2C%2041.218971429894275%5D%2C%20%5B-106.67048609894638%2C%2041.16652346727088%5D%2C%20%5B-106.68329990594324%2C%2041.12413931563384%5D%2C%20%5B-106.69611365234277%2C%2041.08175516092539%5D%2C%20%5B-106.70892742605166%2C%2041.039370942475664%5D%2C%20%5B-106.72174122501572%2C%2040.99698676237092%5D%2C%20%5B-106.73455504718116%2C%2040.954602647798914%5D%2C%20%5B-106.74736880050199%2C%2040.91221841420068%5D%2C%20%5B-106.76018257290718%2C%2040.8698342997209%5D%2C%20%5B-106.77299636234393%2C%2040.827450105757045%5D%2C%20%5B-106.78581016675982%2C%2040.78506593352101%5D%2C%20%5B-106.7986238940895%2C%2040.74268174730135%5D%2C%20%5B-106.81143772230243%2C%2040.700297545966095%5D%2C%20%5B-106.82425146931573%2C%2040.65791338196887%5D%2C%20%5B-106.83706531311996%2C%2040.61552925381556%5D%2C%20%5B-106.8498790716125%2C%2040.57314506285202%5D%2C%20%5B-106.86269283276633%2C%2040.530760895854%5D%2C%20%5B-106.87550659453142%2C%2040.48837670207447%5D%2C%20%5B-106.88832044490678%2C%2040.44599256802277%5D%2C%20%5B-106.90113420175061%2C%2040.403608393898466%5D%2C%20%5B-106.91394795305757%2C%2040.36122419018114%5D%2C%20%5B-106.92676178684282%2C%2040.31884004286694%5D%2C%20%5B-106.93957552093542%2C%2040.27645585126164%5D%2C%20%5B-106.95238933341994%2C%2040.23407168745589%5D%2C%20%5B-106.96520313218497%2C%2040.19168751242789%5D%2C%20%5B-106.97801691518315%2C%2040.14930334918421%5D%2C%20%5B-106.99083068036757%2C%2040.10691914460628%5D%2C%20%5B-107.00364451578517%2C%2040.06453498366963%5D%2C%20%5B-107.01645823920754%2C%2040.02215083996759%5D%2C%20%5B-107.02927202878074%2C%2039.979766632447415%5D%2C%20%5B-107.04208579236573%2C%2039.93738247274445%5D%2C%20%5B-107.05489961803038%2C%2039.89499829293254%5D%2C%20%5B-107.06771341362646%2C%2039.85261412817958%5D%2C%20%5B-107.0805271771095%2C%2039.810229923594804%5D%2C%20%5B-107.09723544186855%2C%2039.75497271766869%5D%2C%20%5B-107.10300106741497%2C%2039.73590115711191%5D%5D%5D%2C%20%22type%22%3A%20%22Polygon%22%7D%2C%20%22id%22%3A%20%22000100000000000008dc%22%2C%20%22properties%22%3A%20%7B%22ACQDayL7%22%3A%20%224%22%2C%20%22ACQDayL8%22%3A%20%2212%22%2C%20%22AREA%22%3A%203.35611%2C%20%22MODE%22%3A%20%22D%22%2C%20%22PATH%22%3A%2034%2C%20%22PERIMETER%22%3A%207.46912%2C%20%22PR%22%3A%20%22034032%22%2C%20%22PR_%22%3A%20528%2C%20%22PR_ID%22%3A%20528%2C%20%22RINGS_NOK%22%3A%200%2C%20%22RINGS_OK%22%3A%201%2C%20%22ROW%22%3A%2032%2C%20%22SEQUENCE%22%3A%2013424%2C%20%22WRSPR%22%3A%20%22034032%22%2C%20%22highlight%22%3A%20%7B%7D%2C%20%22style%22%3A%20%7B%7D%7D%2C%20%22type%22%3A%20%22Feature%22%7D%5D%2C%20%22type%22%3A%20%22FeatureCollection%22%7D%2C%0A%20%20%20%20%20%20%20%20%20%20%20%20%7B%0A%20%20%20%20%20%20%20%20%20%20%20%20%7D%0A%20%20%20%20%20%20%20%20%29.addTo%28map_a201787c0033475c9ceaaee757ab3486%20%29%3B%0A%20%20%20%20%20%20%20%20geo_json_ca77fa9d66244229b395ea8f55b302ab.setStyle%28function%28feature%29%20%7Breturn%20feature.properties.style%3B%7D%29%3B%0A%20%20%20%20%20%20%20%20%0A%20%20%20%20%0A%20%20%20%20%20%20%20%20%20%20%20%20var%20popup_1f8be40235b34983a529523e0262221a%20%3D%20L.popup%28%7BmaxWidth%3A%20%27100%25%27%0A%20%20%20%20%20%20%20%20%20%20%20%20%0A%20%20%20%20%20%20%20%20%20%20%20%20%7D%29%3B%0A%0A%20%20%20%20%20%20%20%20%20%20%20%20%0A%20%20%20%20%20%20%20%20%20%20%20%20%20%20%20%20var%20html_a9ce6deaf69842069bc54e81f9394424%20%3D%20%24%28%60%3Cdiv%20id%3D%22html_a9ce6deaf69842069bc54e81f9394424%22%20style%3D%22width%3A%20100.0%25%3B%20height%3A%20100.0%25%3B%22%3EP34%20R32%3C/div%3E%60%29%5B0%5D%3B%0A%20%20%20%20%20%20%20%20%20%20%20%20%20%20%20%20popup_1f8be40235b34983a529523e0262221a.setContent%28html_a9ce6deaf69842069bc54e81f9394424%29%3B%0A%20%20%20%20%20%20%20%20%20%20%20%20%0A%0A%20%20%20%20%20%20%20%20%20%20%20%20geo_json_ca77fa9d66244229b395ea8f55b302ab.bindPopup%28popup_1f8be40235b34983a529523e0262221a%29%0A%20%20%20%20%20%20%20%20%20%20%20%20%3B%0A%0A%20%20%20%20%20%20%20%20%20%20%20%20%0A%20%20%20%20%20%20%20%20%0A%20%20%20%20%0A%20%20%20%20%20%20%20%20var%20geo_json_748dec1ddd51474fa8e579be77afef0f%20%3D%20L.geoJson%28%0A%20%20%20%20%20%20%20%20%20%20%20%20%7B%22features%22%3A%20%5B%7B%22geometry%22%3A%20%7B%22coordinates%22%3A%20%5B%5B%5B-107.52299927703694%2C%2038.30390098071506%5D%2C%20%5B-107.52227693691549%2C%2038.30379399502573%5D%2C%20%5B-107.48989761035247%2C%2038.299084686164655%5D%2C%20%5B-107.45751829062436%2C%2038.2943753963215%5D%2C%20%5B-107.42513892004763%2C%2038.28966606669543%5D%2C%20%5B-107.39275953123334%2C%2038.28495678069498%5D%2C%20%5B-107.36038024703103%2C%2038.28024745196106%5D%2C%20%5B-107.32800091961703%2C%2038.27553819144604%5D%2C%20%5B-107.29562158167674%2C%2038.27082892644247%5D%2C%20%5B-107.2632421757188%2C%2038.266119597840245%5D%2C%20%5B-107.23086282466919%2C%2038.26141027543033%5D%2C%20%5B-107.19848347108697%2C%2038.25670097820542%5D%2C%20%5B-107.1661041477467%2C%2038.25199171152627%5D%2C%20%5B-107.13372479729357%2C%2038.247282416123554%5D%2C%20%5B-107.10134545256517%2C%2038.24257309727909%5D%2C%20%5B-107.06896614641269%2C%2038.23786383849584%5D%2C%20%5B-107.03658682159474%2C%2038.23315450215422%5D%2C%20%5B-107.00420742093266%2C%2038.22844518509972%5D%2C%20%5B-106.97182806747405%2C%2038.223735879178705%5D%2C%20%5B-106.93944879416163%2C%2038.21902658971538%5D%2C%20%5B-106.90706936378318%2C%2038.21431728370787%5D%2C%20%5B-106.87469007955279%2C%2038.2096080046802%5D%2C%20%5B-106.84231070436208%2C%2038.20489871947828%5D%2C%20%5B-106.80993136134106%2C%2038.20018942000794%5D%2C%20%5B-106.77755199357286%2C%2038.195480124692644%5D%2C%20%5B-106.74517272418989%2C%2038.19077082554967%5D%2C%20%5B-106.71279331637213%2C%2038.18606156725244%5D%2C%20%5B-106.68041398329804%2C%2038.18135225029089%5D%2C%20%5B-106.64803466819859%2C%2038.176642892946234%5D%2C%20%5B-106.61565531437215%2C%2038.17193359180024%5D%2C%20%5B-106.58327595511004%2C%2038.16722435198326%5D%2C%20%5B-106.55089662371797%2C%2038.16251502181301%5D%2C%20%5B-106.51851726361832%2C%2038.15780569777452%5D%2C%20%5B-106.48613790818646%2C%2038.15309646339507%5D%2C%20%5B-106.45375859081221%2C%2038.148387166900456%5D%2C%20%5B-106.42137925504376%2C%2038.14367782624594%5D%2C%20%5B-106.38899993434151%2C%2038.13896852495048%5D%2C%20%5B-106.35662057235261%2C%2038.13425920241481%5D%2C%20%5B-106.32424120260909%2C%2038.129549942150845%5D%2C%20%5B-106.29186185865768%2C%2038.12484067069186%5D%2C%20%5B-106.25948248427483%2C%2038.12013132725995%5D%2C%20%5B-106.22710320285016%2C%2038.115422061229005%5D%2C%20%5B-106.1947238684624%2C%2038.11071274591696%5D%2C%20%5B-106.16234451480403%2C%2038.106003464821136%5D%2C%20%5B-106.12996517558246%2C%2038.10129414432275%5D%2C%20%5B-106.09758579480855%2C%2038.096584880571086%5D%2C%20%5B-106.06520649596072%2C%2038.091875587344255%5D%2C%20%5B-106.03282713342776%2C%2038.087166216046654%5D%2C%20%5B-106.00044774106662%2C%2038.08245692881547%5D%2C%20%5B-105.9680684424008%2C%2038.07774763946852%5D%2C%20%5B-105.93568909199996%2C%2038.07303837786776%5D%2C%20%5B-105.90330972381238%2C%2038.06832907018306%5D%2C%20%5B-105.87093037180172%2C%2038.06361979997287%5D%2C%20%5B-105.83855106994682%2C%2038.05891049343401%5D%2C%20%5B-105.80617167309384%2C%2038.05420118008679%5D%2C%20%5B-105.77379239446226%2C%2038.04949184013065%5D%2C%20%5B-105.74141299944922%2C%2038.04478259403491%5D%2C%20%5B-105.7090337012894%2C%2038.04007326457192%5D%2C%20%5B-105.67665435506385%2C%2038.03536395979818%5D%2C%20%5B-105.64427499498578%2C%2038.030654684491644%5D%2C%20%5B-105.6118956552841%2C%2038.02594536464158%5D%2C%20%5B-105.57951628074142%2C%2038.021236095973144%5D%2C%20%5B-105.5471369056666%2C%2038.016526804415946%5D%2C%20%5B-105.51475756438434%2C%2038.01181749472945%5D%2C%20%5B-105.48237829123488%2C%2038.00710817170055%5D%2C%20%5B-105.44999894178211%2C%2038.00239886411777%5D%2C%20%5B-105.43802843819115%2C%2038.0395031013086%5D%2C%20%5B-105.42605795689218%2C%2038.07660728980147%5D%2C%20%5B-105.41234929736402%2C%2038.119095758528054%5D%2C%20%5B-105.39864065439944%2C%2038.1615843488963%5D%2C%20%5B-105.38493203061266%2C%2038.20407288886122%5D%2C%20%5B-105.37122333926332%2C%2038.246561454396954%5D%2C%20%5B-105.35751467233607%2C%2038.28904994009279%5D%2C%20%5B-105.34380594310589%2C%2038.33153850004043%5D%2C%20%5B-105.33009733287778%2C%2038.37402701657614%5D%2C%20%5B-105.31638866559416%2C%2038.416515576646454%5D%2C%20%5B-105.30267994389392%2C%2038.45900416460111%5D%2C%20%5B-105.28897125972843%2C%2038.50149267439945%5D%2C%20%5B-105.27526261571595%2C%2038.543981246840474%5D%2C%20%5B-105.26155392517785%2C%2038.586469799327%5D%2C%20%5B-105.24784528004534%2C%2038.62895830372456%5D%2C%20%5B-105.23413659365532%2C%2038.67144683365638%5D%2C%20%5B-105.22042795792548%2C%2038.71393543866283%5D%2C%20%5B-105.20671928620838%2C%2038.75642395748267%5D%2C%20%5B-105.19301058114726%2C%2038.79891252926058%5D%2C%20%5B-105.17930193463935%2C%2038.84140104688116%5D%2C%20%5B-105.16559326006085%2C%2038.883889582773946%5D%2C%20%5B-105.15188456005656%2C%2038.92637811930655%5D%2C%20%5B-105.13817592650318%2C%2038.96886670470934%5D%2C%20%5B-105.12446727280057%2C%2039.01135525494005%5D%2C%20%5B-105.11075860159518%2C%2039.05384375189763%5D%2C%20%5B-105.09704991553403%2C%2039.096332332681065%5D%2C%20%5B-105.08334121726466%2C%2039.13882082332713%5D%2C%20%5B-105.06963259862916%2C%2039.181309426248255%5D%2C%20%5B-105.05592388388068%2C%2039.22379791321214%5D%2C%20%5B-105.04221525404881%2C%2039.26628647427324%5D%2C%20%5B-105.02850653341784%2C%2039.308775036011625%5D%2C%20%5B-105.0147979029883%2C%2039.3512635554559%5D%2C%20%5B-105.00108918707573%2C%2039.39375211375429%5D%2C%20%5B-104.98738056665148%2C%2039.436240667506596%5D%2C%20%5B-104.97668985493897%2C%2039.46936957474875%5D%2C%20%5B-104.96599914158534%2C%2039.50249844570348%5D%2C%20%5B-104.99903869498038%2C%2039.50730673658908%5D%2C%20%5B-105.03207815486296%2C%2039.51211507700155%5D%2C%20%5B-105.06511766242234%2C%2039.516923361463256%5D%2C%20%5B-105.09815718059185%2C%2039.52173166228684%5D%2C%20%5B-105.13119667232257%2C%2039.526539974617265%5D%2C%20%5B-105.1642361898289%2C%2039.53134828175604%5D%2C%20%5B-105.19727569615135%2C%2039.536156578819806%5D%2C%20%5B-105.23031515434823%2C%2039.540964860955825%5D%2C%20%5B-105.26335470609249%2C%2039.54577317650358%5D%2C%20%5B-105.29639413595173%2C%2039.55058146736283%5D%2C%20%5B-105.32943367503785%2C%2039.55538976976348%5D%2C%20%5B-105.36247319728662%2C%2039.56019809071803%5D%2C%20%5B-105.3955126659498%2C%2039.56500642530561%5D%2C%20%5B-105.42855213368168%2C%2039.569814679501846%5D%2C%20%5B-105.46159165322265%2C%2039.574622990268175%5D%2C%20%5B-105.49463118797942%2C%2039.579431352553726%5D%2C%20%5B-105.527670701376%2C%2039.58423960737971%5D%2C%20%5B-105.56071015685363%2C%2039.58904790376903%5D%2C%20%5B-105.5937496968092%2C%2039.59385621223504%5D%2C%20%5B-105.62678919533295%2C%2039.59866453996089%5D%2C%20%5B-105.65982870547016%2C%2039.60347286963346%5D%2C%20%5B-105.69286819083062%2C%2039.60828111929321%5D%2C%20%5B-105.72590770457599%2C%2039.613089425370426%5D%2C%20%5B-105.75894721039903%2C%2039.617897782743526%5D%2C%20%5B-105.79198667200944%2C%2039.622706032585235%5D%2C%20%5B-105.82502614271701%2C%2039.62751438800592%5D%2C%20%5B-105.85806567591236%2C%2039.63232267765884%5D%2C%20%5B-105.8911051458369%2C%2039.63713098576299%5D%2C%20%5B-105.92414469557694%2C%2039.64193928212946%5D%2C%20%5B-105.95718419942284%2C%2039.64674757413904%5D%2C%20%5B-105.99022371094233%2C%2039.65155584407559%5D%2C%20%5B-106.02326319410491%2C%2039.656364163555644%5D%2C%20%5B-106.05630270258912%2C%2039.66117251472994%5D%2C%20%5B-106.08934220044374%2C%2039.665980815630874%5D%2C%20%5B-106.12238165173389%2C%2039.67078913783153%5D%2C%20%5B-106.15542120001726%2C%2039.67559737390394%5D%2C%20%5B-106.18846071972939%2C%2039.68040568477478%5D%2C%20%5B-106.22150017502995%2C%2039.685213988518655%5D%2C%20%5B-106.25453970966038%2C%2039.69002233090916%5D%2C%20%5B-106.28757919810458%2C%2039.69483064282198%5D%2C%20%5B-106.32061869442772%2C%2039.69963890613269%5D%2C%20%5B-106.35365816294305%2C%2039.70444726883663%5D%2C%20%5B-106.38669765782097%2C%2039.70925555940465%5D%2C%20%5B-106.41973714345028%2C%2039.714063849143926%5D%2C%20%5B-106.45277667410525%2C%2039.71887211970358%5D%2C%20%5B-106.48581621424918%2C%2039.72368044228765%5D%2C%20%5B-106.51885563846345%2C%2039.72848874806454%5D%2C%20%5B-106.55189518093623%2C%2039.733297068951686%5D%2C%20%5B-106.58493471633653%2C%2039.7381053360839%5D%2C%20%5B-106.61797420923277%2C%2039.742913697147976%5D%2C%20%5B-106.65101371416225%2C%2039.747721980521945%5D%2C%20%5B-106.68405319576611%2C%2039.75253025731808%5D%2C%20%5B-106.7170927086813%2C%2039.757338585333585%5D%2C%20%5B-106.75013221762067%2C%2039.762146882621224%5D%2C%20%5B-106.7831716873125%2C%2039.76695522020352%5D%2C%20%5B-106.81621117252088%2C%2039.77176350284285%5D%2C%20%5B-106.84925063804491%2C%2039.77657180150027%5D%2C%20%5B-106.88229013874549%2C%2039.78138009727204%5D%2C%20%5B-106.91532963949159%2C%2039.786188384630506%5D%2C%20%5B-106.94836919523958%2C%2039.790996720947625%5D%2C%20%5B-106.98140868084225%2C%2039.79580503779328%5D%2C%20%5B-107.01444815131205%2C%2039.800613316167684%5D%2C%20%5B-107.04748766172746%2C%2039.805421613304354%5D%2C%20%5B-107.0805271771095%2C%2039.810229923594804%5D%2C%20%5B-107.08099987154914%2C%2039.81030126626102%5D%2C%20%5B-107.09723544186855%2C%2039.75497271766869%5D%2C%20%5B-107.10283603719047%2C%2039.73587439846191%5D%2C%20%5B-107.11596616328085%2C%2039.69112522330711%5D%2C%20%5B-107.1290962836314%2C%2039.64637610073805%5D%2C%20%5B-107.14222639605013%2C%2039.6016269151186%5D%2C%20%5B-107.15535649834545%2C%2039.556877703445544%5D%2C%20%5B-107.16848658832613%2C%2039.512128579209275%5D%2C%20%5B-107.18161666380131%2C%2039.46737942582498%5D%2C%20%5B-107.1947468127458%2C%2039.422630265963925%5D%2C%20%5B-107.20787685264379%2C%2039.37788108638244%5D%2C%20%5B-107.22100696164094%2C%2039.33313189558212%5D%2C%20%5B-107.23413704738262%2C%2039.288382742973646%5D%2C%20%5B-107.24726719786433%2C%2039.2436335734416%5D%2C%20%5B-107.26039732072256%2C%2039.19888435892797%5D%2C%20%5B-107.27352741376907%2C%2039.154135211433214%5D%2C%20%5B-107.28665747481605%2C%2039.10938608877604%5D%2C%20%5B-107.29978759187951%2C%2039.06463685750547%5D%2C%20%5B-107.31291767257838%2C%2039.019887719937145%5D%2C%20%5B-107.32604780493877%2C%2038.97513854208704%5D%2C%20%5B-107.33917789657099%2C%2038.9303893715445%5D%2C%20%5B-107.35230803551121%2C%2038.885640228217426%5D%2C%20%5B-107.36543812936112%2C%2038.84089100457163%5D%2C%20%5B-107.37856817593556%2C%2038.796141888597134%5D%2C%20%5B-107.39169826328579%2C%2038.75139266717789%5D%2C%20%5B-107.40482838924127%2C%2038.70664352801691%5D%2C%20%5B-107.41795855163181%2C%2038.66189434862372%5D%2C%20%5B-107.431088567788%2C%2038.61714518890704%5D%2C%20%5B-107.4442187062759%2C%2038.57239603954986%5D%2C%20%5B-107.45734878442227%2C%2038.5276468824009%5D%2C%20%5B-107.47047889030806%2C%2038.4828976574974%5D%2C%20%5B-107.4836090217648%2C%2038.43814847404607%5D%2C%20%5B-107.49673908635195%2C%2038.39339937724465%5D%2C%20%5B-107.50986926244202%2C%2038.348650136745285%5D%2C%20%5B-107.52299927703694%2C%2038.30390098071506%5D%5D%5D%2C%20%22type%22%3A%20%22Polygon%22%7D%2C%20%22id%22%3A%20%22000100000000000008dd%22%2C%20%22properties%22%3A%20%7B%22ACQDayL7%22%3A%20%224%22%2C%20%22ACQDayL8%22%3A%20%2212%22%2C%20%22AREA%22%3A%203.28886%2C%20%22MODE%22%3A%20%22D%22%2C%20%22PATH%22%3A%2034%2C%20%22PERIMETER%22%3A%207.37824%2C%20%22PR%22%3A%20%22034033%22%2C%20%22PR_%22%3A%20529%2C%20%22PR_ID%22%3A%20529%2C%20%22RINGS_NOK%22%3A%200%2C%20%22RINGS_OK%22%3A%201%2C%20%22ROW%22%3A%2033%2C%20%22SEQUENCE%22%3A%2013425%2C%20%22WRSPR%22%3A%20%22034033%22%2C%20%22highlight%22%3A%20%7B%7D%2C%20%22style%22%3A%20%7B%7D%7D%2C%20%22type%22%3A%20%22Feature%22%7D%5D%2C%20%22type%22%3A%20%22FeatureCollection%22%7D%2C%0A%20%20%20%20%20%20%20%20%20%20%20%20%7B%0A%20%20%20%20%20%20%20%20%20%20%20%20%7D%0A%20%20%20%20%20%20%20%20%29.addTo%28map_a201787c0033475c9ceaaee757ab3486%20%29%3B%0A%20%20%20%20%20%20%20%20geo_json_748dec1ddd51474fa8e579be77afef0f.setStyle%28function%28feature%29%20%7Breturn%20feature.properties.style%3B%7D%29%3B%0A%20%20%20%20%20%20%20%20%0A%20%20%20%20%0A%20%20%20%20%20%20%20%20%20%20%20%20var%20popup_6cbb12378dae4a64aa47dbac6f954115%20%3D%20L.popup%28%7BmaxWidth%3A%20%27100%25%27%0A%20%20%20%20%20%20%20%20%20%20%20%20%0A%20%20%20%20%20%20%20%20%20%20%20%20%7D%29%3B%0A%0A%20%20%20%20%20%20%20%20%20%20%20%20%0A%20%20%20%20%20%20%20%20%20%20%20%20%20%20%20%20var%20html_dbfd7989bb694c6687fe6f88e3e23ba9%20%3D%20%24%28%60%3Cdiv%20id%3D%22html_dbfd7989bb694c6687fe6f88e3e23ba9%22%20style%3D%22width%3A%20100.0%25%3B%20height%3A%20100.0%25%3B%22%3EP34%20R33%3C/div%3E%60%29%5B0%5D%3B%0A%20%20%20%20%20%20%20%20%20%20%20%20%20%20%20%20popup_6cbb12378dae4a64aa47dbac6f954115.setContent%28html_dbfd7989bb694c6687fe6f88e3e23ba9%29%3B%0A%20%20%20%20%20%20%20%20%20%20%20%20%0A%0A%20%20%20%20%20%20%20%20%20%20%20%20geo_json_748dec1ddd51474fa8e579be77afef0f.bindPopup%28popup_6cbb12378dae4a64aa47dbac6f954115%29%0A%20%20%20%20%20%20%20%20%20%20%20%20%3B%0A%0A%20%20%20%20%20%20%20%20%20%20%20%20%0A%20%20%20%20%20%20%20%20%0A%20%20%20%20%0A%20%20%20%20%20%20%20%20var%20geo_json_4634d0a7377e483b93989c4c75fb7c0f%20%3D%20L.geoJson%28%0A%20%20%20%20%20%20%20%20%20%20%20%20%7B%22features%22%3A%20%5B%7B%22geometry%22%3A%20%7B%22coordinates%22%3A%20%5B%5B%5B-105.97800107005186%2C%2038.30390102820567%5D%2C%20%5B-105.97727423113433%2C%2038.3037940137177%5D%2C%20%5B-105.94489492540116%2C%2038.299084692924716%5D%2C%20%5B-105.91251568184133%2C%2038.294375409647856%5D%2C%20%5B-105.88013644475818%2C%2038.2896661028187%5D%2C%20%5B-105.84775715853195%2C%2038.28495678968281%5D%2C%20%5B-105.81537785719878%2C%2038.28024747505632%5D%2C%20%5B-105.78299857481029%2C%2038.275538163782585%5D%2C%20%5B-105.7506193454334%2C%2038.27082886073213%5D%2C%20%5B-105.71824002408835%2C%2038.26611959530658%5D%2C%20%5B-105.68586073448297%2C%2038.26141028150687%5D%2C%20%5B-105.65348151077798%2C%2038.25670100269661%5D%2C%20%5B-105.62110220818373%2C%2038.25199170954338%5D%2C%20%5B-105.58872295045508%2C%2038.24728239461565%5D%2C%20%5B-105.55634368239723%2C%2038.242573074838006%5D%2C%20%5B-105.52396434889626%2C%2038.23786384563899%5D%2C%20%5B-105.49158507375448%2C%2038.23315454249628%5D%2C%20%5B-105.4592058019225%2C%2038.22844518220152%5D%2C%20%5B-105.42682656781695%2C%2038.22373592673489%5D%2C%20%5B-105.394447316503%2C%2038.21902663558397%5D%2C%20%5B-105.36206799312882%2C%2038.21431732536084%5D%2C%20%5B-105.32968872159299%2C%2038.20960798878476%5D%2C%20%5B-105.2973094471096%2C%2038.20489872115165%5D%2C%20%5B-105.26493020427603%2C%2038.200189448477936%5D%2C%20%5B-105.23255093842364%2C%2038.195480108569136%5D%2C%20%5B-105.2001716842335%2C%2038.19077078475679%5D%2C%20%5B-105.1677923871556%2C%2038.18606149346988%5D%2C%20%5B-105.13541308195562%2C%2038.18135223932142%5D%2C%20%5B-105.10303380341567%2C%2038.17664294818598%5D%2C%20%5B-105.07065458633407%2C%2038.17193362469262%5D%2C%20%5B-105.03827528717164%2C%2038.16722429677879%5D%2C%20%5B-105.00589603002462%2C%2038.16251503614981%5D%2C%20%5B-104.97351676065236%2C%2038.15780570141509%5D%2C%20%5B-104.94113742490237%2C%2038.1530964663193%5D%2C%20%5B-104.90875814692085%2C%2038.148387166194816%5D%2C%20%5B-104.87637887262464%2C%2038.14367781712024%5D%2C%20%5B-104.84399963708836%2C%2038.13896850249156%5D%2C%20%5B-104.8116203863531%2C%2038.134259238337904%5D%2C%20%5B-104.77924106655017%2C%2038.129549961703084%5D%2C%20%5B-104.74686180192776%2C%2038.12484066564314%5D%2C%20%5B-104.714482538688%2C%2038.120131366058835%5D%2C%20%5B-104.68210322312427%2C%2038.11542207876335%5D%2C%20%5B-104.64972397953562%2C%2038.110712717948125%5D%2C%20%5B-104.61734466534895%2C%2038.10600346857477%5D%2C%20%5B-104.58496540491622%2C%2038.101294165900015%5D%2C%20%5B-104.55258614473085%2C%2038.09658482560918%5D%2C%20%5B-104.5202069202602%2C%2038.091875531125105%5D%2C%20%5B-104.48782758926596%2C%2038.08716623021796%5D%2C%20%5B-104.45544836504945%2C%2038.08245698398217%5D%2C%20%5B-104.42306901666156%2C%2038.07774767215378%5D%2C%20%5B-104.390689757419%2C%2038.073038355900465%5D%2C%20%5B-104.35831053414938%2C%2038.068329050732366%5D%2C%20%5B-104.3259312050123%2C%2038.06361978307647%5D%2C%20%5B-104.29355198331812%2C%2038.05891045616756%5D%2C%20%5B-104.26117272734038%2C%2038.054201175440426%5D%2C%20%5B-104.22879338423314%2C%2038.0494918770285%5D%2C%20%5B-104.19641416730002%2C%2038.044782543392444%5D%2C%20%5B-104.16403484638282%2C%2038.04007329069218%5D%2C%20%5B-104.13165554615698%2C%2038.03536395403381%5D%2C%20%5B-104.09927630261167%2C%2038.030654696038944%5D%2C%20%5B-104.06689706315088%2C%2038.025945373511114%5D%2C%20%5B-104.03451777527805%2C%2038.02123608064577%5D%2C%20%5B-104.00213847515829%2C%2038.01652682168173%5D%2C%20%5B-103.96975919897484%2C%2038.011817521668426%5D%2C%20%5B-103.93737989440869%2C%2038.00710819552332%5D%2C%20%5B-103.90500068624054%2C%2038.00239891606281%5D%2C%20%5B-103.89300568002628%2C%2038.03950083995544%5D%2C%20%5B-103.88101066422692%2C%2038.07660275221151%5D%2C%20%5B-103.86660416388403%2C%2038.12116203477533%5D%2C%20%5B-103.85219768301266%2C%2038.16572127975292%5D%2C%20%5B-103.8377911363568%2C%2038.2102804691547%5D%2C%20%5B-103.82338461559108%2C%2038.254839721576445%5D%2C%20%5B-103.80897812391648%2C%2038.299399007834865%5D%2C%20%5B-103.79457157610739%2C%2038.34395823028349%5D%2C%20%5B-103.78016506381235%2C%2038.388517427813724%5D%2C%20%5B-103.76575850182607%2C%2038.43307673886317%5D%2C%20%5B-103.75135198177969%2C%2038.47763596531729%5D%2C%20%5B-103.73694550687769%2C%2038.522195155882656%5D%2C%20%5B-103.72253899194534%2C%2038.56675444805338%5D%2C%20%5B-103.70813244021713%2C%2038.611313653928235%5D%2C%20%5B-103.693725943289%2C%2038.65587288943797%5D%2C%20%5B-103.67931941601701%2C%2038.70043213403094%5D%2C%20%5B-103.66491294997944%2C%2038.74499134599284%5D%2C%20%5B-103.65050637172098%2C%2038.78955059328451%5D%2C%20%5B-103.63609986115333%2C%2038.83410982324801%5D%2C%20%5B-103.6216933331738%2C%2038.878669092780804%5D%2C%20%5B-103.60728679102208%2C%2038.92322836971338%5D%2C%20%5B-103.59288032623188%2C%2038.96778761127773%5D%2C%20%5B-103.578473765448%2C%2039.01234680587105%5D%2C%20%5B-103.56406728848923%2C%2039.056906056112105%5D%2C%20%5B-103.54966072204067%2C%2039.101465271718006%5D%2C%20%5B-103.53525424588372%2C%2039.14602455466531%5D%2C%20%5B-103.52084768674385%2C%2039.19058381426089%5D%2C%20%5B-103.50644122436493%2C%2039.23514299611188%5D%2C%20%5B-103.49203468551298%2C%2039.27970224285542%5D%2C%20%5B-103.47762816167894%2C%2039.32426150986794%5D%2C%20%5B-103.46322165610978%2C%2039.36882076275623%5D%2C%20%5B-103.44881508385772%2C%2039.413379977310605%5D%2C%20%5B-103.43440862457207%2C%2039.45793917571652%5D%2C%20%5B-103.42000210512089%2C%2039.50249842117008%5D%2C%20%5B-103.42021169901523%2C%2039.502529633786686%5D%2C%20%5B-103.45326347771261%2C%2039.50733748916341%5D%2C%20%5B-103.48631535881019%2C%2039.51214527212829%5D%2C%20%5B-103.51936712658447%2C%2039.516953154176555%5D%2C%20%5B-103.55241900648308%2C%2039.52176094475239%5D%2C%20%5B-103.58547078280087%2C%2039.52656873790881%5D%2C%20%5B-103.61852268122777%2C%2039.53137657540027%5D%2C%20%5B-103.65157448607692%2C%2039.53618439635137%5D%2C%20%5B-103.68462633492378%2C%2039.540992175405975%5D%2C%20%5B-103.71767818878702%2C%2039.5457999856221%5D%2C%20%5B-103.7507300087054%2C%2039.55060782261731%5D%2C%20%5B-103.78378184415823%2C%2039.55541567139125%5D%2C%20%5B-103.81683365628997%2C%2039.560223450142836%5D%2C%20%5B-103.84988549472867%2C%2039.56503129859271%5D%2C%20%5B-103.88293732072366%2C%2039.56983905753393%5D%2C%20%5B-103.91598918405042%2C%2039.574646943908384%5D%2C%20%5B-103.94904095753462%2C%2039.57945473195333%5D%2C%20%5B-103.98209277958311%2C%2039.584262550380124%5D%2C%20%5B-104.01514461165235%2C%2039.589070394672056%5D%2C%20%5B-104.04819650380917%2C%2039.593878172153914%5D%2C%20%5B-104.08124832900035%2C%2039.598685966531%5D%2C%20%5B-104.11430013737387%2C%2039.60349383971439%5D%2C%20%5B-104.14735197918075%2C%2039.60830162168324%5D%2C%20%5B-104.18040381610038%2C%2039.61310946244545%5D%2C%20%5B-104.21345560983153%2C%2039.61791728022165%5D%2C%20%5B-104.2465074995223%2C%2039.62272504841263%5D%2C%20%5B-104.27955926956244%2C%2039.62753293901399%5D%2C%20%5B-104.31261114797594%2C%2039.63234068257367%5D%2C%20%5B-104.34566300794624%2C%2039.637148517198604%5D%2C%20%5B-104.37871481139089%2C%2039.64195636111703%5D%2C%20%5B-104.41176660906254%2C%2039.64676419858734%5D%2C%20%5B-104.4448184518129%2C%2039.651572013780786%5D%2C%20%5B-104.47787030173676%2C%2039.65637980205386%5D%2C%20%5B-104.51092212094764%2C%2039.661187635913%5D%2C%20%5B-104.54397396047285%2C%2039.6659954223009%5D%2C%20%5B-104.5770257825227%2C%2039.67080323367107%5D%2C%20%5B-104.61007763825991%2C%2039.67561105398538%5D%2C%20%5B-104.64312948999067%2C%2039.6804188785392%5D%2C%20%5B-104.6761813000397%2C%2039.6852267026593%5D%2C%20%5B-104.70923311974192%2C%2039.69003451022296%5D%2C%20%5B-104.74228491151706%2C%2039.69484237355463%5D%2C%20%5B-104.77533681586209%2C%2039.69965011084257%5D%2C%20%5B-104.808388617251%2C%2039.70445797144358%5D%2C%20%5B-104.84144045629328%2C%2039.70926577350252%5D%2C%20%5B-104.87449229559576%2C%2039.71407358923572%5D%2C%20%5B-104.9075440977835%2C%2039.718881413879636%5D%2C%20%5B-104.9405959146227%2C%2039.72368923101223%5D%2C%20%5B-104.97364779797171%2C%2039.728497024123065%5D%2C%20%5B-105.00669962146159%2C%2039.73330487702782%5D%2C%20%5B-105.03975143702358%2C%2039.73811269627496%5D%2C%20%5B-105.07280329667996%2C%2039.742920465267574%5D%2C%20%5B-105.10585507411595%2C%2039.74772834474835%5D%2C%20%5B-105.13890691065777%2C%2039.75253615244856%5D%2C%20%5B-105.17195876929395%2C%2039.757343960341295%5D%2C%20%5B-105.20501061303068%2C%2039.76215176354159%5D%2C%20%5B-105.23806240489198%2C%2039.7669595571951%5D%2C%20%5B-105.27111428652476%2C%2039.77176738930783%5D%2C%20%5B-105.30416613177412%2C%2039.776575190091485%5D%2C%20%5B-105.33721790377014%2C%2039.781383031473034%5D%2C%20%5B-105.37026974437009%2C%2039.786190884432756%5D%2C%20%5B-105.4033216168434%2C%2039.79099866720678%5D%2C%20%5B-105.43637339508778%2C%2039.79580646373094%5D%2C%20%5B-105.46942531057393%2C%2039.80061430936285%5D%2C%20%5B-105.50247705845673%2C%2039.8054220821348%5D%2C%20%5B-105.53552895978335%2C%2039.81022995846339%5D%2C%20%5B-105.5360015593907%2C%2039.81030124848867%5D%2C%20%5B-105.55223268984832%2C%2039.75497274816561%5D%2C%20%5B-105.5578377748875%2C%2039.73587444649041%5D%2C%20%5B-105.57096795797469%2C%2039.691125283904064%5D%2C%20%5B-105.58409803984583%2C%2039.64637609873979%5D%2C%20%5B-105.5972281076606%2C%2039.60162691587102%5D%2C%20%5B-105.61035824860554%2C%2039.556877759974874%5D%2C%20%5B-105.62348828144216%2C%2039.51212861533658%5D%2C%20%5B-105.63661838284183%2C%2039.46737941676963%5D%2C%20%5B-105.64974855053471%2C%2039.42263020039974%5D%2C%20%5B-105.66287860324415%2C%2039.37788110400445%5D%2C%20%5B-105.67600871768214%2C%2039.333131907200354%5D%2C%20%5B-105.68913880206343%2C%2039.28838273494184%5D%2C%20%5B-105.70226894362331%2C%2039.243633532887614%5D%2C%20%5B-105.71539905056437%2C%2039.19888442578639%5D%2C%20%5B-105.7285291205997%2C%2039.15413521628642%5D%2C%20%5B-105.7416592409853%2C%2039.10938608144724%5D%2C%20%5B-105.75478931990561%2C%2039.06463691303183%5D%2C%20%5B-105.76791944463035%2C%2039.01988773274632%5D%2C%20%5B-105.78104952333193%2C%2038.9751385091992%5D%2C%20%5B-105.79417964329372%2C%2038.93038934131847%5D%2C%20%5B-105.8073097126762%2C%2038.88564019730535%5D%2C%20%5B-105.82043981877635%2C%2038.84089102023035%5D%2C%20%5B-105.83356995932988%2C%2038.79614184304106%5D%2C%20%5B-105.84670004247941%2C%2038.751392710939776%5D%2C%20%5B-105.85983015554224%2C%2038.706643566194295%5D%2C%20%5B-105.87296029625526%2C%2038.66189436311326%5D%2C%20%5B-105.8860903727434%2C%2038.61714522420427%5D%2C%20%5B-105.89922047234415%2C%2038.57239601282761%5D%2C%20%5B-105.91235059279566%2C%2038.52764683868781%5D%2C%20%5B-105.92548064220527%2C%2038.48289766757056%5D%2C%20%5B-105.93861079756789%2C%2038.438148505796455%5D%2C%20%5B-105.95174087735442%2C%2038.39339933105464%5D%2C%20%5B-105.96487096893571%2C%2038.348650161654334%5D%2C%20%5B-105.97800107005186%2C%2038.30390102820567%5D%5D%5D%2C%20%22type%22%3A%20%22Polygon%22%7D%2C%20%22id%22%3A%20%22000100000000000012b3%22%2C%20%22properties%22%3A%20%7B%22ACQDayL7%22%3A%20%2213%22%2C%20%22ACQDayL8%22%3A%20%225%22%2C%20%22AREA%22%3A%203.28976%2C%20%22MODE%22%3A%20%22D%22%2C%20%22PATH%22%3A%2033%2C%20%22PERIMETER%22%3A%207.37954%2C%20%22PR%22%3A%20%22033033%22%2C%20%22PR_%22%3A%20529%2C%20%22PR_ID%22%3A%20529%2C%20%22RINGS_NOK%22%3A%200%2C%20%22RINGS_OK%22%3A%201%2C%20%22ROW%22%3A%2033%2C%20%22SEQUENCE%22%3A%2045913%2C%20%22WRSPR%22%3A%20%22033033%22%2C%20%22highlight%22%3A%20%7B%7D%2C%20%22style%22%3A%20%7B%7D%7D%2C%20%22type%22%3A%20%22Feature%22%7D%5D%2C%20%22type%22%3A%20%22FeatureCollection%22%7D%2C%0A%20%20%20%20%20%20%20%20%20%20%20%20%7B%0A%20%20%20%20%20%20%20%20%20%20%20%20%7D%0A%20%20%20%20%20%20%20%20%29.addTo%28map_a201787c0033475c9ceaaee757ab3486%20%29%3B%0A%20%20%20%20%20%20%20%20geo_json_4634d0a7377e483b93989c4c75fb7c0f.setStyle%28function%28feature%29%20%7Breturn%20feature.properties.style%3B%7D%29%3B%0A%20%20%20%20%20%20%20%20%0A%20%20%20%20%0A%20%20%20%20%20%20%20%20%20%20%20%20var%20popup_dce1d09d7dd0487e976c7b2be526b041%20%3D%20L.popup%28%7BmaxWidth%3A%20%27100%25%27%0A%20%20%20%20%20%20%20%20%20%20%20%20%0A%20%20%20%20%20%20%20%20%20%20%20%20%7D%29%3B%0A%0A%20%20%20%20%20%20%20%20%20%20%20%20%0A%20%20%20%20%20%20%20%20%20%20%20%20%20%20%20%20var%20html_a9072611aa0f4a76b81f761b6d9f6fa3%20%3D%20%24%28%60%3Cdiv%20id%3D%22html_a9072611aa0f4a76b81f761b6d9f6fa3%22%20style%3D%22width%3A%20100.0%25%3B%20height%3A%20100.0%25%3B%22%3EP33%20R33%3C/div%3E%60%29%5B0%5D%3B%0A%20%20%20%20%20%20%20%20%20%20%20%20%20%20%20%20popup_dce1d09d7dd0487e976c7b2be526b041.setContent%28html_a9072611aa0f4a76b81f761b6d9f6fa3%29%3B%0A%20%20%20%20%20%20%20%20%20%20%20%20%0A%0A%20%20%20%20%20%20%20%20%20%20%20%20geo_json_4634d0a7377e483b93989c4c75fb7c0f.bindPopup%28popup_dce1d09d7dd0487e976c7b2be526b041%29%0A%20%20%20%20%20%20%20%20%20%20%20%20%3B%0A%0A%20%20%20%20%20%20%20%20%20%20%20%20%0A%20%20%20%20%20%20%20%20%0A%20%20%20%20%0A%20%20%20%20%20%20%20%20var%20geo_json_e21406972a124a2a8c3d76e23ecb9117%20%3D%20L.geoJson%28%0A%20%20%20%20%20%20%20%20%20%20%20%20%7B%22features%22%3A%20%5B%7B%22geometry%22%3A%20%7B%22coordinates%22%3A%20%5B%5B%5B-105.09076098564842%2C%2039.48796359626912%5D%2C%20%5B-105.08860502896653%2C%2039.48796359626912%5D%2C%20%5B-105.08860502896653%2C%2039.48823309085435%5D%2C%20%5B-105.08456261018799%2C%2039.48823309085435%5D%2C%20%5B-105.08456261018799%2C%2039.48877208002482%5D%2C%20%5B-105.08375412643228%2C%2039.48877208002482%5D%2C%20%5B-105.08375412643228%2C%2039.489311069195296%5D%2C%20%5B-105.08348463184704%2C%2039.489311069195296%5D%2C%20%5B-105.08348463184704%2C%2039.48985005836577%5D%2C%20%5B-105.08375412643228%2C%2039.48985005836577%5D%2C%20%5B-105.08375412643228%2C%2039.49092803670671%5D%2C%20%5B-105.08348463184704%2C%2039.49092803670671%5D%2C%20%5B-105.08348463184704%2C%2039.49200601504766%5D%2C%20%5B-105.08483210477323%2C%2039.49200601504766%5D%2C%20%5B-105.08483210477323%2C%2039.49173652046242%5D%2C%20%5B-105.08510159935847%2C%2039.49173652046242%5D%2C%20%5B-105.08510159935847%2C%2039.491467025877185%5D%2C%20%5B-105.08564058852893%2C%2039.491467025877185%5D%2C%20%5B-105.08564058852893%2C%2039.491197531291945%5D%2C%20%5B-105.08591008311417%2C%2039.491197531291945%5D%2C%20%5B-105.08591008311417%2C%2039.49092803670671%5D%2C%20%5B-105.08617957769941%2C%2039.49092803670671%5D%2C%20%5B-105.08617957769941%2C%2039.49065854212147%5D%2C%20%5B-105.08644907228464%2C%2039.49065854212147%5D%2C%20%5B-105.08644907228464%2C%2039.49038904753624%5D%2C%20%5B-105.0883355343813%2C%2039.49038904753624%5D%2C%20%5B-105.0883355343813%2C%2039.49065854212147%5D%2C%20%5B-105.089144018137%2C%2039.49065854212147%5D%2C%20%5B-105.089144018137%2C%2039.49011955295101%5D%2C%20%5B-105.08941351272223%2C%2039.49011955295101%5D%2C%20%5B-105.08941351272223%2C%2039.48985005836577%5D%2C%20%5B-105.08968300730747%2C%2039.48985005836577%5D%2C%20%5B-105.08968300730747%2C%2039.489580563780535%5D%2C%20%5B-105.08995250189271%2C%2039.489580563780535%5D%2C%20%5B-105.08995250189271%2C%2039.48904157461006%5D%2C%20%5B-105.09049149106318%2C%2039.48904157461006%5D%2C%20%5B-105.09049149106318%2C%2039.48877208002482%5D%2C%20%5B-105.09076098564842%2C%2039.48877208002482%5D%2C%20%5B-105.09076098564842%2C%2039.48796359626912%5D%5D%5D%2C%20%22geodesic%22%3A%20false%2C%20%22type%22%3A%20%22Polygon%22%7D%2C%20%22properties%22%3A%20%7B%22highlight%22%3A%20%7B%7D%2C%20%22style%22%3A%20%7B%7D%7D%2C%20%22type%22%3A%20%22Feature%22%7D%5D%2C%20%22type%22%3A%20%22FeatureCollection%22%7D%2C%0A%20%20%20%20%20%20%20%20%20%20%20%20%7B%0A%20%20%20%20%20%20%20%20%20%20%20%20%7D%0A%20%20%20%20%20%20%20%20%29.addTo%28map_a201787c0033475c9ceaaee757ab3486%20%29%3B%0A%20%20%20%20%20%20%20%20geo_json_e21406972a124a2a8c3d76e23ecb9117.setStyle%28function%28feature%29%20%7Breturn%20feature.properties.style%3B%7D%29%3B%0A%20%20%20%20%20%20%20%20%0A%3C/script%3E onload=\"this.contentDocument.open();this.contentDocument.write(    decodeURIComponent(this.getAttribute('data-html')));this.contentDocument.close();\" allowfullscreen webkitallowfullscreen mozallowfullscreen></iframe></div></div>"
            ],
            "text/plain": [
              "<folium.folium.Map at 0x7fdd8e5c4650>"
            ]
          },
          "metadata": {}
        }
      ]
    },
    {
      "cell_type": "markdown",
      "metadata": {
        "id": "45tElCUuotvD"
      },
      "source": [
        "# **Get Skin Surface Temperatures**\n",
        "**Run this block** to filter by date and site location, convert temperature from K --> C, stack images, and carry over the metadata and system. For landsat 8, remove any scenes with possible image quality issues due to Scene Select Mirror (SSM) position."
      ]
    },
    {
      "cell_type": "code",
      "metadata": {
        "id": "1TjyRw18ttpV",
        "cellView": "form",
        "colab": {
          "base_uri": "https://localhost:8080/"
        },
        "outputId": "00333f6b-2440-4d9c-ced9-251c3df60deb"
      },
      "source": [
        "# @markdown Filter by solar zenith angle? This can be useful in high-latitude areas\n",
        "filter_sza = \"yes\" #@param [\"yes\",\"no\"] {allow-input: false}\n",
        "\n",
        "l4 = (l4t1.merge(l4t2).filterMetadata('L1_PROCESSING_LEVEL','equals','L1TP') \\\n",
        "      .filterMetadata('GEOMETRIC_RMSE_MODEL','not_greater_than',rmse) \\\n",
        "      .filterBounds(geo) \\\n",
        "      .filter(ee.Filter.calendarRange(y1,y2,'year')) \\\n",
        "      .filter(ee.Filter.calendarRange(m1,m2,'month')) \\\n",
        "      .filterMetadata('WRS_ROW','not_less_than',r1).filterMetadata('WRS_ROW','not_greater_than',r2) \\\n",
        "      .filterMetadata('WRS_PATH','not_greater_than',p1).filterMetadata('WRS_PATH','not_less_than',p2) \\\n",
        "      .map(prep457bands, True))\n",
        "\n",
        "l5 = (l5t1.merge(l5t2).filterMetadata('L1_PROCESSING_LEVEL','equals','L1TP') \\\n",
        "      .filterMetadata('GEOMETRIC_RMSE_MODEL','not_greater_than',rmse) \\\n",
        "      .filterBounds(geo) \\\n",
        "      .filter(ee.Filter.calendarRange(y1,y2,'year')) \\\n",
        "      .filter(ee.Filter.calendarRange(m1,m2,'month')) \\\n",
        "      .filterMetadata('WRS_ROW','not_less_than',r1).filterMetadata('WRS_ROW','not_greater_than',r2) \\\n",
        "      .filterMetadata('WRS_PATH','not_greater_than',p1).filterMetadata('WRS_PATH','not_less_than',p2) \\\n",
        "      .map(prep457bands, True))\n",
        "\n",
        "l7 = (l7t1.merge(l7t2).filterMetadata('L1_PROCESSING_LEVEL','equals','L1TP') \\\n",
        "      .filterMetadata('GEOMETRIC_RMSE_MODEL','not_greater_than',rmse) \\\n",
        "      .filterBounds(geo) \\\n",
        "      .filter(ee.Filter.calendarRange(y1,y2,'year')) \\\n",
        "      .filter(ee.Filter.calendarRange(m1,m2,'month')) \\\n",
        "      .filterMetadata('WRS_ROW','not_less_than',r1).filterMetadata('WRS_ROW','not_greater_than',r2) \\\n",
        "      .filterMetadata('WRS_PATH','not_greater_than',p1).filterMetadata('WRS_PATH','not_less_than',p2) \\\n",
        "      .map(prep457bands, True))\n",
        "\n",
        "l8 = (l8t1.merge(l8t2).filterMetadata('L1_PROCESSING_LEVEL','equals','L1TP') \\\n",
        "      .filterMetadata('GEOMETRIC_RMSE_MODEL','not_greater_than',rmse) \\\n",
        "      .filterBounds(geo) \\\n",
        "      .filter(ee.Filter.calendarRange(y1,y2,'year')) \\\n",
        "      .filter(ee.Filter.calendarRange(m1,m2,'month')) \\\n",
        "      .filterMetadata('WRS_ROW','not_less_than',r1).filterMetadata('WRS_ROW','not_greater_than',r2) \\\n",
        "      .filterMetadata('WRS_PATH','not_greater_than',p1).filterMetadata('WRS_PATH','not_less_than',p2) \\\n",
        "      .filterMetadata('TIRS_SSM_POSITION_STATUS','not_equals','SWITCHED') \\\n",
        "      .map(prep8bands, True))\n",
        "\n",
        "if filter_sza==\"yes\":\n",
        "  landsat = ee.ImageCollection(l4).merge(l5).merge(l7).merge(l8).filterMetadata('SOLAR_ZENITH_ANGLE','less_than',77)\n",
        "else:\n",
        "  landsat = ee.ImageCollection(l4).merge(l5).merge(l7).merge(l8)\n",
        "\n",
        "print(\"Landsat compiled at\", strftime(\"%x %X\"))\n",
        "\n",
        "'''\n",
        "Add metadata to each scene that indicates how many visible pixels were included \n",
        "in analysis, and filter images so that only scenes with the minimum number of \n",
        "pixels remain.\n",
        "'''\n",
        "def countPixels(img):\n",
        "  img = ee.Image(img)\n",
        "  getCount = img.reduceRegion(**{\n",
        "      \"reducer\": ee.Reducer.count(),\n",
        "      \"geometry\": geo, \n",
        "      \"scale\": 30})\n",
        "  count = ee.Dictionary(getCount).get('surface_temp')\n",
        "  return img.set('pixel_count',count)\n",
        "before = landsat.map(countPixels)\n",
        "countedPixels = before.filterMetadata('pixel_count','not_less_than', pixel_min)\n",
        "print('Total number of LS scenes:',len(before.getInfo()['features']),'\\nNumber of LS scenes after filter:', len(countedPixels.getInfo()['features']))\n",
        "print(\"Landsat filtered:\", strftime(\"%x %X\"))"
      ],
      "execution_count": 70,
      "outputs": [
        {
          "output_type": "stream",
          "name": "stdout",
          "text": [
            "Landsat compiled at 02/07/22 15:32:19\n",
            "Total number of LS scenes: 232 \n",
            "Number of LS scenes after filter: 137\n",
            "Landsat filtered: 02/07/22 15:32:23\n"
          ]
        }
      ]
    },
    {
      "cell_type": "markdown",
      "metadata": {
        "id": "4FleAQ6cyfch"
      },
      "source": [
        "# **Data Visualization**\n",
        "The code blocks in the following section allow you to explore your results using dataframes and pixel-value distributions. You can visually inspect each scene for errant data or export the data to explore further."
      ]
    },
    {
      "cell_type": "code",
      "metadata": {
        "id": "i8K6XN2xZMjP",
        "cellView": "form",
        "colab": {
          "base_uri": "https://localhost:8080/"
        },
        "outputId": "1bc2f55c-2de1-4d13-f110-5445695ce4ba"
      },
      "source": [
        "#@title Convert data from server-side EE objects to client-side Python objects\n",
        "#@markdown __Run this block__ to define functions for data exploration\n",
        "\n",
        "\n",
        "# These functions convert image pixels to numpy arrays\n",
        "def createArrays(img):\n",
        "  psi_prop = ee.Image(img).sampleRectangle(region=geo, defaultValue=-1)\n",
        "  getProp = psi_prop.get(\"surface_temp\")\n",
        "  return img.set(\"img_array\", getProp)\n",
        "\n",
        "def getArrays(client_img_col):\n",
        "  list_of_arrays = []\n",
        "  for img in client_img_col:\n",
        "    prop = img[\"properties\"][\"img_array\"]\n",
        "    a = np.array(prop)\n",
        "    list_of_arrays.append(a)\n",
        "  return list_of_arrays\n",
        "print('Conversion function imported.')\n",
        "\n",
        "def generate_histogram(img):\n",
        "  img = ee.Image(img)\n",
        "  fhisto = img.reduceRegion(**{\n",
        "      \"reducer\": ee.Reducer.fixedHistogram(-5,30,70).unweighted(),\n",
        "      \"geometry\": geo,\n",
        "      \"scale\": 30,\n",
        "      \"maxPixels\": 5e9\n",
        "  })\n",
        "  return img.set('histogram',fhisto.get('surface_temp'))\n",
        "print(\"Will generate histograms with a fixed x-axis between -5 - 30 deg C in 0.5 degree bins\")\n"
      ],
      "execution_count": 71,
      "outputs": [
        {
          "output_type": "stream",
          "name": "stdout",
          "text": [
            "Conversion function imported.\n",
            "Will generate histograms with a fixed x-axis between -5 - 30 deg C in 0.5 degree bins\n"
          ]
        }
      ]
    },
    {
      "cell_type": "code",
      "metadata": {
        "id": "InafBTf5ZvAS",
        "cellView": "form",
        "colab": {
          "base_uri": "https://localhost:8080/"
        },
        "outputId": "0f35df6f-9c93-4800-be1e-1d331fba425d"
      },
      "source": [
        "# @markdown This code block executes the functions from the previous block and \n",
        "# @markdown converts the image collection from a server-side EE object to a client-side \n",
        "# @markdown Python object. This allows iteration over the image collection with a `for` \n",
        "# @markdown loop, which provides much more Python functionality.<p><mark>__This step \n",
        "# @markdown could take some time to run</mark> depending on the length of the \n",
        "# @markdown ImageCollection.__\n",
        "\n",
        "# @markdown If you recieve an error at this step that `your response size exceeds limit`, \n",
        "# @markdown you will need to go back and reduce the number of years of data you are requesting. \n",
        "\n",
        "print(\"Start:\", strftime(\"%x %X\"))\n",
        "imgs_histo = countedPixels.map(generate_histogram)\n",
        "generate_arrays = imgs_histo.map(createArrays)\n",
        "\n",
        "imgCol = generate_arrays.getInfo()[\"features\"]\n",
        "print(\"Finish:\", strftime(\"%x %X\"))\n",
        "print(\"Number of Landsat scenes: \", len(imgCol))"
      ],
      "execution_count": 72,
      "outputs": [
        {
          "output_type": "stream",
          "name": "stdout",
          "text": [
            "Start: 02/07/22 15:32:33\n",
            "Finish: 02/07/22 15:34:27\n",
            "Number of Landsat scenes:  137\n"
          ]
        }
      ]
    },
    {
      "cell_type": "code",
      "metadata": {
        "id": "H-cobA_BbwRK",
        "cellView": "form",
        "colab": {
          "base_uri": "https://localhost:8080/"
        },
        "outputId": "bab10f5b-dca2-4ac0-c2d6-18d964a77a42"
      },
      "source": [
        "#@markdown Now that the image collection is client-side, __run this block__ to \n",
        "#@markdown get arrays of each image.\n",
        "# returns a list of arrays\n",
        "imgs_to_arrays = getArrays(imgCol)\n",
        "print(\"Converted images to arrays\")"
      ],
      "execution_count": 73,
      "outputs": [
        {
          "output_type": "stream",
          "name": "stdout",
          "text": [
            "Converted images to arrays\n"
          ]
        }
      ]
    },
    {
      "cell_type": "code",
      "metadata": {
        "id": "D9sJyjsi9eCF",
        "cellView": "form"
      },
      "source": [
        "#@title View and export collated pixel distributions\n",
        "#@markdown __Run this block__ to iterate through the image collection and convert \n",
        "#@markdown all bins and frequencies to a single Pandas `DataFrame`. \n",
        "#@markdown This returns *bins* (in deg C) in the first column, the image date as \n",
        "#@markdown all subsequent column headers, and the pixel counts within each bin.\n",
        "\n",
        "length_plots = len(imgCol)\n",
        "list_of_dfs = []\n",
        "list_of_uids = []\n",
        "# fig = make_subplots(rows=length_plots, cols=1)\n",
        "for i in imgCol:\n",
        "  uid = (i['properties']['L1_LANDSAT_PRODUCT_ID'])\n",
        "  list_of_uids.append(uid)\n",
        "  histogram = i[\"properties\"].get(\"histogram\")\n",
        "\n",
        "  a = pd.DataFrame(histogram, columns=[\"bin\",uid]).set_index(\"bin\")\n",
        "  # fig.add_histogram()\n",
        "  list_of_dfs.append(a)\n",
        "\n",
        "appended_dfs = pd.concat(list_of_dfs,ignore_index=False, axis=1)\n",
        "transposed_dfs = appended_dfs.T\n",
        "data_table.DataTable(appended_dfs, include_index=True, max_columns=50, max_rows=50, num_rows_per_page=50)"
      ],
      "execution_count": null,
      "outputs": []
    },
    {
      "cell_type": "code",
      "metadata": {
        "id": "70VebGE_KA--",
        "cellView": "form",
        "colab": {
          "base_uri": "https://localhost:8080/"
        },
        "outputId": "a36803d9-5a7d-4303-f09e-ee9a5151e083"
      },
      "source": [
        "#@markdown __Run this block__ to export the `DataFrame` as a csv to your Google Drive\n",
        "\n",
        "if not 'output_dir' in globals():\n",
        "  output_dir = \"drive/My Drive/Colab Notebooks/\"\n",
        "out_histo_compiled = os.path.join(output_dir, file_prefix + \"_histograms.csv\")\n",
        "appended_dfs.to_csv(out_histo_compiled)\n",
        "print(\"Export completed:\", out_histo_compiled)"
      ],
      "execution_count": 75,
      "outputs": [
        {
          "output_type": "stream",
          "name": "stdout",
          "text": [
            "Export completed: /content/drive/MyDrive/lakeCoSTR_output/LAKENAME/LAKENAME_histograms.csv\n"
          ]
        }
      ]
    },
    {
      "cell_type": "code",
      "metadata": {
        "id": "2_AbqwwDcT9j",
        "cellView": "form"
      },
      "source": [
        "#@title View pixel distribution using `matplotlib`\n",
        "#@markdown __Run this block__ to generate histograms for each lake temperature \n",
        "#@markdown Landsat scene. Each scene is saved as png in a folder 'histograms' in your specified output directory. \n",
        "#@markdown This step can also take some time to run.\n",
        "\n",
        "#print(len(list_of_uids),\" histograms will be generated\")\n",
        "print(\"Start:\", strftime(\"%x %X\"))\n",
        "\n",
        "#make 'histogram' folder in defined directory\n",
        "if not os.path.exists(os.path.join(output_dir, 'histograms')):\n",
        "    os.makedirs(os.path.join(output_dir, 'histograms'))\n",
        "\n",
        "histo_dir = os.path.join(output_dir, 'histograms')\n",
        "\n",
        "print(\"Histograms will be saved at \", histo_dir)\n",
        "\n",
        "histos = appended_dfs\n",
        "#list of scenes\n",
        "scenes = histos.columns\n",
        "histos = pd.DataFrame.transpose(histos) #reorient data\n",
        "#reset index\n",
        "histos = histos.reset_index()\n",
        "histos_vert = histos.melt(id_vars=['index'])\n",
        "\n",
        "#iterate over the scene list\n",
        "for i in range(0, len(scenes)):\n",
        "  df = histos_vert[histos_vert['index'] == scenes[i]]\n",
        "  histoname = os.path.join(histo_dir,scenes[i]+'_histo.png')\n",
        "  plt.bar(x = df.bin, height = df.value)\n",
        "  plt.ylabel('frequency')\n",
        "  plt.xlabel('temperature (deg C)')\n",
        "  plt.title(scenes[i])\n",
        "  plt.savefig(histoname)\n",
        "  print('Saving histogram for Landsat scene ', scenes[i], ' at ', histoname)  \n",
        "  plt.close()\n",
        "\n",
        "print(\"Finish:\", strftime(\"%x %X\"), 'Your histograms should now be visible at ', histo_dir)"
      ],
      "execution_count": null,
      "outputs": []
    },
    {
      "cell_type": "markdown",
      "metadata": {
        "id": "l1sYNsf_ndyG"
      },
      "source": [
        "#Export to CSV"
      ]
    },
    {
      "cell_type": "code",
      "metadata": {
        "id": "t9STTRpLaRnD",
        "colab": {
          "base_uri": "https://localhost:8080/"
        },
        "outputId": "b50108ed-220f-4a54-ff32-df218e0fa36f"
      },
      "source": [
        "#@markdown Execute this cell block to export a CSV containing temperature and related image metadata to your Google Drive.\n",
        "\n",
        "def exportWholeLakeStats(img):\n",
        "  img = ee.Image(img).clip(geo)\n",
        "\n",
        "  # retrieve image metadata for output file\n",
        "  landsattime = img.get('system:time_start')\n",
        "  cloudcover = img.get('CLOUD_COVER')\n",
        "  esd = img.get(\"EARTH_SUN_DISTANCE\")\n",
        "  elev = img.get('SUN_ELEVATION')\n",
        "  azi = img.get('SUN_AZIMUTH')\n",
        "  sza = img.get('SOLAR_ZENITH_ANGLE')\n",
        "  count = img.get('pixel_count')\n",
        "  pctAvail = ee.Number(count).divide(lakesurface)\n",
        "  #flags = ee.List([])\n",
        "\n",
        "  # get statistics for skin_temperature\n",
        "  reducers = ee.Reducer.mean().combine(**{\n",
        "      \"reducer2\": ee.Reducer.stdDev(), \"sharedInputs\":True}).combine(**{\n",
        "      \"reducer2\": ee.Reducer.minMax(), \"sharedInputs\":True}).combine(**{\n",
        "      \"reducer2\": ee.Reducer.median(**{\"maxBuckets\":500, \"minBucketWidth\": 0.125}), \"sharedInputs\":True}).combine(**{\n",
        "      \"reducer2\": ee.Reducer.skew(), \"sharedInputs\":True}).combine(**{\n",
        "      \"reducer2\": ee.Reducer.kurtosis(), \"sharedInputs\":True}).combine(**{\n",
        "      \"reducer2\": ee.Reducer.percentile(**{\"percentiles\": [25,75], \"maxBuckets\": 500, \"minBucketWidth\": 0.125}), \"sharedInputs\":True}).combine(**{\n",
        "      \"reducer2\": ee.Reducer.count(), \"sharedInputs\":True})\n",
        "  \n",
        "  stats = img.reduceRegion(**{\n",
        "      \"reducer\": reducers,\n",
        "      \"geometry\": geo,\n",
        "      \"scale\": 30,\n",
        "      \"maxPixels\": 5e9\n",
        "  })\n",
        "  \n",
        "  more_stats = ee.Dictionary({'pixel_count':count,\n",
        "                            'landsat_time':landsattime,\n",
        "                            'cloud_cover':cloudcover,\n",
        "                            'elev':elev,\n",
        "                            'azimuth':azi,\n",
        "                            'esd':esd,\n",
        "                            'sza':sza,\n",
        "                            'pct_lake':pctAvail,\n",
        "                            'l_exceltime':ee.Number(landsattime).divide(1000.0).divide(86400).add(25569)\n",
        "                            })\n",
        "  stats2 = ee.Dictionary.combine(stats, more_stats)\n",
        "\n",
        "  return ee.Feature(None,stats2)\n",
        "\n",
        "temp_stats = countedPixels.map(exportWholeLakeStats)\n",
        "\n",
        "#create the file name with user-specified prefix\n",
        "temp_filename = (file_prefix+'_temp_stats')\n",
        "\n",
        "export_task = ee.batch.Export.table.toDrive(**{\n",
        "    'collection': temp_stats,\n",
        "    'description': temp_filename,\n",
        "    \"fileFormat\": \"CSV\",\n",
        "    'folder': short_dir\n",
        "})\n",
        "\n",
        "print(\"Exporting \", temp_filename+\".csv\")\n",
        "export_task.start()\n",
        "print('Polling for task (id: {}) at'.format(export_task.id))\n",
        "\n",
        "while export_task.active():\n",
        "  print(strftime(\"%x %X\"), export_task.status())\n",
        "  sleep(10)\n",
        "\n",
        "print(\"Finished:\", strftime(\"%x %X\"))\n",
        "\n",
        "print('Export should now be visible in Drive at path:\\n',os.path.join(output_dir, temp_filename + \".csv\"))"
      ],
      "execution_count": 78,
      "outputs": [
        {
          "output_type": "stream",
          "name": "stdout",
          "text": [
            "Exporting  LAKENAME_temp_stats.csv\n",
            "Polling for task (id: QQSBVAS5YR4CL4GTLQK7LOHB) at\n",
            "02/07/22 15:39:00 {'state': 'READY', 'description': 'LAKENAME_temp_stats', 'creation_timestamp_ms': 1644248340361, 'update_timestamp_ms': 1644248340361, 'start_timestamp_ms': 0, 'task_type': 'EXPORT_FEATURES', 'id': 'QQSBVAS5YR4CL4GTLQK7LOHB', 'name': 'projects/earthengine-legacy/operations/QQSBVAS5YR4CL4GTLQK7LOHB'}\n",
            "02/07/22 15:39:11 {'state': 'READY', 'description': 'LAKENAME_temp_stats', 'creation_timestamp_ms': 1644248340361, 'update_timestamp_ms': 1644248340361, 'start_timestamp_ms': 0, 'task_type': 'EXPORT_FEATURES', 'id': 'QQSBVAS5YR4CL4GTLQK7LOHB', 'name': 'projects/earthengine-legacy/operations/QQSBVAS5YR4CL4GTLQK7LOHB'}\n",
            "02/07/22 15:39:21 {'state': 'READY', 'description': 'LAKENAME_temp_stats', 'creation_timestamp_ms': 1644248340361, 'update_timestamp_ms': 1644248340361, 'start_timestamp_ms': 0, 'task_type': 'EXPORT_FEATURES', 'id': 'QQSBVAS5YR4CL4GTLQK7LOHB', 'name': 'projects/earthengine-legacy/operations/QQSBVAS5YR4CL4GTLQK7LOHB'}\n",
            "02/07/22 15:39:31 {'state': 'READY', 'description': 'LAKENAME_temp_stats', 'creation_timestamp_ms': 1644248340361, 'update_timestamp_ms': 1644248340361, 'start_timestamp_ms': 0, 'task_type': 'EXPORT_FEATURES', 'id': 'QQSBVAS5YR4CL4GTLQK7LOHB', 'name': 'projects/earthengine-legacy/operations/QQSBVAS5YR4CL4GTLQK7LOHB'}\n",
            "02/07/22 15:39:42 {'state': 'READY', 'description': 'LAKENAME_temp_stats', 'creation_timestamp_ms': 1644248340361, 'update_timestamp_ms': 1644248340361, 'start_timestamp_ms': 0, 'task_type': 'EXPORT_FEATURES', 'id': 'QQSBVAS5YR4CL4GTLQK7LOHB', 'name': 'projects/earthengine-legacy/operations/QQSBVAS5YR4CL4GTLQK7LOHB'}\n",
            "02/07/22 15:39:52 {'state': 'READY', 'description': 'LAKENAME_temp_stats', 'creation_timestamp_ms': 1644248340361, 'update_timestamp_ms': 1644248340361, 'start_timestamp_ms': 0, 'task_type': 'EXPORT_FEATURES', 'id': 'QQSBVAS5YR4CL4GTLQK7LOHB', 'name': 'projects/earthengine-legacy/operations/QQSBVAS5YR4CL4GTLQK7LOHB'}\n",
            "02/07/22 15:40:02 {'state': 'RUNNING', 'description': 'LAKENAME_temp_stats', 'creation_timestamp_ms': 1644248340361, 'update_timestamp_ms': 1644248400103, 'start_timestamp_ms': 1644248399968, 'task_type': 'EXPORT_FEATURES', 'attempt': 1, 'id': 'QQSBVAS5YR4CL4GTLQK7LOHB', 'name': 'projects/earthengine-legacy/operations/QQSBVAS5YR4CL4GTLQK7LOHB'}\n",
            "Finished: 02/07/22 15:40:13\n",
            "Export should now be visible in Drive at path:\n",
            " LAKENAME\n"
          ]
        }
      ]
    },
    {
      "cell_type": "markdown",
      "metadata": {
        "id": "1zhMxo32fmnT"
      },
      "source": [
        "# **Pair Landsat with *in-situ* data**\n",
        "This next section is optional, but allows you to compare any field data you may have to the Landsat data produced here. This section uses the CSV exported above.<p>\n",
        "In order for this to run successfully, your data must be in CSV format and have the following headers/columns:\n",
        "\n",
        "\n",
        "*  `datetime`: Date and time of each temperature reading in a recognized strftime format\n",
        "*  `temp_degC`: an integer or float number representing temperature in degrees Celcius\n",
        "*  `location`: for in-lake statistics, a column with lake zone names (string format, no special characters); can be all the same for a single output or differentiated by lake zones/sensors\n",
        "* `depth_m`: as an integer or float number, for statistics about the depth of sensors for matched scenes\n",
        "\n",
        "The file may have additional columns, but the above are mandatory fields. To see an example dataset, click here. \n"
      ]
    },
    {
      "cell_type": "markdown",
      "metadata": {
        "id": "APg3jpUagGTf"
      },
      "source": [
        "## Upload CSV of *insitu* data\n",
        "Choose an option below. For more ways to import data, see [here](https://colab.research.google.com/notebooks/io.ipynb)  "
      ]
    },
    {
      "cell_type": "code",
      "metadata": {
        "id": "P0Gg7oRYPGqF",
        "cellView": "form"
      },
      "source": [
        "#@title Please provide some information about your data\n",
        "#@markdown What timezone is your data? <a href=\"https://en.wikipedia.org/wiki/List_of_tz_database_time_zones\" target=\"_blank\">Olson Times Wikipedia Page</a> Specifically, you need to indicate the UTC offset for your data for proper pairing, including whether or not your data timestamp observes Daylight Savings Time. Enter the text for the matching UTC offset and DST behavior from the 'TZ database name' column in the linked table. Note that the sign of the GMT offset is intentionally inverted from the UTC offset.\n",
        "insitu_timezone = \"Etc/GMT+5\" #@param {type:\"string\"}\n",
        "#@markdown How is your datetime formatted? Please use <a href='https://strftime.org/' target='_blank'>strftime</a> format.\n",
        "datetime_format = \"%Y-%m-%d %H:%M:%S\" #@param {type:\"string\"}"
      ],
      "execution_count": null,
      "outputs": []
    },
    {
      "cell_type": "code",
      "metadata": {
        "id": "7X-Eyd1aFf7_",
        "cellView": "form"
      },
      "source": [
        "#@title Option 1: Link to raw CSV from Github\n",
        "pasted_path = \"https://raw.githubusercontent.com/cherrickunh/ids-ne-lakes/master/data/archive/all_temp_data_v2021May14.csv?token=AC6S5HCH7JBBA5H6XIHI2W3BQPMWO\" #@param {type:\"string\"}\n",
        "\n",
        "is_df = pd.read_csv(pasted_path)\n",
        "#is_df[\"datetime\"] = pd.to_datetime(is_df[\"datetime\"])\n",
        "print(\"dataframe created\")"
      ],
      "execution_count": null,
      "outputs": []
    },
    {
      "cell_type": "code",
      "metadata": {
        "cellView": "form",
        "id": "oBcVtwu42-hG"
      },
      "source": [
        "#@title Option 2: Upload CSV from your Google Drive folder\n",
        "#@markdown using the folder icon on the left hand side, navigate to the file in\n",
        "#@markdown your Google Drive (named 'drive' here), click on the three vertical dots to the right of the file\n",
        "#@markdown and click on 'copy file path'. Paste the copied path below.\n",
        "\n",
        "pasted_path = \"\" #@param {type:\"string\"}\n",
        "\n",
        "is_df = pd.read_csv(pasted_path)\n",
        "print(\"dataframe created\")"
      ],
      "execution_count": null,
      "outputs": []
    },
    {
      "cell_type": "code",
      "metadata": {
        "id": "vHul1TwpD-go",
        "cellView": "form"
      },
      "source": [
        "#@title Option 3: Upload CSV from your local file system to Colab\n",
        "#@markdown (this is temporary while connected to the current Colab runtime session)<br>\n",
        "#@markdown Run this cell to upload a file\n",
        "uploaded = files.upload()\n",
        "for fn in uploaded.keys():\n",
        "  print(\"Paste this in the box below:\\n/content/{name}\".format(name=fn))\n"
      ],
      "execution_count": null,
      "outputs": []
    },
    {
      "cell_type": "code",
      "metadata": {
        "id": "52agyeVcKb8Z",
        "cellView": "form"
      },
      "source": [
        "pasted_path = \"/content/insitu_temp_data_v2021-10-20.csv\" #@param {type:\"string\"}\n",
        "\n",
        "is_df = pd.read_csv(pasted_path)\n",
        "print(\"dataframe created\")"
      ],
      "execution_count": null,
      "outputs": []
    },
    {
      "cell_type": "markdown",
      "metadata": {
        "id": "JnJU34MEO1c-"
      },
      "source": [
        "## Pair *insitu* data with Landsat data"
      ]
    },
    {
      "cell_type": "code",
      "metadata": {
        "id": "Xh155YwkBSlc",
        "cellView": "form"
      },
      "source": [
        "#@title Convert local datetime to UTC time\n",
        "#@markdown __Run this block__ to apply conversion of your specified local time to UTC time. \n",
        "insitu_tz = pytz.timezone(insitu_timezone)\n",
        "landsat_tz = pytz.timezone(\"UTC\")\n",
        "\n",
        "def convert_datetime(dt, dtformat=datetime_format):\n",
        "  #converts string format insitu time to a datetime obj\n",
        "  dto = datetime.strptime(dt, datetime_format)\n",
        "  #makes it time aware\n",
        "  dto_local = insitu_tz.localize(dto)\n",
        "  #converts to utc\n",
        "  dto_utc = dto_local.astimezone(landsat_tz)\n",
        "  return dto_utc\n",
        "\n",
        "dtobj_series = is_df['datetime']\n",
        "dtobj_series_conv = dtobj_series.apply(convert_datetime)\n",
        "is_df['datetime_utc'] = dtobj_series_conv\n",
        "\n",
        "print(\"\\nDate/time function imported and datetime converted in dataframe\", strftime(\"%x %X\"))"
      ],
      "execution_count": null,
      "outputs": []
    },
    {
      "cell_type": "code",
      "metadata": {
        "id": "O2csZXUp0Zlo",
        "cellView": "form"
      },
      "source": [
        "#@markdown Enter the window of time (in minutes) from Landsat flyover where *insitu* data should be included. For example, `timewindow = 30` will include any data within 60 minutes of Landsat flyover (+/- 30 minutes)\n",
        "timewindow = 30 #@param {type:\"number\"\n",
        "\n",
        "cwd = output_dir\n",
        "os.chdir(cwd)\n",
        "\n",
        "outfile = (file_prefix + \"_temp_landsat_paired.csv\")\n",
        "\n",
        "print(f\"Time window: +- {timewindow} minutes\")\n",
        "print(f\"In-situ time Zone: {insitu_timezone}\")\n",
        "print(\"\\nLandsat input file:\\n\", os.path.join(cwd,temp_filename+\".csv\"))\n",
        "print(\"\\nOutput file will be saved to:\\n\", os.path.join(cwd,outfile))\n",
        "\n",
        "min_sec = timewindow * 60\n"
      ],
      "execution_count": null,
      "outputs": []
    },
    {
      "cell_type": "code",
      "metadata": {
        "id": "XYfj7ThEZsFl",
        "cellView": "form"
      },
      "source": [
        "#@markdown The following codeblock compares the datasets and generate statistics \n",
        "#@markdown for in-lake data that matches Landsat flyovers.<br> \n",
        "#@markdown It also uses a subfolder called 'ancillary' (and creates the folder if needed) \n",
        "#@markdown that keeps a record of any insitu data points that are used for each Landsat scene.\n",
        "#@markdown If you have a large number of scenes to pair and/or a large dataframe of\n",
        "#@markdown in-situ data, this step may take some time. Timestamps that print below are \n",
        "#@markdown the Landast scene acquisition times where there are in-situ matches.\n",
        "\n",
        "print(\"Start:\", strftime(\"%x %X\"))\n",
        "file_name = (output_dir + '/' + temp_filename + '.csv')\n",
        "gee_csv = pd.read_csv(file_name)\n",
        "insitu_csv = is_df\n",
        "\n",
        "#make 'ancillary' folder in defined directory\n",
        "if not os.path.exists(os.path.join(cwd, 'ancillary')):\n",
        "    os.makedirs(os.path.join(cwd, 'ancillary'))\n",
        "print('Matched records files will be visible at ', cwd+ '/ancillary')\n",
        "\n",
        "#filter GEE output so that it's only as recent as minimum in-situ data\n",
        "insitumin = min(insitu_csv.datetime_utc)\n",
        "insitumax = max(insitu_csv.datetime_utc)\n",
        "\n",
        "def conv_lstime(i):\n",
        "  return pd.Timestamp(i, unit = 'ms', tz = 'utc')\n",
        "\n",
        "gee_csv['landsat_time_utc'] = gee_csv.landsat_time.apply(conv_lstime)\n",
        "\n",
        "gee_overlap = gee_csv[gee_csv.landsat_time_utc>insitumin]\n",
        "gee_overlap_fin = gee_overlap[gee_overlap.landsat_time_utc<insitumax]\n",
        "#reindex filtered dataset\n",
        "gee_overlap_fin = gee_overlap_fin.reset_index(drop=True)\n",
        "\n",
        "gee_datelist = gee_overlap_fin[\"landsat_time_utc\"]\n",
        "\n",
        "# function to convert dt_delta to seconds\n",
        "def delta_tosec(i):\n",
        "  total_secs = i.seconds + i.days*24*60*60\n",
        "  return total_secs\n",
        "\n",
        "for i in range(0,len(gee_datelist)):\n",
        "  scene = gee_overlap_fin['system:index'][i][-20:]\n",
        "  landsattime = gee_overlap_fin['landsat_time_utc'][i]\n",
        "\n",
        "  # create a df of insitu data that are observed within the user-specified cutoff \n",
        "\n",
        "  #calculate time delta for each obs\n",
        "  insitu_csv['dt_delta'] = landsattime - insitu_csv['datetime_utc']\n",
        "  insitu_csv['delta_secs'] = insitu_csv.dt_delta.apply(delta_tosec)  \n",
        "  same_time = insitu_csv[(abs(insitu_csv.delta_secs) <= min_sec)]\n",
        "  \n",
        "  #if the dataframe is not empty, summarize the results\n",
        "  if same_time.shape[0]>0:\n",
        "    print(landsattime)\n",
        "    gee_overlap_fin.loc[i, \"scene\"] = scene\n",
        "    gee_overlap_fin.loc[i, \"is_temp_avg\"] = same_time[\"temp_degC\"].mean()\n",
        "    gee_overlap_fin.loc[i, \"is_temp_stdev\"] = same_time[\"temp_degC\"].std()\n",
        "    gee_overlap_fin.loc[i, \"is_depth_avg\"] = same_time[\"depth_m\"].mean()\n",
        "    gee_overlap_fin.loc[i, \"is_depth_stdev\"] = same_time[\"depth_m\"].std()\n",
        "    gee_overlap_fin.loc[i, \"is_temp_med\"] = same_time[\"temp_degC\"].median()\n",
        "    gee_overlap_fin.loc[i, \"insitu_count\"] = same_time.shape[0]\n",
        "\n",
        "    site_stats = same_time.groupby(['location'])['temp_degC'].agg(['median', 'mean', 'std', 'count'])\n",
        "\n",
        "    sites = site_stats.axes[0]\n",
        "    stats = site_stats.axes[1]\n",
        "\n",
        "    for site in sites:\n",
        "        for stat in stats:\n",
        "            newcol = \"{0}_{1}\".format(str(site), str(stat))\n",
        "            gee_overlap_fin.loc[i, newcol] = site_stats[stat][site].item()\n",
        "\n",
        "    if same_time.shape[0] > 0:\n",
        "        same_time.to_csv(os.path.join(cwd, 'ancillary', scene + \".csv\"))\n",
        "\n",
        "out_csv = gee_overlap_fin[gee_overlap_fin[\"insitu_count\"] > 0]\n",
        "out_csv.to_csv(os.path.join(cwd, outfile))\n",
        "(\"Finished:\", strftime(\"%x %X\"))"
      ],
      "execution_count": null,
      "outputs": []
    },
    {
      "cell_type": "markdown",
      "metadata": {
        "id": "Cz3nZJqn7R5G"
      },
      "source": [
        "##You are all set. Now go analyze your lake surface temperature data!\n",
        "\n"
      ]
    }
  ]
}
