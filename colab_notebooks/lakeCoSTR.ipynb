{
  "nbformat": 4,
  "nbformat_minor": 0,
  "metadata": {
    "colab": {
      "name": "landsat_C2_ST_v9.ipynb",
      "provenance": [],
      "collapsed_sections": [
        "DBZzaGgqpr8W"
      ],
      "history_visible": true,
      "include_colab_link": true
    },
    "kernelspec": {
      "name": "python3",
      "display_name": "Python 3"
    },
    "language_info": {
      "name": "python"
    },
    "widgets": {
      "application/vnd.jupyter.widget-state+json": {
        "ec30edfc923e41e4bab6567b6fdb110e": {
          "model_module": "jupyter-leaflet",
          "model_name": "LeafletMapModel",
          "model_module_version": "^0.15.0",
          "state": {
            "_dom_classes": [],
            "_model_module": "jupyter-leaflet",
            "_model_module_version": "^0.15.0",
            "_model_name": "LeafletMapModel",
            "_view_count": null,
            "_view_module": "jupyter-leaflet",
            "_view_module_version": "^0.15.0",
            "_view_name": "LeafletMapView",
            "bottom": 144202.22220628525,
            "bounce_at_zoom_limits": true,
            "box_zoom": true,
            "center": [
              -17.413837282712883,
              28.093656295519605
            ],
            "close_popup_on_click": true,
            "controls": [
              "IPY_MODEL_221fc97edc354d148cc98eea61b56259",
              "IPY_MODEL_049e1c64715e49d8ba1bf8d4938ab707",
              "IPY_MODEL_b4e11c24806640aa9c865e287b2cb898",
              "IPY_MODEL_de88ff62a4ef4d5fb4b4ee95f900eaa4"
            ],
            "crs": {
              "name": "EPSG3857",
              "custom": false
            },
            "default_style": "IPY_MODEL_37673ec3dd7a4f4f9d9901e345882b1b",
            "double_click_zoom": true,
            "dragging": true,
            "dragging_style": "IPY_MODEL_57e9205236bf44b4a70a947e5765a6ac",
            "east": 28.649152511339917,
            "fullscreen": false,
            "inertia": true,
            "inertia_deceleration": 3000,
            "inertia_max_speed": 1500,
            "interpolation": "bilinear",
            "keyboard": true,
            "keyboard_pan_offset": 80,
            "keyboard_zoom_offset": 1,
            "layers": [
              "IPY_MODEL_bb4898fe04364f57b41a31f3c0c05d70"
            ],
            "layout": "IPY_MODEL_5ebcbd8114cb4928857d0220489843fe",
            "left": 151124.67621092414,
            "max_zoom": 18,
            "min_zoom": 1,
            "modisdate": "2022-03-31",
            "north": -17.08595755673303,
            "options": [
              "bounce_at_zoom_limits",
              "box_zoom",
              "center",
              "close_popup_on_click",
              "double_click_zoom",
              "dragging",
              "fullscreen",
              "inertia",
              "inertia_deceleration",
              "inertia_max_speed",
              "interpolation",
              "keyboard",
              "keyboard_pan_offset",
              "keyboard_zoom_offset",
              "max_zoom",
              "min_zoom",
              "prefer_canvas",
              "scroll_wheel_zoom",
              "tap",
              "tap_tolerance",
              "touch_zoom",
              "world_copy_jump",
              "zoom",
              "zoom_animation_threshold",
              "zoom_delta",
              "zoom_snap",
              "zoom_start"
            ],
            "prefer_canvas": false,
            "right": 151933.67621092414,
            "scroll_wheel_zoom": true,
            "south": -17.741129564508537,
            "style": "IPY_MODEL_37673ec3dd7a4f4f9d9901e345882b1b",
            "tap": true,
            "tap_tolerance": 15,
            "top": 143702.22220628525,
            "touch_zoom": true,
            "west": 27.53816007969929,
            "window_url": "https://6z0ucvne4ok-496ff2e9c6d22116-0-colab.googleusercontent.com/outputframe.html?vrz=colab-20220331-060046-RC00_438531407",
            "world_copy_jump": false,
            "zoom": 10,
            "zoom_animation_threshold": 4,
            "zoom_delta": 1,
            "zoom_snap": 1,
            "zoom_start": 12,
            "_dragging": false
          }
        },
        "221fc97edc354d148cc98eea61b56259": {
          "model_module": "jupyter-leaflet",
          "model_name": "LeafletZoomControlModel",
          "model_module_version": "^0.15.0",
          "state": {
            "_model_module": "jupyter-leaflet",
            "_model_module_version": "^0.15.0",
            "_model_name": "LeafletZoomControlModel",
            "_view_count": null,
            "_view_module": "jupyter-leaflet",
            "_view_module_version": "^0.15.0",
            "_view_name": "LeafletZoomControlView",
            "options": [
              "position",
              "zoom_in_text",
              "zoom_in_title",
              "zoom_out_text",
              "zoom_out_title"
            ],
            "position": "topleft",
            "zoom_in_text": "+",
            "zoom_in_title": "Zoom in",
            "zoom_out_text": "-",
            "zoom_out_title": "Zoom out"
          }
        },
        "049e1c64715e49d8ba1bf8d4938ab707": {
          "model_module": "jupyter-leaflet",
          "model_name": "LeafletAttributionControlModel",
          "model_module_version": "^0.15.0",
          "state": {
            "_model_module": "jupyter-leaflet",
            "_model_module_version": "^0.15.0",
            "_model_name": "LeafletAttributionControlModel",
            "_view_count": null,
            "_view_module": "jupyter-leaflet",
            "_view_module_version": "^0.15.0",
            "_view_name": "LeafletAttributionControlView",
            "options": [
              "position",
              "prefix"
            ],
            "position": "bottomright",
            "prefix": "ipyleaflet"
          }
        },
        "b4e11c24806640aa9c865e287b2cb898": {
          "model_module": "jupyter-leaflet",
          "model_name": "LeafletDrawControlModel",
          "model_module_version": "^0.15.0",
          "state": {
            "_model_module": "jupyter-leaflet",
            "_model_module_version": "^0.15.0",
            "_model_name": "LeafletDrawControlModel",
            "_view_count": null,
            "_view_module": "jupyter-leaflet",
            "_view_module_version": "^0.15.0",
            "_view_name": "LeafletDrawControlView",
            "circle": {},
            "circlemarker": {},
            "data": [
              {
                "type": "Feature",
                "properties": {
                  "style": {
                    "stroke": true,
                    "color": "#efed69",
                    "weight": 4,
                    "opacity": 0.5,
                    "fill": true,
                    "fillColor": "#3fca45d",
                    "fillOpacity": 0.25,
                    "clickable": true
                  }
                },
                "geometry": {
                  "type": "Polygon",
                  "coordinates": [
                    [
                      [
                        26.945986,
                        -17.960191
                      ],
                      [
                        26.945986,
                        -16.453098
                      ],
                      [
                        29.084391,
                        -16.453098
                      ],
                      [
                        29.084391,
                        -17.960191
                      ],
                      [
                        26.945986,
                        -17.960191
                      ]
                    ]
                  ]
                }
              },
              {
                "type": "Feature",
                "properties": {
                  "style": {
                    "pane": "overlayPane",
                    "attribution": null,
                    "bubblingMouseEvents": true,
                    "fill": true,
                    "smoothFactor": 1,
                    "noClip": false,
                    "stroke": true,
                    "color": "#efed69",
                    "weight": 4,
                    "opacity": 0.5,
                    "lineCap": "round",
                    "lineJoin": "round",
                    "dashArray": null,
                    "dashOffset": null,
                    "fillColor": "#3fca45d",
                    "fillOpacity": 0.25,
                    "fillRule": "evenodd",
                    "interactive": true,
                    "clickable": true
                  }
                },
                "geometry": {
                  "type": "Polygon",
                  "coordinates": [
                    [
                      [
                        26.945986,
                        -17.960191
                      ],
                      [
                        26.945986,
                        -16.453098
                      ],
                      [
                        29.084391,
                        -16.453098
                      ],
                      [
                        29.084391,
                        -17.960191
                      ],
                      [
                        26.945986,
                        -17.960191
                      ]
                    ]
                  ]
                }
              }
            ],
            "edit": true,
            "marker": {},
            "options": [
              "position"
            ],
            "polygon": {},
            "polyline": {},
            "position": "topleft",
            "rectangle": {
              "shapeOptions": {
                "fillColor": "#3fca45d",
                "color": "#efed69",
                "fillOpacity": 0.25
              }
            },
            "remove": true
          }
        },
        "de88ff62a4ef4d5fb4b4ee95f900eaa4": {
          "model_module": "jupyter-leaflet",
          "model_name": "LeafletSearchControlModel",
          "model_module_version": "^0.15.0",
          "state": {
            "_model_module": "jupyter-leaflet",
            "_model_module_version": "^0.15.0",
            "_model_name": "LeafletSearchControlModel",
            "_view_count": null,
            "_view_module": "jupyter-leaflet",
            "_view_module_version": "^0.15.0",
            "_view_name": "LeafletSearchControlView",
            "animate_location": false,
            "auto_collapse": false,
            "auto_type": false,
            "found_style": {
              "fillColor": "#3f0",
              "color": "#0f0"
            },
            "jsonp_param": "json_callback",
            "layer": null,
            "marker": null,
            "options": [
              "animate_location",
              "auto_collapse",
              "auto_type",
              "found_style",
              "jsonp_param",
              "position",
              "property_loc",
              "property_name",
              "url",
              "zoom"
            ],
            "position": "topright",
            "property_loc": [
              "lat",
              "lon"
            ],
            "property_name": "display_name",
            "url": "https://nominatim.openstreetmap.org/search?format=json&q={s}",
            "zoom": 7
          }
        },
        "37673ec3dd7a4f4f9d9901e345882b1b": {
          "model_module": "jupyter-leaflet",
          "model_name": "LeafletMapStyleModel",
          "model_module_version": "^0.15.0",
          "state": {
            "_model_module": "jupyter-leaflet",
            "_model_module_version": "^0.15.0",
            "_model_name": "LeafletMapStyleModel",
            "_view_count": null,
            "_view_module": "@jupyter-widgets/base",
            "_view_module_version": "1.2.0",
            "_view_name": "StyleView",
            "cursor": "grab"
          }
        },
        "57e9205236bf44b4a70a947e5765a6ac": {
          "model_module": "jupyter-leaflet",
          "model_name": "LeafletMapStyleModel",
          "model_module_version": "^0.15.0",
          "state": {
            "_model_module": "jupyter-leaflet",
            "_model_module_version": "^0.15.0",
            "_model_name": "LeafletMapStyleModel",
            "_view_count": null,
            "_view_module": "@jupyter-widgets/base",
            "_view_module_version": "1.2.0",
            "_view_name": "StyleView",
            "cursor": "move"
          }
        },
        "bb4898fe04364f57b41a31f3c0c05d70": {
          "model_module": "jupyter-leaflet",
          "model_name": "LeafletTileLayerModel",
          "model_module_version": "^0.15.0",
          "state": {
            "_model_module": "jupyter-leaflet",
            "_model_module_version": "^0.15.0",
            "_model_name": "LeafletTileLayerModel",
            "_view_count": null,
            "_view_module": "jupyter-leaflet",
            "_view_module_version": "^0.15.0",
            "_view_name": "LeafletTileLayerView",
            "attribution": "&copy; <a href=\"https://www.openstreetmap.org/copyright\">OpenStreetMap</a> contributors",
            "base": true,
            "bottom": true,
            "detect_retina": false,
            "loading": false,
            "max_native_zoom": 18,
            "max_zoom": 19,
            "min_native_zoom": 0,
            "min_zoom": 1,
            "name": "OpenStreetMap.Mapnik",
            "no_wrap": false,
            "opacity": 1,
            "options": [
              "attribution",
              "detect_retina",
              "max_native_zoom",
              "max_zoom",
              "min_native_zoom",
              "min_zoom",
              "no_wrap",
              "tile_size",
              "tms"
            ],
            "popup": null,
            "popup_max_height": null,
            "popup_max_width": 300,
            "popup_min_width": 50,
            "show_loading": false,
            "tile_size": 256,
            "tms": false,
            "url": "https://a.tile.openstreetmap.org/{z}/{x}/{y}.png",
            "visible": true
          }
        },
        "5ebcbd8114cb4928857d0220489843fe": {
          "model_module": "@jupyter-widgets/base",
          "model_name": "LayoutModel",
          "model_module_version": "1.2.0",
          "state": {
            "_model_module": "@jupyter-widgets/base",
            "_model_module_version": "1.2.0",
            "_model_name": "LayoutModel",
            "_view_count": null,
            "_view_module": "@jupyter-widgets/base",
            "_view_module_version": "1.2.0",
            "_view_name": "LayoutView",
            "align_content": null,
            "align_items": null,
            "align_self": null,
            "border": null,
            "bottom": null,
            "display": null,
            "flex": null,
            "flex_flow": null,
            "grid_area": null,
            "grid_auto_columns": null,
            "grid_auto_flow": null,
            "grid_auto_rows": null,
            "grid_column": null,
            "grid_gap": null,
            "grid_row": null,
            "grid_template_areas": null,
            "grid_template_columns": null,
            "grid_template_rows": null,
            "height": "500px",
            "justify_content": null,
            "justify_items": null,
            "left": null,
            "margin": null,
            "max_height": null,
            "max_width": null,
            "min_height": null,
            "min_width": null,
            "object_fit": null,
            "object_position": null,
            "order": null,
            "overflow": null,
            "overflow_x": null,
            "overflow_y": null,
            "padding": null,
            "right": null,
            "top": null,
            "visibility": null,
            "width": "80%"
          }
        },
        "02f856579afe4f948ca1cbe5aba8cc5b": {
          "model_module": "jupyter-leaflet",
          "model_name": "LeafletMapStyleModel",
          "model_module_version": "^0.15.0",
          "state": {
            "_model_module": "jupyter-leaflet",
            "_model_module_version": "^0.15.0",
            "_model_name": "LeafletMapStyleModel",
            "_view_count": null,
            "_view_module": "@jupyter-widgets/base",
            "_view_module_version": "1.2.0",
            "_view_name": "StyleView",
            "cursor": "grab"
          }
        }
      }
    }
  },
  "cells": [
    {
      "cell_type": "markdown",
      "metadata": {
        "id": "view-in-github",
        "colab_type": "text"
      },
      "source": [
        "<a href=\"https://colab.research.google.com/github/steeleb/ids-ne-lakes/blob/master/colab_notebooks/lakeCoSTR.ipynb\" target=\"_parent\"><img src=\"https://colab.research.google.com/assets/colab-badge.svg\" alt=\"Open In Colab\"/></a>"
      ]
    },
    {
      "cell_type": "markdown",
      "metadata": {
        "id": "tr9ipVEDv7BK"
      },
      "source": [
        "# **lakeCoSTR**<br>\n",
        "a tool for *__lake__ __Co__llection 2 __S__urface __T__emperature __R__etrieval*<p>\n",
        "<p>\n",
        "\n",
        "**Version 10**<br>\n",
        "*Last updated: 2022-04-01<p>*\n",
        "\n",
        "Created by:<br>\n",
        "Christina Herrick<br>\n",
        "University of New Hampshire<br>\n",
        "christina.herrick@unh.edu<p>\n",
        "Bethel Steele<br>\n",
        "Cary Institute of Ecosystem Studies<br>\n",
        "steeleb@caryinstitute.org<p>\n",
        "__This tool is still under development and has an associated manuscript that has been submitted for peer review.__"
      ]
    },
    {
      "cell_type": "markdown",
      "source": [
        "# **User Guide**\n",
        "Please view the **user guide** for assistance in navigating the tool and for specific constraints and caveats.\n",
        "\n",
        "# **Motivations of lakeCoSTR**\n",
        "We created lakeCoSTR to make the acquisition and analysis of Landsat's Collection 2 Surface Temperature product more accessible for those interested in obtaining historical estimates of lake temperature from remote sensing data. This tool is geared to researchers interested in gathering historical temperature estimates, especially for small lakes."
      ],
      "metadata": {
        "id": "0Hj_-5o-9Fsz"
      }
    },
    {
      "cell_type": "markdown",
      "metadata": {
        "id": "psnrRlTjBj2M"
      },
      "source": [
        "# **1. Initial Setup**\n",
        "\n",
        "This notebook uses the [Google Earth Engine](https://developers.google.com/earth-engine) [Python API](https://developers.google.com/earth-engine/guides/python_install) to extract the surface temperature product from Landsat Collection 2 images for any water body in the world. \n"
      ]
    },
    {
      "cell_type": "markdown",
      "metadata": {
        "id": "g3zRra91DaEq"
      },
      "source": [
        "## **1.1 Modules**\n",
        "\n",
        "This section of code blocks imports necessary python modules for the notebook to run. You will be prompted to click one or more URLs and be taken to a page to sign in with your Google account.\n",
        "\n",
        "Copy the unique code(s) provided on the web page when prompted and paste where prompted to finish authorization."
      ]
    },
    {
      "cell_type": "code",
      "metadata": {
        "id": "gh-VYdMKCAkM",
        "cellView": "form"
      },
      "source": [
        "#@markdown __Run this block__ to authorize Colab to authenticate your Google account and give it access to upload files from your local computer. \n",
        "from google.colab import auth, files\n",
        "auth.authenticate_user()\n",
        "import gspread\n",
        "from oauth2client.client import GoogleCredentials"
      ],
      "execution_count": 1,
      "outputs": []
    },
    {
      "cell_type": "code",
      "metadata": {
        "id": "STd1_lFcVYMZ",
        "cellView": "form",
        "outputId": "51a974fb-2415-44ee-b0a0-516b2d75312a",
        "colab": {
          "base_uri": "https://localhost:8080/"
        }
      },
      "source": [
        "#@markdown __Run this block__ to connect Colab to your Earth Engine account\n",
        "#@markdown You must already be authorized to use Google Earth Engine. \n",
        "#@markdown <p>If you do not already have access, <a href=\"https://signup.earthengine.google.com/#!/\" target=\"_blank\">fill out this application</a>.\n",
        "import ee\n",
        "ee.Authenticate()\n",
        "ee.Initialize()"
      ],
      "execution_count": 2,
      "outputs": [
        {
          "output_type": "stream",
          "name": "stdout",
          "text": [
            "To authorize access needed by Earth Engine, open the following URL in a web browser and follow the instructions. If the web browser does not start automatically, please manually browse the URL below.\n",
            "\n",
            "    https://accounts.google.com/o/oauth2/auth?client_id=517222506229-vsmmajv00ul0bs7p89v5m89qs8eb9359.apps.googleusercontent.com&scope=https%3A%2F%2Fwww.googleapis.com%2Fauth%2Fearthengine+https%3A%2F%2Fwww.googleapis.com%2Fauth%2Fdevstorage.full_control&redirect_uri=urn%3Aietf%3Awg%3Aoauth%3A2.0%3Aoob&response_type=code&code_challenge=Ametfwnm6Z1SEKTh8KbHHsaA9oIwWW_63XGNfbZYqOE&code_challenge_method=S256\n",
            "\n",
            "The authorization workflow will generate a code, which you should paste in the box below. \n",
            "Enter verification code: 4/1AX4XfWjqDRG9Wvl-G3pBjTpLt96rRVvwkUgFKLbzOTWnqn9Lqq5bZsEMbeo\n",
            "\n",
            "Successfully saved authorization token.\n"
          ]
        }
      ]
    },
    {
      "cell_type": "code",
      "metadata": {
        "id": "SaB_g_reJG41",
        "cellView": "form",
        "outputId": "d982fd74-bc57-480f-d5b7-acbb6c782adc",
        "colab": {
          "base_uri": "https://localhost:8080/"
        }
      },
      "source": [
        "#@markdown __Run this block__ to connect Colab to your Google Drive\n",
        "from google.colab import drive\n",
        "drive.mount('/content/drive', force_remount=False)"
      ],
      "execution_count": 3,
      "outputs": [
        {
          "output_type": "stream",
          "name": "stdout",
          "text": [
            "Mounted at /content/drive\n"
          ]
        }
      ]
    },
    {
      "cell_type": "code",
      "metadata": {
        "id": "8SN2nSfHBF1S",
        "cellView": "form",
        "outputId": "da7cd0d8-0e09-4f0f-afec-645ed92f8421",
        "colab": {
          "base_uri": "https://localhost:8080/"
        }
      },
      "source": [
        "#@markdown __Run this block__ to install packages and functions used for \n",
        "#@markdown interactive mapping and data exploration\n",
        "import pandas as pd\n",
        "import numpy as np\n",
        "import os\n",
        "import re\n",
        "import subprocess\n",
        "import matplotlib.pyplot as plt\n",
        "from time import strftime, sleep\n",
        "from datetime import datetime, timedelta\n",
        "import pytz\n",
        "import folium\n",
        "from folium import plugins\n",
        "from google.colab import data_table\n",
        "\n",
        "try:\n",
        "  from ipyleaflet import Map, DrawControl\n",
        "  from ipywidgets import Layout\n",
        "except ImportError:\n",
        "  subprocess.check_call([\"python\",\"-m\",\"pip\",\"install\",\"-U\",\"ipyleaflet\"])\n",
        "  from ipyleaflet import Map, basemaps, basemap_to_tiles, DrawControl\n",
        "  from ipywidgets import Layout\n",
        "\n",
        "# Add custom basemaps to folium\n",
        "basemaps = {\n",
        "    'Google Maps': folium.TileLayer(\n",
        "        tiles = 'https://mt1.google.com/vt/lyrs=m&x={x}&y={y}&z={z}',\n",
        "        attr = 'Google',\n",
        "        name = 'Google Maps',\n",
        "        overlay = True,\n",
        "        control = True\n",
        "    ),\n",
        "    'Google Satellite': folium.TileLayer(\n",
        "        tiles = 'https://mt1.google.com/vt/lyrs=s&x={x}&y={y}&z={z}',\n",
        "        attr = 'Google',\n",
        "        name = 'Google Satellite',\n",
        "        overlay = True,\n",
        "        control = True\n",
        "    ),\n",
        "    'Google Terrain': folium.TileLayer(\n",
        "        tiles = 'https://mt1.google.com/vt/lyrs=p&x={x}&y={y}&z={z}',\n",
        "        attr = 'Google',\n",
        "        name = 'Google Terrain',\n",
        "        overlay = True,\n",
        "        control = True\n",
        "    ),\n",
        "    'Google Satellite Hybrid': folium.TileLayer(\n",
        "        tiles = 'https://mt1.google.com/vt/lyrs=y&x={x}&y={y}&z={z}',\n",
        "        attr = 'Google',\n",
        "        name = 'Google Satellite',\n",
        "        overlay = True,\n",
        "        control = True\n",
        "    ),\n",
        "    'Esri Satellite': folium.TileLayer(\n",
        "        tiles = 'https://server.arcgisonline.com/ArcGIS/rest/services/World_Imagery/MapServer/tile/{z}/{y}/{x}',\n",
        "        attr = 'Esri',\n",
        "        name = 'Esri Satellite',\n",
        "        overlay = True,\n",
        "        control = True\n",
        "    )\n",
        "}\n",
        "\n",
        "# Define a method for displaying Earth Engine image tiles on a folium map.\n",
        "def add_ee_layer(self, ee_object, vis_params, name):\n",
        "    \n",
        "    try:    \n",
        "        # display ee.Image()\n",
        "        if isinstance(ee_object, ee.image.Image):    \n",
        "            map_id_dict = ee.Image(ee_object).getMapId(vis_params)\n",
        "            folium.raster_layers.TileLayer(\n",
        "            tiles = map_id_dict['tile_fetcher'].url_format,\n",
        "            attr = 'Google Earth Engine',\n",
        "            name = name,\n",
        "            overlay = True,\n",
        "            control = True\n",
        "            ).add_to(self)\n",
        "        # display ee.ImageCollection()\n",
        "        elif isinstance(ee_object, ee.imagecollection.ImageCollection):    \n",
        "            ee_object_new = ee_object.mosaic()\n",
        "            map_id_dict = ee.Image(ee_object_new).getMapId(vis_params)\n",
        "            folium.raster_layers.TileLayer(\n",
        "            tiles = map_id_dict['tile_fetcher'].url_format,\n",
        "            attr = 'Google Earth Engine',\n",
        "            name = name,\n",
        "            overlay = True,\n",
        "            control = True\n",
        "            ).add_to(self)\n",
        "        # display ee.Geometry()\n",
        "        elif isinstance(ee_object, ee.geometry.Geometry):    \n",
        "            folium.GeoJson(\n",
        "            data = ee_object.getInfo(),\n",
        "            name = name,\n",
        "            overlay = True,\n",
        "            control = True\n",
        "        ).add_to(self)\n",
        "        # display ee.FeatureCollection()\n",
        "        elif isinstance(ee_object, ee.featurecollection.FeatureCollection):  \n",
        "            ee_object_new = ee.Image().paint(ee_object, 0, 2)\n",
        "            map_id_dict = ee.Image(ee_object_new).getMapId(vis_params)\n",
        "            folium.raster_layers.TileLayer(\n",
        "            tiles = map_id_dict['tile_fetcher'].url_format,\n",
        "            attr = 'Google Earth Engine',\n",
        "            name = name,\n",
        "            overlay = True,\n",
        "            control = True\n",
        "        ).add_to(self)\n",
        "    \n",
        "    except:\n",
        "        print(\"Could not display {}\".format(name))\n",
        "    \n",
        "# Add EE drawing method to folium.\n",
        "folium.Map.add_ee_layer = add_ee_layer\n",
        "\n",
        "print(\"Packages installed\")"
      ],
      "execution_count": 4,
      "outputs": [
        {
          "output_type": "stream",
          "name": "stdout",
          "text": [
            "Packages installed\n"
          ]
        }
      ]
    },
    {
      "cell_type": "markdown",
      "metadata": {
        "id": "1C4zmuTIA8SR"
      },
      "source": [
        "## **1.2 Imported variables**\n",
        "These are Landsat-specific variable settings for GEE."
      ]
    },
    {
      "cell_type": "code",
      "metadata": {
        "id": "CkiZcezXBEG5",
        "cellView": "form",
        "outputId": "4086265b-84c9-49d8-f0e3-1deaf60ee097",
        "colab": {
          "base_uri": "https://localhost:8080/"
        }
      },
      "source": [
        "#@markdown __Run this block__ to import pre-existing features, images, and collections from Earth Engine\n",
        "wrs2 = ee.FeatureCollection(\"users/christinaherrickunh/WRS2_descending_2018\")\n",
        "utmbounds = ee.FeatureCollection(\"users/christinaherrickunh/UTM_Zone_Boundaries\")\n",
        "sw = ee.Image(\"JRC/GSW1_2/GlobalSurfaceWater\")\n",
        "openwater = sw.select(\"occurrence\")\n",
        "l4t1 = ee.ImageCollection(\"LANDSAT/LT04/C02/T1_L2\")\n",
        "l4t2 = ee.ImageCollection(\"LANDSAT/LT04/C02/T2_L2\")\n",
        "l5t1 = ee.ImageCollection(\"LANDSAT/LT05/C02/T1_L2\")\n",
        "l5t2 = ee.ImageCollection(\"LANDSAT/LT05/C02/T2_L2\")\n",
        "l7t1 = ee.ImageCollection(\"LANDSAT/LE07/C02/T1_L2\")\n",
        "l7t2 = ee.ImageCollection(\"LANDSAT/LE07/C02/T2_L2\")\n",
        "l8t1 = ee.ImageCollection(\"LANDSAT/LC08/C02/T1_L2\")\n",
        "l8t2 = ee.ImageCollection(\"LANDSAT/LC08/C02/T2_L2\")\n",
        "\n",
        "\n",
        "def prep457bands(img):\n",
        "  systime = img.get('system:time_start')\n",
        "  elev = img.get(\"SUN_ELEVATION\")\n",
        "  sza = ee.Number(90).subtract(elev)\n",
        "  \n",
        "  qa = img.select([\"QA_PIXEL\"])\n",
        "  cloud1 = qa.bitwiseAnd(2).eq(0)  # bit 1, dilated cloud\n",
        "  cloud3 = qa.bitwiseAnd(8).eq(0)  # bit 3, cloud\n",
        "  snow = qa.bitwiseAnd(32).eq(0)  # bit 5, snow\n",
        "  cloud_confid = qa.rightShift(8).bitwiseAnd(3).lt(2)  # bits 8-9\n",
        "  snow_confid = qa.rightShift(12).bitwiseAnd(3).lt(2)  # bits 12-13\n",
        "  cirrus_confid = qa.rightShift(14).bitwiseAnd(3).lt(2)  # bits 14-15\n",
        "\n",
        "  temp = img.select([\"ST_B6\"],[\"surface_temp\"]).multiply(0.00341802).add(149).add(-273.15)\n",
        "  \n",
        "  updated = (temp.updateMask(cloud1).updateMask(cloud3).updateMask(snow)\n",
        "  .updateMask(cloud_confid).updateMask(snow_confid).updateMask(cirrus_confid))\n",
        "          \n",
        "  return ee.Image(updated).copyProperties(img).set(\"system:time_start\",systime).set(\"SOLAR_ZENITH_ANGLE\", sza)\n",
        "\n",
        "def prep8bands(img):\n",
        "  systime = img.get('system:time_start')\n",
        "  elev = img.get(\"SUN_ELEVATION\")\n",
        "  sza = ee.Number(90).subtract(elev)\n",
        "\n",
        "  qa = img.select([\"QA_PIXEL\"])\n",
        "  cloud1 = qa.bitwiseAnd(2).eq(0)  # bit 1, dilated cloud\n",
        "  cloud2 = qa.bitwiseAnd(4).eq(0)  # bit 2, cirrus (high confidence)\n",
        "  cloud3 = qa.bitwiseAnd(8).eq(0)  # bit 3, cloud\n",
        "  snow = qa.bitwiseAnd(32).eq(0)  # bit 5, snow\n",
        "  cloud_confid = qa.rightShift(8).bitwiseAnd(3).lt(2)  # bits 8-9\n",
        "  snow_confid = qa.rightShift(12).bitwiseAnd(3).lt(2)  # bits 12-13\n",
        "  cirrus_confid = qa.rightShift(14).bitwiseAnd(3).lt(2)  # bits 14-15\n",
        "  \n",
        "  temp = img.select([\"ST_B10\"],[\"surface_temp\"]).multiply(0.00341802).add(149).add(-273.15)\n",
        "  updated = (temp.updateMask(cloud1).updateMask(cloud3).updateMask(snow).\n",
        "             updateMask(cloud_confid).updateMask(snow_confid).updateMask(cirrus_confid))\n",
        "\n",
        "  return ee.Image(updated).copyProperties(img).set(\"system:time_start\",systime).set(\"SOLAR_ZENITH_ANGLE\", sza)\n",
        "\n",
        "\n",
        "print(\"variables and functions imported\")"
      ],
      "execution_count": 5,
      "outputs": [
        {
          "output_type": "stream",
          "name": "stdout",
          "text": [
            "variables and functions imported\n"
          ]
        }
      ]
    },
    {
      "cell_type": "markdown",
      "metadata": {
        "id": "rxgpEciUBKLy"
      },
      "source": [
        "## **1.3 Define the lake area**\n",
        "\n",
        "In this section, use either *Option A*, where you define the bounding box, or *Option B* where you import a shape file of your lake. \n"
      ]
    },
    {
      "cell_type": "markdown",
      "metadata": {
        "id": "9JiuNetjpgpJ"
      },
      "source": [
        "###Option A: use a bounding box\n",
        "Use the Rectangle tool on the map to draw a bounding box. The bounding box should be as small as possible while still including the entire lake surface. It cannot be a centroid location.<p>Do not run this block if you are using Option B."
      ]
    },
    {
      "cell_type": "code",
      "source": [
        "#@markdown Run this block to generate a map and use the Rectangle tool to draw a bounding box. \n",
        "#@markdown The bounding box should be as small as possible while still including the entire lake surface. It cannot be a centroid location.\n",
        "#@markdown If more than one box is drawn, the most recently drawn box will be used.\n",
        "#@markdown <p>Do not run this block if you are using Option B.\n",
        "\n",
        "from ipyleaflet import SearchControl, Marker, AwesomeIcon\n",
        "\n",
        "'''pure leaflet'''\n",
        "# baseMap = basemap_to_tiles(basemaps.CartoDB.DarkMatter)\n",
        "m = Map(center=(15,0), zoom=2, scroll_wheel_zoom=True, layout=Layout(width='80%', height='500px'))\n",
        "\n",
        "draw_control = DrawControl(rectangle={\"shapeOptions\":{\"fillColor\":\"#3fca45d\", \"color\":\"#efed69\", \"fillOpacity\": 0.25}}, circle={}, circlemarker={}, polygon={}, polyline={})\n",
        "search_control = SearchControl(position=\"topright\", url='https://nominatim.openstreetmap.org/search?format=json&q={s}', zoom=7)\n",
        "\n",
        "gj = []\n",
        "def handle_draw(self, action, geo_json):\n",
        "  if action in ['created','edited']:\n",
        "    gj.append(geo_json)\n",
        "    box = ee.Geometry.Polygon(gj[-1][\"geometry\"][\"coordinates\"],None, False, 100)\n",
        "    rec_geojson = gj[-1][\"geometry\"][\"coordinates\"]\n",
        "    lon1, lat1 = rec_geojson[0][0]\n",
        "    lon2, lat2 = rec_geojson[0][2]\n",
        "\n",
        "draw_control.on_draw(handle_draw)\n",
        "m.add_control(draw_control)\n",
        "m.add_control(search_control)\n",
        "m\n"
      ],
      "metadata": {
        "id": "P7-dEgc0A9_0",
        "cellView": "form",
        "outputId": "a0d79e71-cc12-4221-aae0-1a3963d857fb",
        "colab": {
          "base_uri": "https://localhost:8080/",
          "height": 521,
          "referenced_widgets": [
            "ec30edfc923e41e4bab6567b6fdb110e",
            "221fc97edc354d148cc98eea61b56259",
            "049e1c64715e49d8ba1bf8d4938ab707",
            "b4e11c24806640aa9c865e287b2cb898",
            "de88ff62a4ef4d5fb4b4ee95f900eaa4",
            "37673ec3dd7a4f4f9d9901e345882b1b",
            "57e9205236bf44b4a70a947e5765a6ac",
            "bb4898fe04364f57b41a31f3c0c05d70",
            "5ebcbd8114cb4928857d0220489843fe",
            "02f856579afe4f948ca1cbe5aba8cc5b"
          ]
        }
      },
      "execution_count": 6,
      "outputs": [
        {
          "output_type": "display_data",
          "data": {
            "text/plain": [
              "Map(center=[15, 0], controls=(ZoomControl(options=['position', 'zoom_in_text', 'zoom_in_title', 'zoom_out_text…"
            ],
            "application/vnd.jupyter.widget-view+json": {
              "version_major": 2,
              "version_minor": 0,
              "model_id": "ec30edfc923e41e4bab6567b6fdb110e"
            }
          },
          "metadata": {
            "application/vnd.jupyter.widget-view+json": {
              "colab": {
                "custom_widget_manager": {
                  "url": "https://ssl.gstatic.com/colaboratory-static/widgets/colab-cdn-widget-manager/a8874ba6619b6106/manager.min.js"
                }
              }
            }
          }
        }
      ]
    },
    {
      "cell_type": "code",
      "source": [
        "#@markdown Run this block to set up your bounding box coordinates.\n",
        "use_user_input_file = \"no\"\n",
        "try:\n",
        "  box = ee.Geometry.Polygon(gj[-1][\"geometry\"][\"coordinates\"],None, False, 100)\n",
        "  rec_geojson = gj[-1][\"geometry\"][\"coordinates\"]\n",
        "  lon1, lat1 = rec_geojson[0][0]\n",
        "  lon2, lat2 = rec_geojson[0][2]\n",
        "\n",
        "  center_lat = (lat1+lat2)/2\n",
        "  center_lon = (lon1+lon2)/2\n",
        "\n",
        "  print(f'''\n",
        "  north bounds: {lat1}\n",
        "  south bounds: {lat2}\n",
        "  west bounds: {lon1}\n",
        "  east bounds: {lon2}\n",
        "  ''')\n",
        "except IndexError:\n",
        "  print(\"An error occurred, usually because this block was run but no box was drawn on the above map\")"
      ],
      "metadata": {
        "cellView": "form",
        "id": "CX2G1Rtn_RNe",
        "outputId": "ddb6c3fa-c2ba-4d01-c565-bb71d4ee6d83",
        "colab": {
          "base_uri": "https://localhost:8080/"
        }
      },
      "execution_count": 11,
      "outputs": [
        {
          "output_type": "stream",
          "name": "stdout",
          "text": [
            "\n",
            "  north bounds: -17.960191\n",
            "  south bounds: -16.453098\n",
            "  west bounds: 26.945986\n",
            "  east bounds: 29.084391\n",
            "  \n"
          ]
        }
      ]
    },
    {
      "cell_type": "markdown",
      "metadata": {
        "id": "DBZzaGgqpr8W"
      },
      "source": [
        "###Option B: upload a table file\n",
        "Using your Google Earth Engine account, upload a shapefile or csv of your study lake to your Assets and link to it here.<p>Click [here](https://drive.google.com/file/d/1lfFoZzQD_wAA7Bnil7mI4zwjKDG5kegh/view?usp=sharing) and [here](https://drive.google.com/file/d/1KNaZV63J_LUp6X1OcoLX1wonF0ASiIzi/view?usp=sharing) for screenshots of the process. "
      ]
    },
    {
      "cell_type": "code",
      "metadata": {
        "id": "e0lONKBvqAUp",
        "cellView": "form"
      },
      "source": [
        "#@markdown Copy the asset path from Google Earth Engine and change\n",
        "#@markdown dropdown to `yes`.\n",
        "#@markdown File path should begin with 'users/'\n",
        "user_input_file = \"\" #@param {type: \"string\"}\n",
        "use_user_input_file = \"no\" #@param [\"yes\",\"no\"] {allow-input: false}\n",
        "#@markdown Remember to __run this block__ after filling in the above fields.\n",
        "#@markdown Do not run this block if you are using Option A.\n",
        "\n",
        "if use_user_input_file==\"no\":\n",
        "  print(\"If you intend to use Option B, change the 'use_user_input_file' variable to 'yes' and rerun\")\n",
        "elif len(user_input_file)>1:\n",
        "  shp = ee.FeatureCollection(user_input_file).geometry()\n",
        "  centroid = shp.centroid(10).getInfo()[\"coordinates\"]\n",
        "  center_lat = centroid[1]\n",
        "  center_lon = centroid[0]\n",
        "  print(center_lat)\n",
        "  print(center_lon)\n",
        "else:\n",
        "  print(\"No file input; will use Opt A bounding box coordinates\")\n",
        "  use_user_input_file = \"no\"\n",
        "\n",
        "if 'shp' in globals() or 'shp' in locals():\n",
        "  shp_map = folium.Map(location=[center_lat,center_lon],zoom_start=10,width=600,height=600)\n",
        "  shp_map.add_child(folium.LatLngPopup())\n",
        "  basemaps['Google Maps'].add_to(shp_map)\n",
        "  shp_map.add_ee_layer(shp,{},'aoi')\n",
        "  display(shp_map)\n",
        "# else:\n",
        "#   print(\"Display does not apply here; Opt A bounding box is being used for AOI\")"
      ],
      "execution_count": null,
      "outputs": []
    },
    {
      "cell_type": "markdown",
      "metadata": {
        "id": "bDrkGq_jwgIo"
      },
      "source": [
        "## **1.4 Set remaining user variables**\n",
        "\n",
        "This section defines acceptable water persistence and error for the Landsat pixels, the time period of interest, and confirms the path and row for Landsat acquisition. You can also change the default Google Drive folder for any outputs."
      ]
    },
    {
      "cell_type": "code",
      "metadata": {
        "id": "L5s5K2jQm9Zt",
        "cellView": "form",
        "outputId": "42883c91-07ee-4894-90d4-b81e7c80015d",
        "colab": {
          "base_uri": "https://localhost:8080/"
        }
      },
      "source": [
        "#@markdown We suggest saving the lakeCoSTR data to it's own folder in your Google Drive. \n",
        "#@markdown Replace your lake name where the following prompts read 'LAKENAME'. These folders\n",
        "#@markdown will be automatically created within this script.\n",
        "\n",
        "lake_name = 'kariba' #@param {type:\"string\"}\n",
        "output_dir = \"/content/drive/MyDrive/lakeCoSTR_output/\"+ lake_name\n",
        "\n",
        "#this parses the 'output_dir' string to get last listed subfolder\n",
        "short_dir = lake_name\n",
        "file_prefix = lake_name\n",
        "print(f\"Your data will be saved in {output_dir}\")\n",
        "\n",
        "if not os.path.exists(output_dir):\n",
        "  os.makedirs(output_dir)\n",
        "\n",
        "def check_splcharacter(test):\n",
        "  string_check = re.compile('[@!#$%^&*() <>?/\\|}{~:]')\n",
        "  if not string_check.search(test)==None:\n",
        "    print(\"Your file prefix contains special characters, please fix\")\n",
        "    lake_name = \"LAKENAME\"\n",
        "  else:\n",
        "    print(\"Files will all have the prefix:\",test)\n",
        "\n",
        "check_splcharacter(file_prefix)"
      ],
      "execution_count": 12,
      "outputs": [
        {
          "output_type": "stream",
          "name": "stdout",
          "text": [
            "Your data will be saved in /content/drive/MyDrive/lakeCoSTR_output/kariba\n",
            "Files will all have the prefix: kariba\n"
          ]
        }
      ]
    },
    {
      "cell_type": "code",
      "metadata": {
        "id": "RwhZWCrkVrb0",
        "cellView": "form",
        "outputId": "1b4afc05-2239-42d4-ff16-1b1c08e5d40d",
        "colab": {
          "base_uri": "https://localhost:8080/",
          "height": 348
        }
      },
      "source": [
        "#@markdown Boundaries of water bodies are automatically detected using the JRC \n",
        "#@markdown Global Surface Water Mapping Layer dataset of percent water occurrence. \n",
        "#@markdown By default, a pixel has to be classified as water at least 55% of the \n",
        "#@markdown time. This is defined as `pctTime`. If your lake of interest experiences \n",
        "#@markdown significant fluctuations of lake level, we suggest using a higher percentage than the default. \n",
        "\n",
        "#@markdown <p>More information on this dataset can be found at https://doi.org/10.1038/nature20584\n",
        "\n",
        "\n",
        "\n",
        "pctTime = 55  #@param {type: \"number\"}\n",
        "#@markdown __Run this block__ after inputting the above parameter\n",
        "\n",
        "water_fig = folium.Figure(width=\"60%\")\n",
        "water_map = folium.Map(location=[center_lat,center_lon],zoom_start=10,tiles=None).add_to(water_fig)\n",
        "water_map.add_child(folium.LatLngPopup())\n",
        "\n",
        "# blues = [\"f7fbff\",\"deebf7\",\"c6dbef\",\"9ecae1\",\"6baed6\",\"4292c6\",\"2171b5\",\"08519c\",\"08306b\"]\n",
        "blues = [\"FFFFFF\",\"08306b\"]\n",
        "\n",
        "# basemaps['Google Satellite'].add_to(water_map)\n",
        "folium.TileLayer('cartodbdark_matter').add_to(water_map)\n",
        "water_map.add_ee_layer(box,{},'aoi')\n",
        "water_map.add_ee_layer(openwater,{\"min\":pctTime, \"max\":100, \"palette\":blues}, 'water presence')\n",
        "# water_map.add_ee_layer(box,{},'aoi')\n",
        "print(\"Occurrence of water detected by Landsat where water is present at least \",pctTime,\"% of the time (in blue)\")\n",
        "print(\"Water occurrence less than \", pctTime, \"% of the time are in white\")\n",
        "display(water_fig)"
      ],
      "execution_count": 13,
      "outputs": [
        {
          "output_type": "stream",
          "name": "stdout",
          "text": [
            "Occurrence of water detected by Landsat where water is present at least  55 % of the time (in blue)\n",
            "Water occurrence less than  55 % of the time are in white\n"
          ]
        },
        {
          "output_type": "display_data",
          "data": {
            "text/plain": [
              "<branca.element.Figure at 0x7f37efdee790>"
            ],
            "text/html": [
              "<div style=\"width:60%;\"><div style=\"position:relative;width:100%;height:0;padding-bottom:60%;\"><span style=\"color:#565656\">Make this Notebook Trusted to load map: File -> Trust Notebook</span><iframe src=\"about:blank\" style=\"position:absolute;width:100%;height:100%;left:0;top:0;border:none !important;\" data-html=%3C%21DOCTYPE%20html%3E%0A%3Chead%3E%20%20%20%20%0A%20%20%20%20%3Cmeta%20http-equiv%3D%22content-type%22%20content%3D%22text/html%3B%20charset%3DUTF-8%22%20/%3E%0A%20%20%20%20%3Cscript%3EL_PREFER_CANVAS%3Dfalse%3B%20L_NO_TOUCH%3Dfalse%3B%20L_DISABLE_3D%3Dfalse%3B%3C/script%3E%0A%20%20%20%20%3Cscript%20src%3D%22https%3A//cdn.jsdelivr.net/npm/leaflet%401.4.0/dist/leaflet.js%22%3E%3C/script%3E%0A%20%20%20%20%3Cscript%20src%3D%22https%3A//code.jquery.com/jquery-1.12.4.min.js%22%3E%3C/script%3E%0A%20%20%20%20%3Cscript%20src%3D%22https%3A//maxcdn.bootstrapcdn.com/bootstrap/3.2.0/js/bootstrap.min.js%22%3E%3C/script%3E%0A%20%20%20%20%3Cscript%20src%3D%22https%3A//cdnjs.cloudflare.com/ajax/libs/Leaflet.awesome-markers/2.0.2/leaflet.awesome-markers.js%22%3E%3C/script%3E%0A%20%20%20%20%3Clink%20rel%3D%22stylesheet%22%20href%3D%22https%3A//cdn.jsdelivr.net/npm/leaflet%401.4.0/dist/leaflet.css%22/%3E%0A%20%20%20%20%3Clink%20rel%3D%22stylesheet%22%20href%3D%22https%3A//maxcdn.bootstrapcdn.com/bootstrap/3.2.0/css/bootstrap.min.css%22/%3E%0A%20%20%20%20%3Clink%20rel%3D%22stylesheet%22%20href%3D%22https%3A//maxcdn.bootstrapcdn.com/bootstrap/3.2.0/css/bootstrap-theme.min.css%22/%3E%0A%20%20%20%20%3Clink%20rel%3D%22stylesheet%22%20href%3D%22https%3A//maxcdn.bootstrapcdn.com/font-awesome/4.6.3/css/font-awesome.min.css%22/%3E%0A%20%20%20%20%3Clink%20rel%3D%22stylesheet%22%20href%3D%22https%3A//cdnjs.cloudflare.com/ajax/libs/Leaflet.awesome-markers/2.0.2/leaflet.awesome-markers.css%22/%3E%0A%20%20%20%20%3Clink%20rel%3D%22stylesheet%22%20href%3D%22https%3A//rawcdn.githack.com/python-visualization/folium/master/folium/templates/leaflet.awesome.rotate.css%22/%3E%0A%20%20%20%20%3Cstyle%3Ehtml%2C%20body%20%7Bwidth%3A%20100%25%3Bheight%3A%20100%25%3Bmargin%3A%200%3Bpadding%3A%200%3B%7D%3C/style%3E%0A%20%20%20%20%3Cstyle%3E%23map%20%7Bposition%3Aabsolute%3Btop%3A0%3Bbottom%3A0%3Bright%3A0%3Bleft%3A0%3B%7D%3C/style%3E%0A%20%20%20%20%0A%20%20%20%20%3Cmeta%20name%3D%22viewport%22%20content%3D%22width%3Ddevice-width%2C%0A%20%20%20%20%20%20%20%20initial-scale%3D1.0%2C%20maximum-scale%3D1.0%2C%20user-scalable%3Dno%22%20/%3E%0A%20%20%20%20%3Cstyle%3E%23map_2dd6db55382e4a1488c77eeafa5f6515%20%7B%0A%20%20%20%20%20%20%20%20position%3A%20relative%3B%0A%20%20%20%20%20%20%20%20width%3A%20100.0%25%3B%0A%20%20%20%20%20%20%20%20height%3A%20100.0%25%3B%0A%20%20%20%20%20%20%20%20left%3A%200.0%25%3B%0A%20%20%20%20%20%20%20%20top%3A%200.0%25%3B%0A%20%20%20%20%20%20%20%20%7D%0A%20%20%20%20%3C/style%3E%0A%3C/head%3E%0A%3Cbody%3E%20%20%20%20%0A%20%20%20%20%0A%20%20%20%20%3Cdiv%20class%3D%22folium-map%22%20id%3D%22map_2dd6db55382e4a1488c77eeafa5f6515%22%20%3E%3C/div%3E%0A%3C/body%3E%0A%3Cscript%3E%20%20%20%20%0A%20%20%20%20%0A%20%20%20%20%0A%20%20%20%20%20%20%20%20var%20bounds%20%3D%20null%3B%0A%20%20%20%20%0A%0A%20%20%20%20var%20map_2dd6db55382e4a1488c77eeafa5f6515%20%3D%20L.map%28%0A%20%20%20%20%20%20%20%20%27map_2dd6db55382e4a1488c77eeafa5f6515%27%2C%20%7B%0A%20%20%20%20%20%20%20%20center%3A%20%5B-17.2066445%2C%2028.0151885%5D%2C%0A%20%20%20%20%20%20%20%20zoom%3A%2010%2C%0A%20%20%20%20%20%20%20%20maxBounds%3A%20bounds%2C%0A%20%20%20%20%20%20%20%20layers%3A%20%5B%5D%2C%0A%20%20%20%20%20%20%20%20worldCopyJump%3A%20false%2C%0A%20%20%20%20%20%20%20%20crs%3A%20L.CRS.EPSG3857%2C%0A%20%20%20%20%20%20%20%20zoomControl%3A%20true%2C%0A%20%20%20%20%20%20%20%20%7D%29%3B%0A%0A%0A%20%20%20%20%0A%20%20%20%20%0A%20%20%20%20%20%20%20%20%20%20%20%20%20%20%20%20var%20lat_lng_popup_9320a73c8c0140daa84eb774f575e081%20%3D%20L.popup%28%29%3B%0A%20%20%20%20%20%20%20%20%20%20%20%20%20%20%20%20function%20latLngPop%28e%29%20%7B%0A%20%20%20%20%20%20%20%20%20%20%20%20%20%20%20%20%20%20%20%20lat_lng_popup_9320a73c8c0140daa84eb774f575e081%0A%20%20%20%20%20%20%20%20%20%20%20%20%20%20%20%20%20%20%20%20%20%20%20%20.setLatLng%28e.latlng%29%0A%20%20%20%20%20%20%20%20%20%20%20%20%20%20%20%20%20%20%20%20%20%20%20%20.setContent%28%22Latitude%3A%20%22%20%2B%20e.latlng.lat.toFixed%284%29%20%2B%0A%20%20%20%20%20%20%20%20%20%20%20%20%20%20%20%20%20%20%20%20%20%20%20%20%20%20%20%20%20%20%20%20%20%20%20%20%22%3Cbr%3ELongitude%3A%20%22%20%2B%20e.latlng.lng.toFixed%284%29%29%0A%20%20%20%20%20%20%20%20%20%20%20%20%20%20%20%20%20%20%20%20%20%20%20%20.openOn%28map_2dd6db55382e4a1488c77eeafa5f6515%29%3B%0A%20%20%20%20%20%20%20%20%20%20%20%20%20%20%20%20%20%20%20%20%7D%0A%20%20%20%20%20%20%20%20%20%20%20%20%20%20%20%20map_2dd6db55382e4a1488c77eeafa5f6515.on%28%27click%27%2C%20latLngPop%29%3B%0A%20%20%20%20%20%20%20%20%20%20%20%20%0A%20%20%20%20var%20tile_layer_de86dcab81894dd2b89e96c7ec87df1b%20%3D%20L.tileLayer%28%0A%20%20%20%20%20%20%20%20%27https%3A//cartodb-basemaps-%7Bs%7D.global.ssl.fastly.net/dark_all/%7Bz%7D/%7Bx%7D/%7By%7D.png%27%2C%0A%20%20%20%20%20%20%20%20%7B%0A%20%20%20%20%20%20%20%20%22attribution%22%3A%20null%2C%0A%20%20%20%20%20%20%20%20%22detectRetina%22%3A%20false%2C%0A%20%20%20%20%20%20%20%20%22maxNativeZoom%22%3A%2018%2C%0A%20%20%20%20%20%20%20%20%22maxZoom%22%3A%2018%2C%0A%20%20%20%20%20%20%20%20%22minZoom%22%3A%200%2C%0A%20%20%20%20%20%20%20%20%22noWrap%22%3A%20false%2C%0A%20%20%20%20%20%20%20%20%22opacity%22%3A%201%2C%0A%20%20%20%20%20%20%20%20%22subdomains%22%3A%20%22abc%22%2C%0A%20%20%20%20%20%20%20%20%22tms%22%3A%20false%0A%7D%29.addTo%28map_2dd6db55382e4a1488c77eeafa5f6515%29%3B%0A%20%20%20%20%0A%20%20%20%20%20%20%20%20var%20geo_json_7afe7bddac5343918bc50f331a7aaa2e%20%3D%20L.geoJson%28%0A%20%20%20%20%20%20%20%20%20%20%20%20%7B%22features%22%3A%20%5B%7B%22geometry%22%3A%20%7B%22coordinates%22%3A%20%5B%5B%5B26.945986%2C%20-17.960191%5D%2C%20%5B26.945986%2C%20-16.453098%5D%2C%20%5B29.084391%2C%20-16.453098%5D%2C%20%5B29.084391%2C%20-17.960191%5D%2C%20%5B26.945986%2C%20-17.960191%5D%5D%5D%2C%20%22geodesic%22%3A%20false%2C%20%22type%22%3A%20%22Polygon%22%7D%2C%20%22properties%22%3A%20%7B%22highlight%22%3A%20%7B%7D%2C%20%22style%22%3A%20%7B%7D%7D%2C%20%22type%22%3A%20%22Feature%22%7D%5D%2C%20%22type%22%3A%20%22FeatureCollection%22%7D%2C%0A%20%20%20%20%20%20%20%20%20%20%20%20%7B%0A%20%20%20%20%20%20%20%20%20%20%20%20%7D%0A%20%20%20%20%20%20%20%20%29.addTo%28map_2dd6db55382e4a1488c77eeafa5f6515%20%29%3B%0A%20%20%20%20%20%20%20%20geo_json_7afe7bddac5343918bc50f331a7aaa2e.setStyle%28function%28feature%29%20%7Breturn%20feature.properties.style%3B%7D%29%3B%0A%20%20%20%20%20%20%20%20%0A%20%20%20%20var%20tile_layer_b318149db0dc4e1295e43da579dd6978%20%3D%20L.tileLayer%28%0A%20%20%20%20%20%20%20%20%27https%3A//earthengine.googleapis.com/v1alpha/projects/earthengine-legacy/maps/ed74ecc8bcfe278e492e3f8998b8091b-72a6d0f4bc4a0774adcbe347237e8c3d/tiles/%7Bz%7D/%7Bx%7D/%7By%7D%27%2C%0A%20%20%20%20%20%20%20%20%7B%0A%20%20%20%20%20%20%20%20%22attribution%22%3A%20%22Google%20Earth%20Engine%22%2C%0A%20%20%20%20%20%20%20%20%22detectRetina%22%3A%20false%2C%0A%20%20%20%20%20%20%20%20%22maxNativeZoom%22%3A%2018%2C%0A%20%20%20%20%20%20%20%20%22maxZoom%22%3A%2018%2C%0A%20%20%20%20%20%20%20%20%22minZoom%22%3A%200%2C%0A%20%20%20%20%20%20%20%20%22noWrap%22%3A%20false%2C%0A%20%20%20%20%20%20%20%20%22opacity%22%3A%201%2C%0A%20%20%20%20%20%20%20%20%22subdomains%22%3A%20%22abc%22%2C%0A%20%20%20%20%20%20%20%20%22tms%22%3A%20false%0A%7D%29.addTo%28map_2dd6db55382e4a1488c77eeafa5f6515%29%3B%0A%3C/script%3E onload=\"this.contentDocument.open();this.contentDocument.write(    decodeURIComponent(this.getAttribute('data-html')));this.contentDocument.close();\" allowfullscreen webkitallowfullscreen mozallowfullscreen></iframe></div></div>"
            ]
          },
          "metadata": {}
        }
      ]
    },
    {
      "cell_type": "code",
      "metadata": {
        "id": "N9WlKk7iHcRC",
        "cellView": "form",
        "outputId": "db25b881-bc5a-40cb-b50a-93f08d5d54ef",
        "colab": {
          "base_uri": "https://localhost:8080/"
        }
      },
      "source": [
        "#@markdown Landsat scenes from both Tier 1 and Tier 2 of Collection 2 are \n",
        "#@markdown included for possible use. For Tier 2, specify the maximum spatial \n",
        "#@markdown error (in meters) for pixels. Only orthorectified images (L1T) are \n",
        "#@markdown considered.\n",
        "rmse = 24  #@param {type: \"number\"}\n",
        "#@markdown __Run this block__ after inputting the above parameter\n",
        "print(f\"Tier 2 L1T scenes with a maximum root mean square error of {rmse} meters will be considered\")"
      ],
      "execution_count": 14,
      "outputs": [
        {
          "output_type": "stream",
          "name": "stdout",
          "text": [
            "Tier 2 L1T scenes with a maximum root mean square error of 24 meters will be considered\n"
          ]
        }
      ]
    },
    {
      "cell_type": "code",
      "metadata": {
        "id": "ypJaiep9n1F7",
        "cellView": "form",
        "outputId": "f8b085b1-e2db-4214-88af-21b22182d6d6",
        "colab": {
          "base_uri": "https://localhost:8080/"
        }
      },
      "source": [
        "#@markdown Landsat thermal band records begin in 1982 with Landsat 4 Thematic Mapper (TM). \n",
        "#@markdown Enter the year range that you want to search, as well as months of \n",
        "#@markdown the year. To search all months, `m1 = 1` and `m2 = 12` <p>\n",
        "#@markdown <p>First year (y1) and last year (y2). Years are inclusive, minimum value is 1982. <p>\n",
        "#@markdown <p>First month (m1) and last month (m2). Months are inclusive.<p>\n",
        "#@markdown <p>Note that this method has only been tested for temperature estimation where there is no ice present on the lake. \n",
        "\n",
        "y1 = 1982 #@param {type: \"number\"}\n",
        "y2 = 1990 #@param {type: \"number\"}\n",
        "\n",
        "m1 =  5#@param {type: \"number\"}\n",
        "m2 = 11 #@param {type: \"number\"}\n",
        "print('Script will search years %d through %d and months %d through %d of each year' % (y1,y2,m1,m2))\n",
        "#@markdown __Run this block__ after inputting the above parameters"
      ],
      "execution_count": 19,
      "outputs": [
        {
          "output_type": "stream",
          "name": "stdout",
          "text": [
            "Script will search years 1982 through 1990 and months 5 through 11 of each year\n"
          ]
        }
      ]
    },
    {
      "cell_type": "markdown",
      "metadata": {
        "id": "1xE7MPgvY78u"
      },
      "source": [
        "# **2. Find water pixels & delineate boundary**\n",
        "This step uses the bounding box or the table file as well as the water persistence using [JRC Water dataset](https://global-surface-water.appspot.com/) to define the waterbody area. \n",
        "\n",
        "Note, in some cases the _Opt A_ bounding box method will include upstream and downstream water areas, particularily where there are rivers that are large enough to be detected by Landsat. To avoid this, use the _Opt B_ table file method. <p>\n",
        "You can explore the JRC Water dataset [here](https://global-surface-water.appspot.com/).<p>"
      ]
    },
    {
      "cell_type": "code",
      "metadata": {
        "id": "V1ljgJffQF1Y",
        "outputId": "e1e9dccd-986e-430d-8e79-04658a30ea41",
        "colab": {
          "base_uri": "https://localhost:8080/",
          "height": 236
        }
      },
      "source": [
        "#@markdown This code block reduces the bounding box defined above to the largest water body present, and then counts the 30m pixels within the water body.<p>\n",
        "#@markdown Landsat scenes included in analysis must have a minimum percentage of clear lake pixels available (these are discontinuous pixels). Default is 25%.\n",
        "pctLakeCoverage = 25 #@param {type: \"number\"}\n",
        "#@markdown __Run this block__ after inputting the above parameter\n",
        " \n",
        "if use_user_input_file==\"yes\":\n",
        "  try:\n",
        "    box = shp\n",
        "  except NameError:\n",
        "    raise NameError('''Cannot find user-input file. Are you using Option B or \n",
        "    Opt A bounding box? You may need to correct and rerun.''')\n",
        " \n",
        "wateroccurrence = sw.select(0)\n",
        "water = wateroccurrence.gte(pctTime)\n",
        "water = water.updateMask(water.neq(0))\n",
        " \n",
        "#########################\n",
        "# Find the best utm zone over the lake to generate CRS\n",
        " \n",
        "utm = utmbounds.filterBounds(box)\n",
        "utmJoin = ee.Join.saveBest('matches','best');\n",
        "utmCondition = ee.Filter.intersects(**{\n",
        "    \"rightField\": '.geo',\n",
        "    \"leftField\": '.geo'\n",
        "})\n",
        "\n",
        "utmJoined = utmJoin.apply(lake_outline, utm, utmCondition)\n",
        "\n",
        "getZone = utmJoin.getInfo()[\"features\"][0][\"properties\"][\"matches\"][\"properties\"][\"ZONE\"]\n",
        "getHemi = utmJoin.getInfo()[\"features\"][0][\"properties\"][\"matches\"][\"properties\"][\"HEMISPHERE\"]\n",
        "\n",
        "#indicate hemisphere  \n",
        "if getHemi == 'n':\n",
        "  crs_out = f\"EPSG:326{getZone}\"\n",
        "else:\n",
        "  crs_out = f\"EPSG:327{getZone}\"\n",
        "print(\"Data will be calculated with output CRS:\",crs_out)\n",
        " \n",
        "#########################\n",
        "# Find the biggest waterbody in the bounding box\n",
        "def addArea(feature):\n",
        "  # returns area +/- 1sqm\n",
        "  return feature.set({'area':feature.geometry().area(1)})  \n",
        "\n",
        "regions = water.addBands(wateroccurrence).reduceToVectors(\n",
        "    reducer=ee.Reducer.min(),\n",
        "    geometry=box,\n",
        "    scale=30,\n",
        "    maxPixels=5e9,\n",
        "    crs=crs_out,\n",
        "    geometryInNativeProjection=False,\n",
        "    labelProperty='surfaceWater').map(addArea).sort('area',False);\n",
        " \n",
        "lake_outline = ee.Feature(regions.first())\n",
        "geo = lake_outline.geometry()\n",
        "\n",
        "#########################\n",
        "# print the user some pixel count statistics\n",
        "\n",
        "watercount = water.setDefaultProjection(crs_out).reduceRegion(reducer=ee.Reducer.count().unweighted(), \n",
        "                                geometry=lake_outline.geometry(),\n",
        "                                scale=30, bestEffort=True)\n",
        "lakesurface = watercount.getInfo()[\"occurrence\"]  # total pixels over lake\n",
        "\n",
        "pixel_min = round(lakesurface*(pctLakeCoverage/100.0))\n",
        "print(\"\\nTotal # of lake pixels: \", lakesurface);\n",
        "print(f\"{pctLakeCoverage}% of available lake pixels is\", pixel_min)\n",
        "\n",
        "#########################\n",
        "# Find the overlapping landsat path/rows\n",
        "\n",
        "pathrow = wrs2.filterBounds(box)\n",
        "  \n",
        "num_of_pr = len(pathrow.getInfo()[\"features\"])\n",
        "path_west = 1\n",
        "path_east = 233\n",
        "row_north = 122\n",
        "row_south = 1\n",
        "\n",
        "for i in range(0,num_of_pr):\n",
        "  pr = pathrow.getInfo()[\"features\"][i][\"properties\"][\"PR\"]\n",
        "  p = pr[:3]\n",
        "  r = pr[3:]\n",
        "  if int(p) > path_west:\n",
        "    path_west = int(p)\n",
        "  if int(p) < path_east:\n",
        "    path_east = int(p)\n",
        "  if int(r) < row_north:\n",
        "    row_north = int(r)\n",
        "  if int(r) > row_south:\n",
        "    row_south = int(r)\n",
        "\n",
        "p1 = path_west\n",
        "p2 =  path_east\n",
        "r1 =  row_north\n",
        "r2 =  row_south\n",
        "print(f\"\\nYour lake overlaps {num_of_pr} landsat footprint(s)\")\n",
        "print(f'bounding path(s): {path_west} (west) to {path_east} (east)')\n",
        "print(f'bounding row(s): {row_north} (north) to {row_south} (south)\\n')\n",
        "\n",
        "\n",
        "##### Attempt to find the \"best\" path/row by comparing footprints that completely\n",
        "## contain the lake, or if none completely contain, find the footprint that has\n",
        "## the most overlap\n",
        "\n",
        "footprintJoinAll = ee.Join.saveAll('matches')\n",
        "footprintJoinBest = ee.Join.saveBest(**{'matchKey':'matches','measureKey':'area'})\n",
        "\n",
        "footprintContains = ee.Filter.isContained(**{'rightField':'.geo','leftField':'.geo'})\n",
        "footprintIntersects = ee.Filter.intersects(**{'rightField':'.geo','leftField':'.geo'})\n",
        "\n",
        "allContained = footprintJoinAll.apply(lake_outline,pathrow,footprintContains)\n",
        "anyIntersects = footprintJoinBest.apply(lake_outline,pathrow,footprintIntersects)\n",
        "\n",
        "try:\n",
        "  containedMatches = allContained.getInfo()[\"features\"][0][\"properties\"][\"matches\"]\n",
        "except IndexError:\n",
        "  containedMatches = []\n",
        "\n",
        "intersectedMatches = anyIntersects.getInfo()[\"features\"][0][\"properties\"][\"matches\"]\n",
        "\n",
        "\n",
        "#########################\n",
        "# Display a map\n",
        "\n",
        "pixel_fig = folium.Figure(width=\"50%\")\n",
        "pixel_map = folium.Map(location=[center_lat,center_lon],zoom_start=6).add_to(pixel_fig)\n",
        "basemaps['Google Maps'].add_to(pixel_map)\n",
        "pixel_map.add_ee_layer(pathrow,{},'path row')\n",
        "\n",
        "def addFPtoMap(list_of_fps):\n",
        "  for fp in list_of_fps:\n",
        "    makeGeojson = folium.GeoJson(fp[\"geometry\"])\n",
        "    fpPath = str(fp[\"properties\"][\"PATH\"])\n",
        "    fpRow = str(fp[\"properties\"][\"ROW\"])\n",
        "    popup = folium.Popup(\"P\"+fpPath+\" R\"+fpRow)\n",
        "    popup.add_to(makeGeojson)\n",
        "    makeGeojson.add_to(pixel_map)\n",
        "\n",
        "if len(containedMatches)>0: #lake is fully contained by at least 1 path-row\n",
        "  if len(intersectedMatches) == 0: #and the lake doesn't have any partial matches\n",
        "    addFPtoMap(containedMatches)\n",
        "    if(row_north-row_south) == 0: #if it is contained by only one row\n",
        "      print('''Great news! Your lake is completely contained by at least one path-row footprint.\n",
        "      Because your lake does not cross multiple WRS2 rows, there's nothing more you need to do.\n",
        "      You can skip the next codeblock and move to the 'Get Skin Surface Temperatures' section.\n",
        "      ''')\n",
        "    else: #if it is contained by multiple rows\n",
        "      print('''Great news! Your lake is completely contained by multiple WRS2 path-row footprints, \n",
        "      HOWEVER, those footprints include multiple WRS2 rows in the same WRS2 path. In order to not retrieve near-duplicate \n",
        "      temperature estimates from neighboring WRS2 rows, please *manually input* a single ROW value for `new_row_north` and \n",
        "      `new_row_south` in the codeblock below. We recommend you choose the row that is closest to the equator (a lower row number in the Northern \n",
        "      Hemisphere, or a higher row number in the Southern Hemisphere).\n",
        "      ''')\n",
        "      print(\"Click the blue highlighted footprint to see the path and row\")\n",
        "  elif len(intersectedMatches)>0: #if it has partial matches\n",
        "    if len(containedMatches) >0: #and it has fully contained matches\n",
        "      addFPtoMap(containedMatches)\n",
        "      print('''Great news! Your lake is completely contained by at least one path-row footprint, \n",
        "      HOWEVER, you need to *manually input* the path and row values for the blue box(es) displayed \n",
        "      in the map below into the next code block because the overlapping path-row combinations \n",
        "      outlined in black do/does not completely contain your lake.\n",
        "      ''')\n",
        "      print(\"Click the blue highlighted footprint to see the path and row\")\n",
        "else: #otherwise, you're outta luck\n",
        "  print('''\n",
        "  CAUTION: Your lake is not completely contained by a single WRS2 path-row footprint. lakeCoSTR functions best\n",
        "  when your lake is completely contained by at least one WRS2 path-row footprint. Because of this, we do not \n",
        "  recommend the use of lakeCoSTR to acquire surface temperature estimates for your lake. \n",
        "  ''')\n",
        "\n",
        "pixel_map.add_ee_layer(lake_outline.geometry(), {}, 'lake area')\n",
        "display(pixel_map)\n"
      ],
      "execution_count": 23,
      "outputs": [
        {
          "output_type": "error",
          "ename": "NameError",
          "evalue": "ignored",
          "traceback": [
            "\u001b[0;31m---------------------------------------------------------------------------\u001b[0m",
            "\u001b[0;31mNameError\u001b[0m                                 Traceback (most recent call last)",
            "\u001b[0;32m<ipython-input-23-90993fc6021d>\u001b[0m in \u001b[0;36m<module>\u001b[0;34m()\u001b[0m\n\u001b[1;32m     25\u001b[0m })\n\u001b[1;32m     26\u001b[0m \u001b[0;34m\u001b[0m\u001b[0m\n\u001b[0;32m---> 27\u001b[0;31m \u001b[0mutmJoined\u001b[0m \u001b[0;34m=\u001b[0m \u001b[0mutmJoin\u001b[0m\u001b[0;34m.\u001b[0m\u001b[0mapply\u001b[0m\u001b[0;34m(\u001b[0m\u001b[0mlake_outline\u001b[0m\u001b[0;34m,\u001b[0m \u001b[0mutm\u001b[0m\u001b[0;34m,\u001b[0m \u001b[0mutmCondition\u001b[0m\u001b[0;34m)\u001b[0m\u001b[0;34m\u001b[0m\u001b[0;34m\u001b[0m\u001b[0m\n\u001b[0m\u001b[1;32m     28\u001b[0m \u001b[0;34m\u001b[0m\u001b[0m\n\u001b[1;32m     29\u001b[0m \u001b[0mgetZone\u001b[0m \u001b[0;34m=\u001b[0m \u001b[0mutmJoin\u001b[0m\u001b[0;34m.\u001b[0m\u001b[0mgetInfo\u001b[0m\u001b[0;34m(\u001b[0m\u001b[0;34m)\u001b[0m\u001b[0;34m[\u001b[0m\u001b[0;34m\"features\"\u001b[0m\u001b[0;34m]\u001b[0m\u001b[0;34m[\u001b[0m\u001b[0;36m0\u001b[0m\u001b[0;34m]\u001b[0m\u001b[0;34m[\u001b[0m\u001b[0;34m\"properties\"\u001b[0m\u001b[0;34m]\u001b[0m\u001b[0;34m[\u001b[0m\u001b[0;34m\"matches\"\u001b[0m\u001b[0;34m]\u001b[0m\u001b[0;34m[\u001b[0m\u001b[0;34m\"properties\"\u001b[0m\u001b[0;34m]\u001b[0m\u001b[0;34m[\u001b[0m\u001b[0;34m\"ZONE\"\u001b[0m\u001b[0;34m]\u001b[0m\u001b[0;34m\u001b[0m\u001b[0;34m\u001b[0m\u001b[0m\n",
            "\u001b[0;31mNameError\u001b[0m: name 'lake_outline' is not defined"
          ]
        }
      ]
    },
    {
      "cell_type": "code",
      "source": [
        "#@markdown If ther previous code block directed you to `*manually input*` WRS2 path-row values, \n",
        "#@markdown please enter the values for path ('P') and row ('R') as indicated by clicking on the\n",
        "#@markdown blue box in the map above. \n",
        "\n",
        "#@markdown <br>If you weren't directed to change your the WRS2 path-row parameters, leave these blank.\n",
        "\n",
        "new_path_west = \"\" #@param {type:'string'}\n",
        "new_path_east = \"\" #@param {type: 'string'}\n",
        "new_row_north = \"\" #@param {type: 'string'}\n",
        "new_row_south = \"\" #@param {type: 'string'}\n",
        "\n",
        "if new_path_west:\n",
        "  p1 = int(new_path_west)\n",
        "else: \n",
        "  p1 =  path_west\n",
        "if new_path_east:\n",
        "  p2 =  int(new_path_east)\n",
        "else:\n",
        "  p2 = path_east\n",
        "if new_row_north:\n",
        "  r1 =  int(new_row_north)\n",
        "else:\n",
        "  r1 = row_north\n",
        "if new_row_south:\n",
        "  r2 =  int(new_row_south)\n",
        "else:\n",
        "  r2 = row_south\n",
        "\n",
        "print(f'new bounding path(s): {p1} (west) to {p2} (east)')\n",
        "print(f'new bounding row(s): {r1} (north) to {r2} (south)\\n')\n",
        "\n",
        "\n"
      ],
      "metadata": {
        "cellView": "form",
        "id": "uefURvxRYjlS"
      },
      "execution_count": null,
      "outputs": []
    },
    {
      "cell_type": "markdown",
      "metadata": {
        "id": "45tElCUuotvD"
      },
      "source": [
        "# **3. Get Skin Surface Temperatures**"
      ]
    },
    {
      "cell_type": "code",
      "metadata": {
        "id": "1TjyRw18ttpV",
        "cellView": "form"
      },
      "source": [
        "\n",
        "#@markdown **Run this block** to filter by date and site location, convert \n",
        "#@markdown temperature from K --> C, compile and stack images, and carry over the metadata. \n",
        "\n",
        "#For landsat 8, any scenes with possible image quality \n",
        "#issues due to Scene Select Mirror (SSM) position are removed.\n",
        "\n",
        "l4 = (l4t1.merge(l4t2).filterMetadata('L1_PROCESSING_LEVEL','equals','L1TP') \\\n",
        "      .filterMetadata('GEOMETRIC_RMSE_MODEL','not_greater_than',rmse) \\\n",
        "      .filterBounds(geo) \\\n",
        "      .filter(ee.Filter.calendarRange(y1,y2,'year')) \\\n",
        "      .filter(ee.Filter.calendarRange(m1,m2,'month')) \\\n",
        "      .filterMetadata('WRS_ROW','not_less_than',r1).filterMetadata('WRS_ROW','not_greater_than',r2) \\\n",
        "      .filterMetadata('WRS_PATH','not_greater_than',p1).filterMetadata('WRS_PATH','not_less_than',p2) \\\n",
        "      .map(prep457bands, True))\n",
        "\n",
        "l5 = (l5t1.merge(l5t2).filterMetadata('L1_PROCESSING_LEVEL','equals','L1TP') \\\n",
        "      .filterMetadata('GEOMETRIC_RMSE_MODEL','not_greater_than',rmse) \\\n",
        "      .filterBounds(geo) \\\n",
        "      .filter(ee.Filter.calendarRange(y1,y2,'year')) \\\n",
        "      .filter(ee.Filter.calendarRange(m1,m2,'month')) \\\n",
        "      .filterMetadata('WRS_ROW','not_less_than',r1).filterMetadata('WRS_ROW','not_greater_than',r2) \\\n",
        "      .filterMetadata('WRS_PATH','not_greater_than',p1).filterMetadata('WRS_PATH','not_less_than',p2) \\\n",
        "      .map(prep457bands, True))\n",
        "\n",
        "l7 = (l7t1.merge(l7t2).filterMetadata('L1_PROCESSING_LEVEL','equals','L1TP') \\\n",
        "      .filterMetadata('GEOMETRIC_RMSE_MODEL','not_greater_than',rmse) \\\n",
        "      .filterBounds(geo) \\\n",
        "      .filter(ee.Filter.calendarRange(y1,y2,'year')) \\\n",
        "      .filter(ee.Filter.calendarRange(m1,m2,'month')) \\\n",
        "      .filterMetadata('WRS_ROW','not_less_than',r1).filterMetadata('WRS_ROW','not_greater_than',r2) \\\n",
        "      .filterMetadata('WRS_PATH','not_greater_than',p1).filterMetadata('WRS_PATH','not_less_than',p2) \\\n",
        "      .map(prep457bands, True))\n",
        "\n",
        "l8 = (l8t1.merge(l8t2).filterMetadata('L1_PROCESSING_LEVEL','equals','L1TP') \\\n",
        "      .filterMetadata('GEOMETRIC_RMSE_MODEL','not_greater_than',rmse) \\\n",
        "      .filterBounds(geo) \\\n",
        "      .filter(ee.Filter.calendarRange(y1,y2,'year')) \\\n",
        "      .filter(ee.Filter.calendarRange(m1,m2,'month')) \\\n",
        "      .filterMetadata('WRS_ROW','not_less_than',r1).filterMetadata('WRS_ROW','not_greater_than',r2) \\\n",
        "      .filterMetadata('WRS_PATH','not_greater_than',p1).filterMetadata('WRS_PATH','not_less_than',p2) \\\n",
        "      .filterMetadata('TIRS_SSM_POSITION_STATUS','not_equals','SWITCHED') \\\n",
        "      .map(prep8bands, True))\n",
        "\n",
        "landsat = ee.ImageCollection(l4).merge(l5).merge(l7).merge(l8)\n",
        "\n",
        "print(\"Landsat compiled at\", strftime(\"%x %X\"))\n",
        "\n",
        "'''\n",
        "Add metadata to each scene that indicates how many visible pixels were included \n",
        "in analysis, and filter images so that only scenes with the minimum number of \n",
        "pixels remain.\n",
        "'''\n",
        "def countPixels(img):\n",
        "  img = ee.Image(img)\n",
        "  getCount = img.reduceRegion(**{\n",
        "      \"reducer\": ee.Reducer.count(),\n",
        "      \"geometry\": geo, \n",
        "      \"scale\": 30})\n",
        "  count = ee.Dictionary(getCount).get('surface_temp')\n",
        "  return img.set('pixel_count',count)\n",
        "before = landsat.map(countPixels)\n",
        "countedPixels = before.filterMetadata('pixel_count','not_less_than', pixel_min)\n",
        "print('Total number of LS scenes:',len(before.getInfo()['features']),'\\nNumber of LS scenes after filter:', len(countedPixels.getInfo()['features']))\n",
        "print(\"Landsat filtered:\", strftime(\"%x %X\"))"
      ],
      "execution_count": null,
      "outputs": []
    },
    {
      "cell_type": "markdown",
      "metadata": {
        "id": "4FleAQ6cyfch"
      },
      "source": [
        "# **4. Data Visualization**\n",
        "The code blocks in the following section allow you to explore your results using dataframes and pixel-value distributions. You can visually inspect each scene for errant data or export the data to explore further."
      ]
    },
    {
      "cell_type": "code",
      "metadata": {
        "id": "i8K6XN2xZMjP",
        "cellView": "form"
      },
      "source": [
        "#@title 4.1 Convert data from server-side EE objects to client-side Python objects\n",
        "#@markdown __Run this block__ to define functions for data exploration\n",
        "\n",
        "\n",
        "# These functions convert image pixels to numpy arrays\n",
        "def createArrays(img):\n",
        "  psi_prop = ee.Image(img).sampleRectangle(region=geo, defaultValue=-1)\n",
        "  getProp = psi_prop.get(\"surface_temp\")\n",
        "  return img.set(\"img_array\", getProp)\n",
        "\n",
        "def getArrays(client_img_col):\n",
        "  list_of_arrays = []\n",
        "  for img in client_img_col:\n",
        "    prop = img[\"properties\"][\"img_array\"]\n",
        "    a = np.array(prop)\n",
        "    list_of_arrays.append(a)\n",
        "  return list_of_arrays\n",
        "print('Conversion function imported.')\n",
        "\n",
        "def generate_histogram(img):\n",
        "  img = ee.Image(img)\n",
        "  fhisto = img.reduceRegion(**{\n",
        "      \"reducer\": ee.Reducer.fixedHistogram(-5,30,70).unweighted(),\n",
        "      \"geometry\": geo,\n",
        "      \"scale\": 30,\n",
        "      \"maxPixels\": 5e9\n",
        "  })\n",
        "  return img.set('histogram',fhisto.get('surface_temp'))\n",
        "print(\"Will generate histograms with a fixed x-axis between -5 - 30 deg C in 0.5 degree bins\")\n"
      ],
      "execution_count": null,
      "outputs": []
    },
    {
      "cell_type": "code",
      "metadata": {
        "id": "InafBTf5ZvAS",
        "cellView": "form"
      },
      "source": [
        "# @markdown This code block executes the functions from the previous block and \n",
        "# @markdown converts the image collection from a server-side EE object to a client-side \n",
        "# @markdown Python object. This allows iteration over the image collection with a `for` \n",
        "# @markdown loop, which provides much more Python functionality.<p><mark>__This step \n",
        "# @markdown could take some time to run</mark> depending on the length of the \n",
        "# @markdown ImageCollection.__\n",
        "\n",
        "# @markdown If you recieve an error at this step that `your response size exceeds limit`, \n",
        "# @markdown you will need to go back and reduce the number of years of data you are requesting. \n",
        "\n",
        "print(\"Start:\", strftime(\"%x %X\"))\n",
        "imgs_histo = countedPixels.map(generate_histogram)\n",
        "generate_arrays = imgs_histo.map(createArrays)\n",
        "\n",
        "imgCol = generate_arrays.getInfo()[\"features\"]\n",
        "print(\"Finish:\", strftime(\"%x %X\"))\n",
        "print(\"Number of Landsat scenes: \", len(imgCol))"
      ],
      "execution_count": null,
      "outputs": []
    },
    {
      "cell_type": "code",
      "metadata": {
        "id": "H-cobA_BbwRK",
        "cellView": "form"
      },
      "source": [
        "#@markdown Now that the image collection is client-side, __run this block__ to \n",
        "#@markdown get arrays of each image.\n",
        "# returns a list of arrays\n",
        "imgs_to_arrays = getArrays(imgCol)\n",
        "print(\"Converted images to arrays\")"
      ],
      "execution_count": null,
      "outputs": []
    },
    {
      "cell_type": "code",
      "metadata": {
        "id": "D9sJyjsi9eCF",
        "cellView": "form"
      },
      "source": [
        "#@title 4.2 View and export collated pixel distributions\n",
        "#@markdown __Run this block__ to iterate through the image collection and convert \n",
        "#@markdown all bins and frequencies to a single Pandas `DataFrame`. \n",
        "#@markdown This returns *bins* (in deg C) in the first column, the image date as \n",
        "#@markdown all subsequent column headers, and the pixel counts within each bin.\n",
        "\n",
        "length_plots = len(imgCol)\n",
        "list_of_dfs = []\n",
        "list_of_uids = []\n",
        "# fig = make_subplots(rows=length_plots, cols=1)\n",
        "for i in imgCol:\n",
        "  uid = (i['properties']['L1_LANDSAT_PRODUCT_ID'])\n",
        "  list_of_uids.append(uid)\n",
        "  histogram = i[\"properties\"].get(\"histogram\")\n",
        "\n",
        "  a = pd.DataFrame(histogram, columns=[\"bin\",uid]).set_index(\"bin\")\n",
        "  # fig.add_histogram()\n",
        "  list_of_dfs.append(a)\n",
        "\n",
        "appended_dfs = pd.concat(list_of_dfs,ignore_index=False, axis=1)\n",
        "transposed_dfs = appended_dfs.T\n",
        "data_table.DataTable(appended_dfs, include_index=True, max_columns=50, max_rows=50, num_rows_per_page=50)"
      ],
      "execution_count": null,
      "outputs": []
    },
    {
      "cell_type": "code",
      "metadata": {
        "id": "70VebGE_KA--",
        "cellView": "form"
      },
      "source": [
        "#@markdown __Run this block__ to export the `DataFrame` as a csv to your Google Drive\n",
        "\n",
        "if not 'output_dir' in globals():\n",
        "  output_dir = \"drive/My Drive/Colab Notebooks/\"\n",
        "out_histo_compiled = os.path.join(output_dir, file_prefix + \"_histograms.csv\")\n",
        "appended_dfs.to_csv(out_histo_compiled)\n",
        "print(\"Export completed:\", out_histo_compiled)"
      ],
      "execution_count": null,
      "outputs": []
    },
    {
      "cell_type": "code",
      "metadata": {
        "id": "2_AbqwwDcT9j",
        "cellView": "form"
      },
      "source": [
        "#@title 4.3 View pixel distribution using `matplotlib`\n",
        "#@markdown __Run this block__ to generate histograms for each lake temperature \n",
        "#@markdown Landsat scene. Each scene is saved as png in a folder 'histograms' in your specified output directory. \n",
        "#@markdown This step can also take some time to run.\n",
        "\n",
        "#print(len(list_of_uids),\" histograms will be generated\")\n",
        "print(\"Start:\", strftime(\"%x %X\"))\n",
        "\n",
        "#make 'histogram' folder in defined directory\n",
        "if not os.path.exists(os.path.join(output_dir, 'histograms')):\n",
        "    os.makedirs(os.path.join(output_dir, 'histograms'))\n",
        "\n",
        "histo_dir = os.path.join(output_dir, 'histograms')\n",
        "\n",
        "print(\"Histograms will be saved at \", histo_dir)\n",
        "\n",
        "histos = appended_dfs\n",
        "#list of scenes\n",
        "scenes = histos.columns\n",
        "histos = pd.DataFrame.transpose(histos) #reorient data\n",
        "#reset index\n",
        "histos = histos.reset_index()\n",
        "histos_vert = histos.melt(id_vars=['index'])\n",
        "\n",
        "#iterate over the scene list\n",
        "for i in range(0, len(scenes)):\n",
        "  df = histos_vert[histos_vert['index'] == scenes[i]]\n",
        "  histoname = os.path.join(histo_dir,scenes[i]+'_histo.png')\n",
        "  plt.bar(x = df.bin, height = df.value)\n",
        "  plt.ylabel('frequency')\n",
        "  plt.xlabel('temperature (deg C)')\n",
        "  plt.title(scenes[i])\n",
        "  plt.savefig(histoname)\n",
        "  print('Saving histogram for Landsat scene ', scenes[i], ' at ', histoname)  \n",
        "  plt.close()\n",
        "\n",
        "print(\"Finish:\", strftime(\"%x %X\"), 'Your histograms should now be visible at ', histo_dir)"
      ],
      "execution_count": null,
      "outputs": []
    },
    {
      "cell_type": "markdown",
      "metadata": {
        "id": "l1sYNsf_ndyG"
      },
      "source": [
        "# **5. Export to CSV**"
      ]
    },
    {
      "cell_type": "code",
      "metadata": {
        "id": "t9STTRpLaRnD",
        "cellView": "form"
      },
      "source": [
        "#@markdown Execute this cell block to export a CSV containing temperature and related image metadata to your Google Drive.\n",
        "\n",
        "def exportWholeLakeStats(img):\n",
        "  img = ee.Image(img).clip(geo)\n",
        "\n",
        "  # retrieve image metadata for output file\n",
        "  landsattime = img.get('system:time_start')\n",
        "  cloudcover = img.get('CLOUD_COVER')\n",
        "  esd = img.get(\"EARTH_SUN_DISTANCE\")\n",
        "  elev = img.get('SUN_ELEVATION')\n",
        "  azi = img.get('SUN_AZIMUTH')\n",
        "  sza = img.get('SOLAR_ZENITH_ANGLE')\n",
        "  count = img.get('pixel_count')\n",
        "  pctAvail = ee.Number(count).divide(lakesurface)\n",
        "  #flags = ee.List([])\n",
        "\n",
        "  # get statistics for skin_temperature\n",
        "  reducers = ee.Reducer.mean().combine(**{\n",
        "      \"reducer2\": ee.Reducer.stdDev(), \"sharedInputs\":True}).combine(**{\n",
        "      \"reducer2\": ee.Reducer.minMax(), \"sharedInputs\":True}).combine(**{\n",
        "      \"reducer2\": ee.Reducer.median(**{\"maxBuckets\":500, \"minBucketWidth\": 0.125}), \"sharedInputs\":True}).combine(**{\n",
        "      \"reducer2\": ee.Reducer.skew(), \"sharedInputs\":True}).combine(**{\n",
        "      \"reducer2\": ee.Reducer.kurtosis(), \"sharedInputs\":True}).combine(**{\n",
        "      \"reducer2\": ee.Reducer.percentile(**{\"percentiles\": [25,75], \"maxBuckets\": 500, \"minBucketWidth\": 0.125}), \"sharedInputs\":True}).combine(**{\n",
        "      \"reducer2\": ee.Reducer.count(), \"sharedInputs\":True})\n",
        "  \n",
        "  stats = img.reduceRegion(**{\n",
        "      \"reducer\": reducers,\n",
        "      \"geometry\": geo,\n",
        "      \"scale\": 30,\n",
        "      \"maxPixels\": 5e9\n",
        "  })\n",
        "  \n",
        "  more_stats = ee.Dictionary({'availablePixels_count':count,\n",
        "                            'datetime_landsat':landsattime,\n",
        "                            'cloudCover_pct':cloudcover,\n",
        "                            #'elev':elev,\n",
        "                            #'azimuth':azi,\n",
        "                            #'esd':esd,\n",
        "                            #'sza':sza,\n",
        "                            'lakeCoverage_pct':pctAvail,\n",
        "                            'datetime_landsat_excelformat':ee.Number(landsattime).divide(1000.0).divide(86400).add(25569)\n",
        "                            })\n",
        "  stats2 = ee.Dictionary.combine(stats, more_stats)\n",
        "\n",
        "  return ee.Feature(None,stats2)\n",
        "\n",
        "temp_stats = countedPixels.map(exportWholeLakeStats)\n",
        "\n",
        "#create the file name with user-specified prefix\n",
        "temp_filename = (file_prefix+'_temp_stats')\n",
        "\n",
        "export_task = ee.batch.Export.table.toDrive(**{\n",
        "    'collection': temp_stats,\n",
        "    'description': temp_filename,\n",
        "    \"fileFormat\": \"CSV\",\n",
        "    'folder': short_dir\n",
        "})\n",
        "\n",
        "print(\"Exporting \", temp_filename+\".csv\")\n",
        "export_task.start()\n",
        "print('Polling for task (id: {}) at'.format(export_task.id))\n",
        "\n",
        "while export_task.active():\n",
        "  print(strftime(\"%x %X\"), export_task.status())\n",
        "  sleep(10)\n",
        "\n",
        "print(\"Finished:\", strftime(\"%x %X\"))\n",
        "\n",
        "print('Export should now be visible in Drive at path:\\n',os.path.join(output_dir, temp_filename + \".csv\"))"
      ],
      "execution_count": null,
      "outputs": []
    },
    {
      "cell_type": "markdown",
      "metadata": {
        "id": "1zhMxo32fmnT"
      },
      "source": [
        "# **6. Pair Landsat with *insitu* data**\n",
        "This next section is optional, but allows you to compare any field data you may have to the Landsat data produced here. This section uses the CSV exported above.<p>\n",
        "In order for this to run successfully, your data must be in CSV format and have the following headers/columns:\n",
        "\n",
        "\n",
        "*  `datetime`: Date and time of each temperature reading in a recognized strftime format\n",
        "*  `temp_degC`: an integer or float number representing temperature in degrees Celcius\n",
        "*  `location`: for in-lake statistics, a column with lake zone names (string format, no special characters); can be all the same for a single output or differentiated by lake zones/sensors\n",
        "* `depth_m`: as an integer or float number, for statistics about the depth of sensors for matched scenes\n",
        "\n",
        "The file may have additional columns, but the above are mandatory fields. To see an example dataset, click here. \n"
      ]
    },
    {
      "cell_type": "markdown",
      "metadata": {
        "id": "APg3jpUagGTf"
      },
      "source": [
        "## 6.1 Upload CSV of *insitu* data\n",
        "Choose an option below. For more ways to import data, see [here](https://colab.research.google.com/notebooks/io.ipynb)  "
      ]
    },
    {
      "cell_type": "code",
      "metadata": {
        "id": "P0Gg7oRYPGqF",
        "cellView": "form"
      },
      "source": [
        "#@title Please provide some information about your data\n",
        "#@markdown What timezone is your data? <a href=\"https://en.wikipedia.org/wiki/List_of_tz_database_time_zones\" target=\"_blank\">Olson Times Wikipedia Page</a> Specifically, you need to indicate the UTC offset for your data for proper pairing, including whether or not your data timestamp observes Daylight Savings Time. Enter the text for the matching UTC offset and DST behavior from the 'TZ database name' column in the linked table. Note that the sign of the GMT offset is intentionally inverted from the UTC offset.\n",
        "insitu_timezone = \"\" #@param {type:\"string\"}\n",
        "#@markdown How is your datetime formatted? Please use <a href='https://strftime.org/' target='_blank'>strftime</a> format.\n",
        "datetime_format = \"%Y-%m-%d %H:%M:%S\" #@param {type:\"string\"}"
      ],
      "execution_count": null,
      "outputs": []
    },
    {
      "cell_type": "code",
      "metadata": {
        "id": "7X-Eyd1aFf7_",
        "cellView": "form"
      },
      "source": [
        "#@title Option 1: Link to raw CSV from Github\n",
        "pasted_path = \"\" #@param {type:\"string\"}\n",
        "\n",
        "is_df = pd.read_csv(pasted_path)\n",
        "#is_df[\"datetime\"] = pd.to_datetime(is_df[\"datetime\"])\n",
        "print(\"dataframe created\")"
      ],
      "execution_count": null,
      "outputs": []
    },
    {
      "cell_type": "code",
      "metadata": {
        "cellView": "form",
        "id": "oBcVtwu42-hG"
      },
      "source": [
        "#@title Option 2: Upload CSV from your Google Drive folder\n",
        "#@markdown using the folder icon on the left hand side, navigate to the file in\n",
        "#@markdown your Google Drive (named 'drive' here), click on the three vertical dots to the right of the file\n",
        "#@markdown and click on 'copy file path'. Paste the copied path below.\n",
        "\n",
        "pasted_path = \"\" #@param {type:\"string\"}\n",
        "\n",
        "is_df = pd.read_csv(pasted_path)\n",
        "print(\"dataframe created\")"
      ],
      "execution_count": null,
      "outputs": []
    },
    {
      "cell_type": "code",
      "metadata": {
        "id": "vHul1TwpD-go",
        "cellView": "form"
      },
      "source": [
        "#@title Option 3: Upload CSV from your local file system to Colab\n",
        "#@markdown (this is temporary while connected to the current Colab runtime session)<br>\n",
        "#@markdown Run this cell to upload a file\n",
        "uploaded = files.upload()\n",
        "for fn in uploaded.keys():\n",
        "  print(\"Paste this in the box below:\\n/content/{name}\".format(name=fn))\n"
      ],
      "execution_count": null,
      "outputs": []
    },
    {
      "cell_type": "code",
      "metadata": {
        "id": "52agyeVcKb8Z",
        "cellView": "form"
      },
      "source": [
        "pasted_path = \"\" #@param {type:\"string\"}\n",
        "\n",
        "is_df = pd.read_csv(pasted_path)\n",
        "print(\"dataframe created\")"
      ],
      "execution_count": null,
      "outputs": []
    },
    {
      "cell_type": "markdown",
      "metadata": {
        "id": "JnJU34MEO1c-"
      },
      "source": [
        "## 6.2 Pair *insitu* data with Landsat data"
      ]
    },
    {
      "cell_type": "code",
      "metadata": {
        "id": "Xh155YwkBSlc",
        "cellView": "form"
      },
      "source": [
        "#@title Convert local datetime to UTC time\n",
        "#@markdown __Run this block__ to apply conversion of your specified local time to UTC time. \n",
        "insitu_tz = pytz.timezone(insitu_timezone)\n",
        "landsat_tz = pytz.timezone(\"UTC\")\n",
        "\n",
        "def convert_datetime(dt, dtformat=datetime_format):\n",
        "  #converts string format insitu time to a datetime obj\n",
        "  dto = datetime.strptime(dt, datetime_format)\n",
        "  #makes it time aware\n",
        "  dto_local = insitu_tz.localize(dto)\n",
        "  #converts to utc\n",
        "  dto_utc = dto_local.astimezone(landsat_tz)\n",
        "  return dto_utc\n",
        "\n",
        "dtobj_series = is_df['datetime']\n",
        "dtobj_series_conv = dtobj_series.apply(convert_datetime)\n",
        "is_df['datetime_utc'] = dtobj_series_conv\n",
        "\n",
        "print(\"\\nDate/time function imported and datetime converted in dataframe\", strftime(\"%x %X\"))"
      ],
      "execution_count": null,
      "outputs": []
    },
    {
      "cell_type": "code",
      "metadata": {
        "id": "O2csZXUp0Zlo",
        "cellView": "form"
      },
      "source": [
        "#@markdown Enter the window of time (in minutes) from Landsat flyover where *insitu* data should be included. For example, `timewindow = 30` will include any data within 60 minutes of Landsat flyover (+/- 30 minutes)\n",
        "timewindow = 30 #@param {type:\"number\"\n",
        "\n",
        "cwd = output_dir\n",
        "os.chdir(cwd)\n",
        "\n",
        "outfile = (file_prefix + \"_temp_landsat_paired.csv\")\n",
        "\n",
        "print(f\"Time window: +- {timewindow} minutes\")\n",
        "print(f\"In-situ time Zone: {insitu_timezone}\")\n",
        "print(\"\\nLandsat input file:\\n\", os.path.join(cwd,temp_filename+\".csv\"))\n",
        "print(\"\\nOutput file will be saved to:\\n\", os.path.join(cwd,outfile))\n",
        "\n",
        "min_sec = timewindow * 60\n"
      ],
      "execution_count": null,
      "outputs": []
    },
    {
      "cell_type": "markdown",
      "source": [
        ""
      ],
      "metadata": {
        "id": "M1JcWlMREbK7"
      }
    },
    {
      "cell_type": "code",
      "metadata": {
        "id": "XYfj7ThEZsFl",
        "cellView": "form"
      },
      "source": [
        "#@markdown The following codeblock compares the datasets and generate statistics \n",
        "#@markdown for in-lake data that matches Landsat flyovers.<br> \n",
        "#@markdown It also uses a subfolder called 'ancillary' (and creates the folder if needed) \n",
        "#@markdown that keeps a record of any insitu data points that are used for each Landsat scene.\n",
        "#@markdown If you have a large number of scenes to pair and/or a large dataframe of\n",
        "#@markdown in-situ data, this step may take some time. Timestamps that print below are \n",
        "#@markdown the Landast scene acquisition times where there are in-situ matches.\n",
        "\n",
        "print(\"Start:\", strftime(\"%x %X\"))\n",
        "file_name = (output_dir + '/' + temp_filename + '.csv')\n",
        "gee_csv = pd.read_csv(file_name)\n",
        "insitu_csv = is_df\n",
        "\n",
        "#make 'ancillary' folder in defined directory\n",
        "if not os.path.exists(os.path.join(cwd, 'ancillary')):\n",
        "    os.makedirs(os.path.join(cwd, 'ancillary'))\n",
        "print('Matched records files will be visible at ', cwd+ '/ancillary')\n",
        "\n",
        "#filter GEE output so that it's only as recent as minimum in-situ data\n",
        "insitumin = min(insitu_csv.datetime_utc)\n",
        "insitumax = max(insitu_csv.datetime_utc)\n",
        "\n",
        "def conv_lstime(i):\n",
        "  return pd.Timestamp(i, unit = 'ms', tz = 'utc')\n",
        "\n",
        "gee_csv['landsat_time_utc'] = gee_csv.datetime_landsat.apply(conv_lstime)\n",
        "\n",
        "gee_overlap = gee_csv[gee_csv.landsat_time_utc>insitumin]\n",
        "gee_overlap_fin = gee_overlap[gee_overlap.landsat_time_utc<insitumax]\n",
        "#reindex filtered dataset\n",
        "gee_overlap_fin = gee_overlap_fin.reset_index(drop=True)\n",
        "\n",
        "gee_datelist = gee_overlap_fin[\"landsat_time_utc\"]\n",
        "\n",
        "# function to convert dt_delta to seconds\n",
        "def delta_tosec(i):\n",
        "  total_secs = i.seconds + i.days*24*60*60\n",
        "  return total_secs\n",
        "\n",
        "for i in range(0,len(gee_datelist)):\n",
        "  scene = gee_overlap_fin['system:index'][i][-20:]\n",
        "  landsattime = gee_overlap_fin['landsat_time_utc'][i]\n",
        "\n",
        "  # create a df of insitu data that are observed within the user-specified cutoff \n",
        "\n",
        "  #calculate time delta for each obs\n",
        "  insitu_csv['dt_delta'] = landsattime - insitu_csv['datetime_utc']\n",
        "  insitu_csv['delta_secs'] = insitu_csv.dt_delta.apply(delta_tosec)  \n",
        "  same_time = insitu_csv[(abs(insitu_csv.delta_secs) <= min_sec)]\n",
        "  \n",
        "  #if the dataframe is not empty, summarize the results\n",
        "  if same_time.shape[0]>0:\n",
        "    print(landsattime)\n",
        "    gee_overlap_fin.loc[i, \"scene\"] = scene\n",
        "    gee_overlap_fin.loc[i, \"is_temp_avg\"] = same_time[\"temp_degC\"].mean()\n",
        "    gee_overlap_fin.loc[i, \"is_temp_stdev\"] = same_time[\"temp_degC\"].std()\n",
        "    gee_overlap_fin.loc[i, \"is_depth_avg\"] = same_time[\"depth_m\"].mean()\n",
        "    gee_overlap_fin.loc[i, \"is_depth_stdev\"] = same_time[\"depth_m\"].std()\n",
        "    gee_overlap_fin.loc[i, \"is_temp_med\"] = same_time[\"temp_degC\"].median()\n",
        "    gee_overlap_fin.loc[i, \"insitu_count\"] = same_time.shape[0]\n",
        "\n",
        "    site_stats = same_time.groupby(['location'])['temp_degC'].agg(['median', 'mean', 'std', 'count'])\n",
        "\n",
        "    sites = site_stats.axes[0]\n",
        "    stats = site_stats.axes[1]\n",
        "\n",
        "    for site in sites:\n",
        "        for stat in stats:\n",
        "            newcol = \"{0}_{1}\".format(str(site), str(stat))\n",
        "            gee_overlap_fin.loc[i, newcol] = site_stats[stat][site].item()\n",
        "\n",
        "    if same_time.shape[0] > 0:\n",
        "        same_time.to_csv(os.path.join(cwd, 'ancillary', scene + \".csv\"))\n",
        "\n",
        "out_csv = gee_overlap_fin[gee_overlap_fin[\"insitu_count\"] > 0]\n",
        "out_csv.to_csv(os.path.join(cwd, outfile))\n",
        "(\"Finished:\", strftime(\"%x %X\"))"
      ],
      "execution_count": null,
      "outputs": []
    },
    {
      "cell_type": "markdown",
      "metadata": {
        "id": "Cz3nZJqn7R5G"
      },
      "source": [
        "##You are all set. Now go analyze your lake surface temperature data!\n",
        "\n"
      ]
    }
  ]
}